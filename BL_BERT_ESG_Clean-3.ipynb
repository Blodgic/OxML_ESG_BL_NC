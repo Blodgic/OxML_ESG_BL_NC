{
 "cells": [
  {
   "cell_type": "code",
   "execution_count": 32,
   "metadata": {
    "colab": {
     "base_uri": "https://localhost:8080/"
    },
    "id": "RTc7qdszaoog",
    "outputId": "822d2409-85a0-4ece-b9ab-b08df69f1dfb"
   },
   "outputs": [],
   "source": [
    "# from google.colab import drive\n",
    "# drive.mount('/content/drive')"
   ]
  },
  {
   "cell_type": "markdown",
   "metadata": {
    "id": "LmWaNvJYmjoW"
   },
   "source": [
    "Code mixed from https://towardsdatascience.com/text-classification-with-bert-in-pytorch-887965e5820f and https://www.tensorflow.org/text/tutorials/classify_text_with_bert#define_your_model"
   ]
  },
  {
   "cell_type": "markdown",
   "metadata": {
    "id": "GxT_Ys9EarYo"
   },
   "source": [
    "# Install Dependencies"
   ]
  },
  {
   "cell_type": "code",
   "execution_count": 33,
   "metadata": {
    "id": "2RhLtEU3af_k"
   },
   "outputs": [],
   "source": [
    "#!pip install transformers\n",
    "\n",
    "from transformers import BertTokenizer\n",
    "import torch\n",
    "from torch import nn\n",
    "from transformers import BertModel\n",
    "\n",
    "import numpy as np\n",
    "import pandas as pd\n",
    "from sklearn.model_selection import train_test_split"
   ]
  },
  {
   "cell_type": "code",
   "execution_count": 34,
   "metadata": {
    "id": "ssizrOXHkQD-"
   },
   "outputs": [],
   "source": [
    "np.random.seed(123)"
   ]
  },
  {
   "cell_type": "code",
   "execution_count": 35,
   "metadata": {
    "colab": {
     "base_uri": "https://localhost:8080/",
     "height": 113,
     "referenced_widgets": [
      "716819aea6854ec3a4a86b3e72224908",
      "05fc171a23934bfaba6368dcbc06d421",
      "7ddd963fbc814ac3990fc99c9b3e027e",
      "7868c9ebcddb4eac8906ed280e2be189",
      "23c63a520fb545cf84440ecf6501fbe6",
      "60bc8e5c33dc48f1aac47126b08da09f",
      "16f8726a04ee4b8bbd7d256b164cd8df",
      "f9ec6ec0f1ba4dd588c5de02d1c81be2",
      "6d38d47e83e94abfafcd06adf1179fbf",
      "72e34a061bd34d58bcf747f87db74637",
      "d16e2357e7134e648a8227febeb915ba",
      "84ac6512d34d4ce7980421be3aeb8627",
      "6a1020d6f31b4141b5c5a385e8fe1fc4",
      "27fea4e3c8f04d3481fff73f3c8d9d57",
      "5c60ce11fd344a08ba97804e484c36a3",
      "ceb7919e1429402d94e79cf3c757a8e1",
      "d97b54429558442d95d4aff0765a617f",
      "9be7a0159e674dbab74c6b69fdf0f8ff",
      "33984d5fd63744ea9524a90118593410",
      "15c5112d5ccf48edb9fefce4700b7f01",
      "98100c3ab97d4d3281c2d7b385b013cc",
      "4082f844c52045e08c0c1ce0d973a235",
      "769bc1203f7742dbbf8cdfa2e74b67ab",
      "b4c755e0322e413f96490d9280e9fad7",
      "de0f66ddba4c49b9ba0decb1dc30cca5",
      "d303d2118cbd4fbda8997fd19e181f52",
      "3979c9e2678e4c9297f550ed580eb961",
      "4c02aa12fbd949ee9bb895181868e724",
      "e3a53e56e56147bd97868b54cea168a4",
      "904529cbf689409db74e57531cc13015",
      "324d22b24d8e45d3a60e8b7b6e11cd3e",
      "a88d68688cb248cfae8599e5f535e28c",
      "3616c353cac84276b2df1e677b599e3b"
     ]
    },
    "id": "ezCZqIfxbadj",
    "outputId": "08334be6-15ae-458d-c7a0-5825d1782747"
   },
   "outputs": [],
   "source": [
    "# Turn texts to strings of tokens\n",
    "tokenizer = BertTokenizer.from_pretrained('bert-large-cased')"
   ]
  },
  {
   "cell_type": "markdown",
   "metadata": {
    "id": "k6VnrDjpbOE1"
   },
   "source": [
    "# Build A Dataset: OxML Data and Environmental Data"
   ]
  },
  {
   "cell_type": "markdown",
   "metadata": {
    "id": "H2cwuvHjkA0f"
   },
   "source": [
    "We can play around with encoding the whole text or just paragraphs at a time (aggregating/maxxing out over the per-paragraph predictions). The code for getting the env_lis_2 data is in the Sweep version of this notebook."
   ]
  },
  {
   "cell_type": "code",
   "execution_count": 36,
   "metadata": {
    "id": "UjawpXo5anls"
   },
   "outputs": [
    {
     "name": "stdout",
     "output_type": "stream",
     "text": [
      "length of OG train\n",
      "1956\n",
      "new length\n",
      "2472\n"
     ]
    }
   ],
   "source": [
    "# Get OxML texts\n",
    "my_file = open('oxml_esg_texts.txt', \"r\")\n",
    "data = my_file.read()\n",
    "texts = data.split(\"unique_linebreak \\n\")\n",
    "my_file.close()\n",
    "\n",
    "# Get ESG labels\n",
    "df = pd.read_csv('oxml2023mlcases-esg-classifier/data/labels.csv')\n",
    "print(\"length of OG train\")\n",
    "print(len(df))\n",
    "\n",
    "labels = {\n",
    "    'governance': 0,\n",
    "    'social': 1,\n",
    "    'environmental': 2,\n",
    "    'other': 3\n",
    "}\n",
    "\n",
    "# Add text column to label dataframe\n",
    "df['text'] = texts[:-1]\n",
    "\n",
    "''' -------------------------------------------------------------------- '''\n",
    "\n",
    "\n",
    "\n",
    "''' -------------------------------------------------------------------- '''\n",
    "\n",
    "# Get extra environmental texts\n",
    "my_file = open('Data/HF_Chatbot_Environmental_6.15.23.txt', \"r\")\n",
    "data = my_file.read()\n",
    "env_texts = data.split(\"\\n\")\n",
    "my_file.close()\n",
    "\n",
    "# Create environmental labels for extra texts\n",
    "env_labels = ['environmental'] * len(env_texts)\n",
    "\n",
    "# Add extra environmental texts to working dataframe\n",
    "for i, j in zip(env_texts, env_labels):\n",
    "    df = df.append({'text': i, 'class': j}, ignore_index=True)\n",
    "\n",
    "''' -------------------------------------------------------------------- '''\n",
    "\n",
    "# Get extra social texts\n",
    "my_file = open('Data/HF_Chatbot_Social_6.14.23.txt', \"r\")\n",
    "data = my_file.read()\n",
    "social_texts = data.split(\"\\n\")\n",
    "my_file.close()\n",
    "\n",
    "# Create social labels for extra texts\n",
    "social_labels = ['social'] * len(social_texts)\n",
    "\n",
    "# Add extra social texts to working dataframe\n",
    "for i, j in zip(social_texts, social_labels):\n",
    "    df = df.append({'text': i, 'class': j}, ignore_index=True)\n",
    "\n",
    "''' -------------------------------------------------------------------- '''\n",
    "\n",
    "# Get extra other texts\n",
    "my_file = open('Data/HF_Chatbot_Other.txt', \"r\")\n",
    "data = my_file.read()\n",
    "other_texts = data.split(\"\\n\")\n",
    "my_file.close()\n",
    "\n",
    "# Create social labels for extra texts\n",
    "other_labels = ['other'] * len(other_texts)\n",
    "\n",
    "# Add extra social texts to working dataframe\n",
    "for i, j in zip(other_texts, other_labels):\n",
    "    df = df.append({'text': i, 'class': j}, ignore_index=True)\n",
    "\n",
    "''' -------------------------------------------------------------------- '''\n",
    "\n",
    "# Get extra governance texts\n",
    "my_file = open('Data/HF_Chatbot_Governance.txt', \"r\")\n",
    "data = my_file.read()\n",
    "gov_texts = data.split(\"\\n\")\n",
    "my_file.close()\n",
    "\n",
    "# Create social labels for extra texts\n",
    "gov_labels = ['governance'] * len(gov_texts)\n",
    "\n",
    "# Add extra social texts to working dataframe\n",
    "for i, j in zip(gov_texts, gov_labels):\n",
    "    df = df.append({'text': i, 'class': j}, ignore_index=True)\n",
    "print(\"new length\")\n",
    "print(len(df))"
   ]
  },
  {
   "cell_type": "code",
   "execution_count": 37,
   "metadata": {},
   "outputs": [],
   "source": [
    "#training cleanup"
   ]
  },
  {
   "cell_type": "code",
   "execution_count": 38,
   "metadata": {},
   "outputs": [],
   "source": [
    "df['text'] = df['text'].replace(r'\\n','', regex=True) "
   ]
  },
  {
   "cell_type": "code",
   "execution_count": 39,
   "metadata": {},
   "outputs": [
    {
     "data": {
      "text/html": [
       "<div>\n",
       "<style scoped>\n",
       "    .dataframe tbody tr th:only-of-type {\n",
       "        vertical-align: middle;\n",
       "    }\n",
       "\n",
       "    .dataframe tbody tr th {\n",
       "        vertical-align: top;\n",
       "    }\n",
       "\n",
       "    .dataframe thead th {\n",
       "        text-align: right;\n",
       "    }\n",
       "</style>\n",
       "<table border=\"1\" class=\"dataframe\">\n",
       "  <thead>\n",
       "    <tr style=\"text-align: right;\">\n",
       "      <th></th>\n",
       "      <th>id</th>\n",
       "      <th>class</th>\n",
       "      <th>text</th>\n",
       "    </tr>\n",
       "  </thead>\n",
       "  <tbody>\n",
       "    <tr>\n",
       "      <th>2000</th>\n",
       "      <td>NaN</td>\n",
       "      <td>environmental</td>\n",
       "      <td>On our quest for excellence, we engage experie...</td>\n",
       "    </tr>\n",
       "    <tr>\n",
       "      <th>2001</th>\n",
       "      <td>NaN</td>\n",
       "      <td>environmental</td>\n",
       "      <td>Anticipating future regulations, we continuous...</td>\n",
       "    </tr>\n",
       "    <tr>\n",
       "      <th>2002</th>\n",
       "      <td>NaN</td>\n",
       "      <td>environmental</td>\n",
       "      <td>Investing in emerging technologies enables us ...</td>\n",
       "    </tr>\n",
       "    <tr>\n",
       "      <th>2003</th>\n",
       "      <td>NaN</td>\n",
       "      <td>environmental</td>\n",
       "      <td>Sharing transparent information regarding expe...</td>\n",
       "    </tr>\n",
       "    <tr>\n",
       "      <th>2004</th>\n",
       "      <td>NaN</td>\n",
       "      <td>environmental</td>\n",
       "      <td>Dedicated R&amp;D programs drive incremental impro...</td>\n",
       "    </tr>\n",
       "    <tr>\n",
       "      <th>2005</th>\n",
       "      <td>NaN</td>\n",
       "      <td>environmental</td>\n",
       "      <td>Collaborative initiatives like exchanging best...</td>\n",
       "    </tr>\n",
       "    <tr>\n",
       "      <th>2006</th>\n",
       "      <td>NaN</td>\n",
       "      <td>environmental</td>\n",
       "      <td>Regular independent verification of emission p...</td>\n",
       "    </tr>\n",
       "    <tr>\n",
       "      <th>2007</th>\n",
       "      <td>NaN</td>\n",
       "      <td>environmental</td>\n",
       "      <td></td>\n",
       "    </tr>\n",
       "    <tr>\n",
       "      <th>2008</th>\n",
       "      <td>NaN</td>\n",
       "      <td>environmental</td>\n",
       "      <td>Mining plays a crucial role in the world econo...</td>\n",
       "    </tr>\n",
       "    <tr>\n",
       "      <th>2009</th>\n",
       "      <td>NaN</td>\n",
       "      <td>environmental</td>\n",
       "      <td>However, mining activities have significant im...</td>\n",
       "    </tr>\n",
       "    <tr>\n",
       "      <th>2010</th>\n",
       "      <td>NaN</td>\n",
       "      <td>environmental</td>\n",
       "      <td>Minimizing these negative effects requires car...</td>\n",
       "    </tr>\n",
       "    <tr>\n",
       "      <th>2011</th>\n",
       "      <td>NaN</td>\n",
       "      <td>environmental</td>\n",
       "      <td>Biodiversity loss, deforestation, erosion, and...</td>\n",
       "    </tr>\n",
       "    <tr>\n",
       "      <th>2012</th>\n",
       "      <td>NaN</td>\n",
       "      <td>environmental</td>\n",
       "      <td>Ensuring the responsible use of resources is v...</td>\n",
       "    </tr>\n",
       "    <tr>\n",
       "      <th>2013</th>\n",
       "      <td>NaN</td>\n",
       "      <td>environmental</td>\n",
       "      <td>Sustainable mining involves identifying ways t...</td>\n",
       "    </tr>\n",
       "    <tr>\n",
       "      <th>2014</th>\n",
       "      <td>NaN</td>\n",
       "      <td>environmental</td>\n",
       "      <td>Reclamation programs address post-mining lands...</td>\n",
       "    </tr>\n",
       "    <tr>\n",
       "      <th>2015</th>\n",
       "      <td>NaN</td>\n",
       "      <td>environmental</td>\n",
       "      <td>Strict environmental regulations and monitorin...</td>\n",
       "    </tr>\n",
       "    <tr>\n",
       "      <th>2016</th>\n",
       "      <td>NaN</td>\n",
       "      <td>environmental</td>\n",
       "      <td>The integration of renewable energy sources in...</td>\n",
       "    </tr>\n",
       "    <tr>\n",
       "      <th>2017</th>\n",
       "      <td>NaN</td>\n",
       "      <td>environmental</td>\n",
       "      <td>Collaborative research, innovation, and knowle...</td>\n",
       "    </tr>\n",
       "    <tr>\n",
       "      <th>2018</th>\n",
       "      <td>NaN</td>\n",
       "      <td>social</td>\n",
       "      <td>\"At [Company Name], we believe that true innov...</td>\n",
       "    </tr>\n",
       "    <tr>\n",
       "      <th>2019</th>\n",
       "      <td>NaN</td>\n",
       "      <td>social</td>\n",
       "      <td></td>\n",
       "    </tr>\n",
       "  </tbody>\n",
       "</table>\n",
       "</div>"
      ],
      "text/plain": [
       "       id          class                                               text\n",
       "2000  NaN  environmental  On our quest for excellence, we engage experie...\n",
       "2001  NaN  environmental  Anticipating future regulations, we continuous...\n",
       "2002  NaN  environmental  Investing in emerging technologies enables us ...\n",
       "2003  NaN  environmental  Sharing transparent information regarding expe...\n",
       "2004  NaN  environmental  Dedicated R&D programs drive incremental impro...\n",
       "2005  NaN  environmental  Collaborative initiatives like exchanging best...\n",
       "2006  NaN  environmental  Regular independent verification of emission p...\n",
       "2007  NaN  environmental                                                   \n",
       "2008  NaN  environmental  Mining plays a crucial role in the world econo...\n",
       "2009  NaN  environmental  However, mining activities have significant im...\n",
       "2010  NaN  environmental  Minimizing these negative effects requires car...\n",
       "2011  NaN  environmental  Biodiversity loss, deforestation, erosion, and...\n",
       "2012  NaN  environmental  Ensuring the responsible use of resources is v...\n",
       "2013  NaN  environmental  Sustainable mining involves identifying ways t...\n",
       "2014  NaN  environmental  Reclamation programs address post-mining lands...\n",
       "2015  NaN  environmental  Strict environmental regulations and monitorin...\n",
       "2016  NaN  environmental  The integration of renewable energy sources in...\n",
       "2017  NaN  environmental  Collaborative research, innovation, and knowle...\n",
       "2018  NaN         social  \"At [Company Name], we believe that true innov...\n",
       "2019  NaN         social                                                   "
      ]
     },
     "execution_count": 39,
     "metadata": {},
     "output_type": "execute_result"
    }
   ],
   "source": [
    "df[2000:2020]"
   ]
  },
  {
   "cell_type": "code",
   "execution_count": 40,
   "metadata": {},
   "outputs": [
    {
     "name": "stdout",
     "output_type": "stream",
     "text": [
      "2472\n"
     ]
    }
   ],
   "source": [
    "print(len(df))"
   ]
  },
  {
   "cell_type": "code",
   "execution_count": 41,
   "metadata": {},
   "outputs": [],
   "source": [
    "#drop empties\n",
    "df['text'].replace('', np.nan, inplace=True)\n",
    "df.dropna(subset=['text'], inplace=True)"
   ]
  },
  {
   "cell_type": "code",
   "execution_count": 42,
   "metadata": {},
   "outputs": [
    {
     "name": "stdout",
     "output_type": "stream",
     "text": [
      "2415\n"
     ]
    }
   ],
   "source": [
    "print(len(df))"
   ]
  },
  {
   "cell_type": "code",
   "execution_count": 43,
   "metadata": {
    "id": "oLgOASkcun09"
   },
   "outputs": [
    {
     "name": "stdout",
     "output_type": "stream",
     "text": [
      "The dataframe has 2415 columns\n"
     ]
    }
   ],
   "source": [
    "print(\"The dataframe has {} columns\".format(len(df)))"
   ]
  },
  {
   "cell_type": "code",
   "execution_count": 44,
   "metadata": {},
   "outputs": [],
   "source": [
    "df.to_csv('training_clean.csv')"
   ]
  },
  {
   "cell_type": "code",
   "execution_count": null,
   "metadata": {},
   "outputs": [],
   "source": [
    "#import new training data\n"
   ]
  },
  {
   "cell_type": "code",
   "execution_count": 45,
   "metadata": {
    "id": "DPq1-znvhcUZ"
   },
   "outputs": [],
   "source": [
    "# could change max length back to 512\n",
    "\n",
    "class Dataset(torch.utils.data.Dataset):\n",
    "\n",
    "    def __init__(self, df):\n",
    "\n",
    "        self.labels = [labels[l] for l in df['class']]\n",
    "        self.texts = [tokenizer(text,\n",
    "                               padding='max_length', max_length = 64, truncation=True,\n",
    "                                return_tensors=\"pt\") for text in df['text']]\n",
    "\n",
    "    def classes(self):\n",
    "        return self.labels\n",
    "\n",
    "    def __len__(self):\n",
    "        return len(self.labels)\n",
    "\n",
    "    def get_batch_labels(self, idx):\n",
    "        # Fetch a batch of labels\n",
    "        return np.array(self.labels[idx])\n",
    "\n",
    "    def get_batch_texts(self, idx):\n",
    "        # Fetch a batch of inputs\n",
    "        return self.texts[idx]\n",
    "\n",
    "    def __getitem__(self, idx):\n",
    "\n",
    "        batch_texts = self.get_batch_texts(idx)\n",
    "        batch_y = self.get_batch_labels(idx)\n",
    "\n",
    "        return batch_texts, batch_y # -> a batch of tokenized texts and the corresponding labels"
   ]
  },
  {
   "cell_type": "code",
   "execution_count": 46,
   "metadata": {},
   "outputs": [],
   "source": [
    "#remove stop words from content\n",
    "from nltk.corpus import stopwords\n",
    "\n",
    "final_stopwords_list = stopwords.words('english') + stopwords.words('french')\n",
    "# Exclude stopwords with Python's list comprehension and pandas.DataFrame.apply.\n",
    "df['text'] = df['text'].apply(lambda x: ' '.join([word for word in x.split() if word not in (final_stopwords_list)]))\n"
   ]
  },
  {
   "cell_type": "code",
   "execution_count": 47,
   "metadata": {},
   "outputs": [
    {
     "data": {
      "text/html": [
       "<div>\n",
       "<style scoped>\n",
       "    .dataframe tbody tr th:only-of-type {\n",
       "        vertical-align: middle;\n",
       "    }\n",
       "\n",
       "    .dataframe tbody tr th {\n",
       "        vertical-align: top;\n",
       "    }\n",
       "\n",
       "    .dataframe thead th {\n",
       "        text-align: right;\n",
       "    }\n",
       "</style>\n",
       "<table border=\"1\" class=\"dataframe\">\n",
       "  <thead>\n",
       "    <tr style=\"text-align: right;\">\n",
       "      <th></th>\n",
       "      <th>id</th>\n",
       "      <th>class</th>\n",
       "      <th>text</th>\n",
       "    </tr>\n",
       "  </thead>\n",
       "  <tbody>\n",
       "    <tr>\n",
       "      <th>0</th>\n",
       "      <td>report_519.pdf.53</td>\n",
       "      <td>governance</td>\n",
       "      <td>2021 ESG Impact Report Data privacy, security,...</td>\n",
       "    </tr>\n",
       "  </tbody>\n",
       "</table>\n",
       "</div>"
      ],
      "text/plain": [
       "                  id       class  \\\n",
       "0  report_519.pdf.53  governance   \n",
       "\n",
       "                                                text  \n",
       "0  2021 ESG Impact Report Data privacy, security,...  "
      ]
     },
     "execution_count": 47,
     "metadata": {},
     "output_type": "execute_result"
    }
   ],
   "source": [
    "df.head(1)"
   ]
  },
  {
   "cell_type": "code",
   "execution_count": 48,
   "metadata": {},
   "outputs": [],
   "source": [
    "#rename columns \n",
    "# df = df[['id','class','content_without_stopwords']]\n",
    "# df = df.rename(columns={'content_without_stopwords': 'text'})\n"
   ]
  },
  {
   "cell_type": "code",
   "execution_count": 49,
   "metadata": {
    "colab": {
     "base_uri": "https://localhost:8080/"
    },
    "id": "ClJLTU04mF8l",
    "outputId": "dbf7e69e-38a7-464f-f744-4b263ac7eb0d"
   },
   "outputs": [
    {
     "name": "stdout",
     "output_type": "stream",
     "text": [
      "1811 604\n"
     ]
    }
   ],
   "source": [
    "#Split the data into train and test\n",
    "df_train, df_val = train_test_split(df, test_size=0.25, shuffle=True)\n",
    "\n",
    "print(len(df_train), len(df_val))"
   ]
  },
  {
   "cell_type": "code",
   "execution_count": 25,
   "metadata": {},
   "outputs": [],
   "source": [
    "# from sklearn import preprocessing\n",
    "# from sklearn.feature_extraction.text import TfidfVectorizer\n",
    "# from sklearn.model_selection import train_test_split"
   ]
  },
  {
   "cell_type": "code",
   "execution_count": 26,
   "metadata": {},
   "outputs": [],
   "source": [
    "# # Use TF-IDF to vectorize each document\n",
    "# vectorizer = TfidfVectorizer(max_df=0.8,\n",
    "#   max_features=200000,\n",
    "#   min_df=0.2,\n",
    "#   stop_words=final_stopwords_list,\n",
    "#   use_idf=True,\n",
    "#   #tokenizer=tokenize_and_stem,\n",
    "#   ngram_range=(1,3))\n",
    "# df_train = vectorizer.fit_transform([x for x in df_train])\n",
    "# df_val = vectorizer.transform([x for x in df_val])"
   ]
  },
  {
   "cell_type": "markdown",
   "metadata": {
    "id": "7IZByOCQm40M"
   },
   "source": [
    "# Build A BERT Classification Model\n",
    "This is just layering a linear classifier on top of BERT, so we can grab its embedded class token and pass that through the classifier."
   ]
  },
  {
   "cell_type": "code",
   "execution_count": 50,
   "metadata": {
    "id": "A9E0yANbl-Iu"
   },
   "outputs": [],
   "source": [
    "# Original classifier idea\n",
    "class BertClassifier(nn.Module):\n",
    "  def __init__(self, dropout=0.5):\n",
    "\n",
    "    super(BertClassifier, self).__init__()\n",
    "\n",
    "    self.bert = BertModel.from_pretrained('bert-base-cased')\n",
    "    self.dropout = nn.Dropout(dropout)\n",
    "    self.linear = nn.Linear(768, 4) # -> input is a pooled 768-dim class embedding vector from transformer, and output is 4 classes\n",
    "    self.relu = nn.ReLU()\n",
    "\n",
    "  def forward(self, input_id, mask):\n",
    "    # _ contains embedding vectors for all tokens in a sequence, and out contains the embedding vector of the class token for that sequence\n",
    "    _, out = self.bert(input_ids=input_id, attention_mask=mask, return_dict=False)\n",
    "\n",
    "    # the embedding vector for the class token gets passed through these layers for classification\n",
    "    out = self.dropout(out)\n",
    "    out = self.linear(out)\n",
    "    out = self.relu(out)\n",
    "\n",
    "    return out"
   ]
  },
  {
   "cell_type": "markdown",
   "metadata": {
    "id": "YArdXJTKpEvL"
   },
   "source": [
    "# Train the Classification Model"
   ]
  },
  {
   "cell_type": "code",
   "execution_count": 51,
   "metadata": {
    "id": "YrhKw0WUpLQm"
   },
   "outputs": [],
   "source": [
    "from torch.optim import Adam\n",
    "from tqdm import tqdm\n",
    "from sklearn.metrics import f1_score"
   ]
  },
  {
   "cell_type": "code",
   "execution_count": 52,
   "metadata": {
    "id": "rZFyj9W6xGjQ"
   },
   "outputs": [],
   "source": [
    "def get_f1(labels, preds):\n",
    "  avg = []\n",
    "\n",
    "  for i, j in zip(labels, preds):\n",
    "    f1 = f1_score(i, j, labels=np.unique(j), average='macro')\n",
    "    avg.append(f1)\n",
    "\n",
    "  total_f1 = sum(avg)/len(avg)\n",
    "\n",
    "  return total_f1"
   ]
  },
  {
   "cell_type": "code",
   "execution_count": 53,
   "metadata": {
    "id": "O9vEITrgpHMN"
   },
   "outputs": [],
   "source": [
    "def train(model, train_data, val_data, learning_rate, epochs):\n",
    "\n",
    "  # set up datasets\n",
    "  train, val = Dataset(train_data), Dataset(val_data)\n",
    "\n",
    "  # load the datasets\n",
    "  train_dataloader = torch.utils.data.DataLoader(train, batch_size=batch_size, shuffle=True)\n",
    "  val_dataloader = torch.utils.data.DataLoader(val, batch_size=batch_size)\n",
    "\n",
    "  # try for a GPU\n",
    "  use_cuda = torch.cuda.is_available()\n",
    "  device = torch.device(\"cuda\" if use_cuda else \"cpu\")\n",
    "\n",
    "  # define loss and optimizer\n",
    "  loss = nn.CrossEntropyLoss()\n",
    "  optimizer = Adam(model.parameters(), lr=learning_rate)\n",
    "\n",
    "  avg_train_f1 = []\n",
    "  avg_val_f1 = []\n",
    "\n",
    "  if use_cuda:\n",
    "    model = model.cuda()\n",
    "    loss = loss.cuda()\n",
    "\n",
    "  for epoch in range(epochs):\n",
    "\n",
    "    train_outputs = []\n",
    "    train_labels = []\n",
    "    val_outputs = []\n",
    "    val_labels = []\n",
    "\n",
    "    train_acc = 0\n",
    "    train_loss = 0\n",
    "\n",
    "    for train_input, train_label in tqdm(train_dataloader):\n",
    "\n",
    "      # pass this stuff to the GPU\n",
    "      train_label = train_label.to(device)\n",
    "      train_labels.append(train_label.cpu().numpy())\n",
    "      mask = train_input['attention_mask'].to(device)\n",
    "      input_id = train_input['input_ids'].squeeze(1).to(device)\n",
    "\n",
    "      # feed data to model\n",
    "      output = model(input_id, mask)\n",
    "      train_outputs.append(output.argmax(dim=1).cpu().numpy())\n",
    "\n",
    "      # calculate loss\n",
    "      batch_loss = loss(output, train_label.long())\n",
    "      train_loss += batch_loss.item()\n",
    "\n",
    "      # calculate accuracy -> likeliest label correct?\n",
    "      acc = (output.argmax(dim=1) == train_label).sum().item()\n",
    "      train_acc += acc\n",
    "\n",
    "      model.zero_grad()\n",
    "      batch_loss.backward()\n",
    "      optimizer.step()\n",
    "\n",
    "    val_acc = 0\n",
    "    val_loss = 0\n",
    "\n",
    "    # proper backprop for validation mode\n",
    "    with torch.no_grad():\n",
    "\n",
    "      for val_input, val_label in val_dataloader:\n",
    "\n",
    "        val_label = val_label.to(device)\n",
    "        val_labels.append(val_label.cpu().numpy())\n",
    "        mask = val_input['attention_mask'].to(device)\n",
    "        input_id = val_input['input_ids'].squeeze(1).to(device)\n",
    "\n",
    "        output = model(input_id, mask)\n",
    "        val_outputs.append(output.argmax(dim=1).cpu().numpy())\n",
    "\n",
    "        batch_loss = loss(output, val_label.long())\n",
    "        val_loss += batch_loss.item()\n",
    "\n",
    "        acc = (output.argmax(dim=1) == val_label).sum().item()\n",
    "        val_acc += acc\n",
    "\n",
    "    avg_train_f1.append(get_f1(train_labels, train_outputs))\n",
    "    avg_val_f1.append(get_f1(val_labels, val_outputs))\n",
    "\n",
    "  print(\n",
    "  f'Epochs: {epoch + 1} | Train Loss: {train_loss / len(train_data): .3f} \\\n",
    "  | Train Accuracy: {train_acc / len(train_data): .3f} \\\n",
    "  | Train F1: {avg_train_f1[-1]: .3f} \\\n",
    "  | Val Loss: {val_loss / len(val_data): .3f} \\\n",
    "  | Val Accuracy: {val_acc / len(val_data): .3f} \\\n",
    "  | Val F1: {avg_val_f1[-1]: .3f}')"
   ]
  },
  {
   "cell_type": "code",
   "execution_count": 54,
   "metadata": {
    "colab": {
     "base_uri": "https://localhost:8080/"
    },
    "id": "tibRQyURtGjp",
    "outputId": "6fee8530-8df5-4bcd-9a57-fc460ed1c840"
   },
   "outputs": [
    {
     "name": "stderr",
     "output_type": "stream",
     "text": [
      "Some weights of the model checkpoint at bert-base-cased were not used when initializing BertModel: ['cls.predictions.bias', 'cls.predictions.transform.LayerNorm.bias', 'cls.predictions.transform.dense.weight', 'cls.seq_relationship.weight', 'cls.predictions.transform.LayerNorm.weight', 'cls.seq_relationship.bias', 'cls.predictions.transform.dense.bias']\n",
      "- This IS expected if you are initializing BertModel from the checkpoint of a model trained on another task or with another architecture (e.g. initializing a BertForSequenceClassification model from a BertForPreTraining model).\n",
      "- This IS NOT expected if you are initializing BertModel from the checkpoint of a model that you expect to be exactly identical (initializing a BertForSequenceClassification model from a BertForSequenceClassification model).\n",
      "100%|█████████████████████████████████████████| 453/453 [09:15<00:00,  1.23s/it]\n",
      "100%|█████████████████████████████████████████| 453/453 [08:34<00:00,  1.14s/it]\n",
      "100%|█████████████████████████████████████████| 453/453 [08:33<00:00,  1.13s/it]\n",
      "100%|█████████████████████████████████████████| 453/453 [08:34<00:00,  1.14s/it]\n",
      "100%|█████████████████████████████████████████| 453/453 [08:36<00:00,  1.14s/it]\n",
      "100%|█████████████████████████████████████████| 453/453 [08:41<00:00,  1.15s/it]\n",
      "100%|█████████████████████████████████████████| 453/453 [08:37<00:00,  1.14s/it]\n",
      "100%|█████████████████████████████████████████| 453/453 [08:31<00:00,  1.13s/it]\n",
      "100%|█████████████████████████████████████████| 453/453 [09:00<00:00,  1.19s/it]\n",
      "100%|█████████████████████████████████████████| 453/453 [09:00<00:00,  1.19s/it]\n"
     ]
    },
    {
     "name": "stdout",
     "output_type": "stream",
     "text": [
      "Epochs: 10 | Train Loss:  0.020   | Train Accuracy:  0.972   | Train F1:  0.970   | Val Loss:  0.123   | Val Accuracy:  0.874   | Val F1:  0.880\n"
     ]
    }
   ],
   "source": [
    "model = BertClassifier()\n",
    "\n",
    "epochs = 10\n",
    "batch_size = 4\n",
    "learning_rate = 1e-5\n",
    "\n",
    "train(model, df_train, df_val, learning_rate, epochs)"
   ]
  },
  {
   "cell_type": "code",
   "execution_count": 55,
   "metadata": {
    "id": "B5N45e5DTs4g"
   },
   "outputs": [],
   "source": [
    "##Save a model\n",
    "PATH = 'esg_transformer_BL3.pth'\n",
    "torch.save(model, PATH)\n",
    "\n",
    "#Save a model's parameters\n",
    "PATH = 'esg_transformer_BL_params3.pth'\n",
    "torch.save(model.state_dict(), PATH)"
   ]
  },
  {
   "cell_type": "markdown",
   "metadata": {
    "id": "2GlRetxrudWa"
   },
   "source": [
    "# Inference"
   ]
  },
  {
   "cell_type": "code",
   "execution_count": 56,
   "metadata": {
    "colab": {
     "base_uri": "https://localhost:8080/"
    },
    "id": "6Rg7fkYf7t6O",
    "outputId": "078d98bc-0d27-45ce-bb3b-f9214c2bcb9d"
   },
   "outputs": [
    {
     "data": {
      "text/html": [
       "<pre style=\"white-space:pre;overflow-x:auto;line-height:normal;font-family:Menlo,'DejaVu Sans Mono',consolas,'Courier New',monospace\"><span style=\"color: #ff0000; text-decoration-color: #ff0000\">╭──────────────────────────────────────────────────────────────────────────────────────────────────╮</span>\n",
       "<span style=\"color: #ff0000; text-decoration-color: #ff0000\">│</span> <span style=\"color: #bfbf7f; text-decoration-color: #bfbf7f\"> /var/folders/my/dxf0rdld5yv4d4mj4czcfbrw0000gn/T/ipykernel_11853/</span><span style=\"color: #808000; text-decoration-color: #808000; font-weight: bold\">441697647.py</span><span style=\"font-weight: bold\">:</span><span style=\"color: #0000ff; text-decoration-color: #0000ff; font-weight: bold\">8</span>                 <span style=\"color: #ff0000; text-decoration-color: #ff0000\">│</span>\n",
       "<span style=\"color: #ff0000; text-decoration-color: #ff0000\">│</span> 423Bml                                                                                           <span style=\"color: #ff0000; text-decoration-color: #ff0000\">│</span>\n",
       "<span style=\"color: #ff0000; text-decoration-color: #ff0000\">│</span>    <span style=\"color: #ff0000; text-decoration-color: #ff0000; font-weight: bold\">▲</span>                                                                                             <span style=\"color: #ff0000; text-decoration-color: #ff0000\">│</span>\n",
       "<span style=\"color: #ff0000; text-decoration-color: #ff0000\">╰──────────────────────────────────────────────────────────────────────────────────────────────────╯</span>\n",
       "<span style=\"color: #ff0000; text-decoration-color: #ff0000; font-weight: bold\">SyntaxError: </span>invalid syntax\n",
       "</pre>\n"
      ],
      "text/plain": [
       "\u001b[91m╭──────────────────────────────────────────────────────────────────────────────────────────────────╮\u001b[0m\n",
       "\u001b[91m│\u001b[0m \u001b[2;33m /var/folders/my/dxf0rdld5yv4d4mj4czcfbrw0000gn/T/ipykernel_11853/\u001b[0m\u001b[1;33m441697647.py\u001b[0m\u001b[1m:\u001b[0m\u001b[1;94m8\u001b[0m                 \u001b[91m│\u001b[0m\n",
       "\u001b[91m│\u001b[0m 423Bml                                                                                           \u001b[91m│\u001b[0m\n",
       "\u001b[91m│\u001b[0m    \u001b[1;91m▲\u001b[0m                                                                                             \u001b[91m│\u001b[0m\n",
       "\u001b[91m╰──────────────────────────────────────────────────────────────────────────────────────────────────╯\u001b[0m\n",
       "\u001b[1;91mSyntaxError: \u001b[0minvalid syntax\n"
      ]
     },
     "metadata": {},
     "output_type": "display_data"
    }
   ],
   "source": [
    "#!pip install PyMuPDF\n",
    "\n",
    "from pathlib import Path\n",
    "import re\n",
    "import fitz\n",
    "import pandas as pd\n",
    "from PIL import Image\n",
    "423Bml\n",
    "import torch\n",
    "\n",
    "#device = torch.device(\"cuda\"if torch.cuda.is_available() else\"cpu\")\n",
    "\n"
   ]
  },
  {
   "cell_type": "code",
   "execution_count": 57,
   "metadata": {},
   "outputs": [],
   "source": [
    "use_cuda = torch.cuda.is_available()\n",
    "device = torch.device(\"cuda\" if use_cuda else \"cpu\")"
   ]
  },
  {
   "cell_type": "code",
   "execution_count": 58,
   "metadata": {
    "id": "t6UkRJIk7w8w"
   },
   "outputs": [],
   "source": [
    "# directories & files\n",
    "import os\n",
    "from pathlib import Path \n",
    "\n",
    "DIR_DATA = Path(\"oxml2023mlcases-esg-classifier/data/\")\n",
    "REPORTS_DIR = \"reports/\"\n",
    "LABELS_FILE = \"labels.csv\"\n",
    "\n",
    "# columns\n",
    "C_ID, C_CLASS = \"id\", \"class\""
   ]
  },
  {
   "cell_type": "code",
   "execution_count": 59,
   "metadata": {
    "id": "j1ILrBxR7ZGf"
   },
   "outputs": [],
   "source": [
    "submission = pd.read_csv(\"oxml2023mlcases-esg-classifier/sample_submission.csv\")"
   ]
  },
  {
   "cell_type": "code",
   "execution_count": 60,
   "metadata": {
    "id": "4p-u3vfT7cHZ"
   },
   "outputs": [],
   "source": [
    "def create_filepath(filename):\n",
    "    return DIR_DATA / REPORTS_DIR / filename\n",
    "\n",
    "def read_page(filename, page_number):\n",
    "    filepath = create_filepath(filename)\n",
    "    doc = fitz.open(filepath)\n",
    "    page_index = page_number - 1\n",
    "    page = doc.load_page(page_index)\n",
    "    return page.get_text()\n",
    "\n",
    "\n",
    "def visualize_pdf_image(filename, page_number):\n",
    "    doc = fitz.open(create_filepath(filename))\n",
    "    page_index = page_number - 1\n",
    "    pix = doc[page_index].get_pixmap()\n",
    "    img_page = Image.frombytes(\"RGB\", [pix.width, pix.height], pix.samples)\n",
    "    return img_page\n",
    "\n",
    "def get_labels():\n",
    "    return pd.read_csv(DIR_DATA / LABELS_FILE)\n",
    "\n",
    "def build_doc_id(filename, page_number):\n",
    "    return filename + \".\" + str(page_number)"
   ]
  },
  {
   "cell_type": "code",
   "execution_count": 61,
   "metadata": {
    "colab": {
     "base_uri": "https://localhost:8080/"
    },
    "id": "uU0rmimw7-cm",
    "outputId": "5d9a0f43-a019-4863-9ea2-8c66b48c9096"
   },
   "outputs": [
    {
     "name": "stdout",
     "output_type": "stream",
     "text": [
      "class: environmental\n"
     ]
    }
   ],
   "source": [
    "# visualize a page and it's class\n",
    "\n",
    "filename = \"report_1132.pdf\"\n",
    "page_number = 9\n",
    "\n",
    "labels = get_labels()\n",
    "doc_id = build_doc_id(filename, page_number)\n",
    "label = labels.loc[labels[C_ID] == doc_id, C_CLASS].values[0]\n",
    "print(f\"{C_CLASS}: {label}\")\n",
    "#visualize_pdf_image(filename, page_number)"
   ]
  },
  {
   "cell_type": "code",
   "execution_count": 62,
   "metadata": {
    "colab": {
     "base_uri": "https://localhost:8080/"
    },
    "id": "NFMH16IzUSqf",
    "outputId": "2093f666-499f-4739-9f4c-103d443466e0"
   },
   "outputs": [
    {
     "data": {
      "text/plain": [
       "<All keys matched successfully>"
      ]
     },
     "execution_count": 62,
     "metadata": {},
     "output_type": "execute_result"
    }
   ],
   "source": [
    "#Load a previously saved model\n",
    "\n",
    "PATH = 'esg_transformer_BL3.pth'\n",
    "model = torch.load(PATH)\n",
    "\n",
    "model.eval() # -> sets the model to evaluation mode (turns off batch norm and dropout layers, which are only used for training)\n",
    "\n",
    "#Load previously saved model parameters\n",
    "PATH = 'esg_transformer_BL_params3.pth'\n",
    "#-> need to define a model first\n",
    "#model = BigramLanguageModel(*args, **kwargs) \n",
    "model.load_state_dict(torch.load(PATH))"
   ]
  },
  {
   "cell_type": "code",
   "execution_count": 63,
   "metadata": {
    "id": "d_C90V767d9o"
   },
   "outputs": [],
   "source": [
    "import re\n",
    "import fitz\n",
    "for i in range(len(submission)):\n",
    "#     print(i)\n",
    "    path = submission.iloc[i][C_ID]\n",
    "#     print(path)\n",
    "    matches = re.match(r'^(.+)\\.(\\d+)$', path)\n",
    "    filename = matches.group(1)\n",
    "    page_number = int(matches.group(2))\n",
    "\n",
    "    use_cuda = torch.cuda.is_available()\n",
    "    device = torch.device(\"cuda\" if use_cuda else \"cpu\")\n",
    "\n",
    "    content = read_page(filename, page_number)\n",
    "    input_text = tokenizer(content, padding='max_length', max_length = 64, truncation=True, return_tensors=\"pt\")\n",
    "\n",
    "    if use_cuda:\n",
    "      model = model.cuda()\n",
    "\n",
    "    with torch.no_grad():\n",
    "\n",
    "      mask = input_text['attention_mask'].to(device)\n",
    "      input_id = input_text['input_ids'].squeeze(1).to(device)\n",
    "\n",
    "      output = model(input_id, mask)\n",
    "\n",
    "      pred = output.argmax(dim=1)\n",
    "\n",
    "      submission.iloc[i]['class'] = int(pred.detach())"
   ]
  },
  {
   "cell_type": "code",
   "execution_count": 64,
   "metadata": {
    "id": "ONNfq_urHTfL"
   },
   "outputs": [],
   "source": [
    "label_mapping = {0: 'governance', 1: 'social', 2: 'environmental', 3: 'other'}\n",
    "submission['class'] = submission['class'].map(label_mapping)"
   ]
  },
  {
   "cell_type": "code",
   "execution_count": 65,
   "metadata": {
    "colab": {
     "base_uri": "https://localhost:8080/",
     "height": 669
    },
    "id": "H5W8s354H_a5",
    "outputId": "b7fda9e7-3c79-48c5-c081-232a415ba8f3"
   },
   "outputs": [
    {
     "data": {
      "text/html": [
       "<div>\n",
       "<style scoped>\n",
       "    .dataframe tbody tr th:only-of-type {\n",
       "        vertical-align: middle;\n",
       "    }\n",
       "\n",
       "    .dataframe tbody tr th {\n",
       "        vertical-align: top;\n",
       "    }\n",
       "\n",
       "    .dataframe thead th {\n",
       "        text-align: right;\n",
       "    }\n",
       "</style>\n",
       "<table border=\"1\" class=\"dataframe\">\n",
       "  <thead>\n",
       "    <tr style=\"text-align: right;\">\n",
       "      <th></th>\n",
       "      <th>id</th>\n",
       "      <th>class</th>\n",
       "    </tr>\n",
       "  </thead>\n",
       "  <tbody>\n",
       "    <tr>\n",
       "      <th>0</th>\n",
       "      <td>report_1352.pdf.49</td>\n",
       "      <td>environmental</td>\n",
       "    </tr>\n",
       "    <tr>\n",
       "      <th>1</th>\n",
       "      <td>report_1835.pdf.143</td>\n",
       "      <td>other</td>\n",
       "    </tr>\n",
       "    <tr>\n",
       "      <th>2</th>\n",
       "      <td>report_1352.pdf.46</td>\n",
       "      <td>environmental</td>\n",
       "    </tr>\n",
       "    <tr>\n",
       "      <th>3</th>\n",
       "      <td>report_1179.pdf.47</td>\n",
       "      <td>governance</td>\n",
       "    </tr>\n",
       "    <tr>\n",
       "      <th>4</th>\n",
       "      <td>report_607.pdf.12</td>\n",
       "      <td>environmental</td>\n",
       "    </tr>\n",
       "    <tr>\n",
       "      <th>5</th>\n",
       "      <td>report_1179.pdf.53</td>\n",
       "      <td>environmental</td>\n",
       "    </tr>\n",
       "    <tr>\n",
       "      <th>6</th>\n",
       "      <td>report_607.pdf.7</td>\n",
       "      <td>social</td>\n",
       "    </tr>\n",
       "    <tr>\n",
       "      <th>7</th>\n",
       "      <td>report_1012.pdf.70</td>\n",
       "      <td>environmental</td>\n",
       "    </tr>\n",
       "    <tr>\n",
       "      <th>8</th>\n",
       "      <td>report_1179.pdf.38</td>\n",
       "      <td>social</td>\n",
       "    </tr>\n",
       "    <tr>\n",
       "      <th>9</th>\n",
       "      <td>report_576.pdf.11</td>\n",
       "      <td>social</td>\n",
       "    </tr>\n",
       "    <tr>\n",
       "      <th>10</th>\n",
       "      <td>report_1352.pdf.44</td>\n",
       "      <td>environmental</td>\n",
       "    </tr>\n",
       "    <tr>\n",
       "      <th>11</th>\n",
       "      <td>report_293.pdf.67</td>\n",
       "      <td>other</td>\n",
       "    </tr>\n",
       "    <tr>\n",
       "      <th>12</th>\n",
       "      <td>report_1835.pdf.7</td>\n",
       "      <td>other</td>\n",
       "    </tr>\n",
       "    <tr>\n",
       "      <th>13</th>\n",
       "      <td>report_1352.pdf.92</td>\n",
       "      <td>governance</td>\n",
       "    </tr>\n",
       "    <tr>\n",
       "      <th>14</th>\n",
       "      <td>report_1835.pdf.37</td>\n",
       "      <td>other</td>\n",
       "    </tr>\n",
       "    <tr>\n",
       "      <th>15</th>\n",
       "      <td>report_1352.pdf.117</td>\n",
       "      <td>environmental</td>\n",
       "    </tr>\n",
       "    <tr>\n",
       "      <th>16</th>\n",
       "      <td>report_607.pdf.10</td>\n",
       "      <td>other</td>\n",
       "    </tr>\n",
       "    <tr>\n",
       "      <th>17</th>\n",
       "      <td>report_1352.pdf.100</td>\n",
       "      <td>social</td>\n",
       "    </tr>\n",
       "    <tr>\n",
       "      <th>18</th>\n",
       "      <td>report_1352.pdf.79</td>\n",
       "      <td>other</td>\n",
       "    </tr>\n",
       "    <tr>\n",
       "      <th>19</th>\n",
       "      <td>report_1834.pdf.4</td>\n",
       "      <td>other</td>\n",
       "    </tr>\n",
       "  </tbody>\n",
       "</table>\n",
       "</div>"
      ],
      "text/plain": [
       "                     id          class\n",
       "0    report_1352.pdf.49  environmental\n",
       "1   report_1835.pdf.143          other\n",
       "2    report_1352.pdf.46  environmental\n",
       "3    report_1179.pdf.47     governance\n",
       "4     report_607.pdf.12  environmental\n",
       "5    report_1179.pdf.53  environmental\n",
       "6      report_607.pdf.7         social\n",
       "7    report_1012.pdf.70  environmental\n",
       "8    report_1179.pdf.38         social\n",
       "9     report_576.pdf.11         social\n",
       "10   report_1352.pdf.44  environmental\n",
       "11    report_293.pdf.67          other\n",
       "12    report_1835.pdf.7          other\n",
       "13   report_1352.pdf.92     governance\n",
       "14   report_1835.pdf.37          other\n",
       "15  report_1352.pdf.117  environmental\n",
       "16    report_607.pdf.10          other\n",
       "17  report_1352.pdf.100         social\n",
       "18   report_1352.pdf.79          other\n",
       "19    report_1834.pdf.4          other"
      ]
     },
     "execution_count": 65,
     "metadata": {},
     "output_type": "execute_result"
    }
   ],
   "source": [
    "submission.head(20)"
   ]
  },
  {
   "cell_type": "code",
   "execution_count": 59,
   "metadata": {
    "colab": {
     "base_uri": "https://localhost:8080/",
     "height": 791
    },
    "id": "T_xbxJwLDUAm",
    "outputId": "a72ea627-c24d-46cc-a096-8d7ca3167802"
   },
   "outputs": [
    {
     "data": {
      "text/html": [
       "<pre style=\"white-space:pre;overflow-x:auto;line-height:normal;font-family:Menlo,'DejaVu Sans Mono',consolas,'Courier New',monospace\"><span style=\"color: #800000; text-decoration-color: #800000\">╭─────────────────────────────── </span><span style=\"color: #800000; text-decoration-color: #800000; font-weight: bold\">Traceback </span><span style=\"color: #bf7f7f; text-decoration-color: #bf7f7f; font-weight: bold\">(most recent call last)</span><span style=\"color: #800000; text-decoration-color: #800000\"> ────────────────────────────────╮</span>\n",
       "<span style=\"color: #800000; text-decoration-color: #800000\">│</span> <span style=\"color: #bfbf7f; text-decoration-color: #bfbf7f\">/var/folders/my/dxf0rdld5yv4d4mj4czcfbrw0000gn/T/ipykernel_1722/</span><span style=\"color: #808000; text-decoration-color: #808000; font-weight: bold\">3685308535.py</span>:<span style=\"color: #0000ff; text-decoration-color: #0000ff\">1</span> in <span style=\"color: #00ff00; text-decoration-color: #00ff00\">&lt;cell line: </span>  <span style=\"color: #800000; text-decoration-color: #800000\">│</span>\n",
       "<span style=\"color: #800000; text-decoration-color: #800000\">│</span> <span style=\"color: #00ff00; text-decoration-color: #00ff00\">1&gt;</span>                                                                                               <span style=\"color: #800000; text-decoration-color: #800000\">│</span>\n",
       "<span style=\"color: #800000; text-decoration-color: #800000\">│</span>                                                                                                  <span style=\"color: #800000; text-decoration-color: #800000\">│</span>\n",
       "<span style=\"color: #800000; text-decoration-color: #800000\">│</span> <span style=\"color: #800000; text-decoration-color: #800000; font-style: italic\">[Errno 2] No such file or directory: </span>                                                            <span style=\"color: #800000; text-decoration-color: #800000\">│</span>\n",
       "<span style=\"color: #800000; text-decoration-color: #800000\">│</span> <span style=\"color: #800000; text-decoration-color: #800000; font-style: italic\">'/var/folders/my/dxf0rdld5yv4d4mj4czcfbrw0000gn/T/ipykernel_1722/3685308535.py'</span>                  <span style=\"color: #800000; text-decoration-color: #800000\">│</span>\n",
       "<span style=\"color: #800000; text-decoration-color: #800000\">│</span>                                                                                                  <span style=\"color: #800000; text-decoration-color: #800000\">│</span>\n",
       "<span style=\"color: #800000; text-decoration-color: #800000\">│</span> <span style=\"color: #bfbf7f; text-decoration-color: #bfbf7f\">/var/folders/my/dxf0rdld5yv4d4mj4czcfbrw0000gn/T/ipykernel_1722/</span><span style=\"color: #808000; text-decoration-color: #808000; font-weight: bold\">2407697131.py</span>:<span style=\"color: #0000ff; text-decoration-color: #0000ff\">16</span> in              <span style=\"color: #800000; text-decoration-color: #800000\">│</span>\n",
       "<span style=\"color: #800000; text-decoration-color: #800000\">│</span> <span style=\"color: #00ff00; text-decoration-color: #00ff00\">visualize_pdf_image</span>                                                                              <span style=\"color: #800000; text-decoration-color: #800000\">│</span>\n",
       "<span style=\"color: #800000; text-decoration-color: #800000\">│</span>                                                                                                  <span style=\"color: #800000; text-decoration-color: #800000\">│</span>\n",
       "<span style=\"color: #800000; text-decoration-color: #800000\">│</span> <span style=\"color: #800000; text-decoration-color: #800000; font-style: italic\">[Errno 2] No such file or directory: </span>                                                            <span style=\"color: #800000; text-decoration-color: #800000\">│</span>\n",
       "<span style=\"color: #800000; text-decoration-color: #800000\">│</span> <span style=\"color: #800000; text-decoration-color: #800000; font-style: italic\">'/var/folders/my/dxf0rdld5yv4d4mj4czcfbrw0000gn/T/ipykernel_1722/2407697131.py'</span>                  <span style=\"color: #800000; text-decoration-color: #800000\">│</span>\n",
       "<span style=\"color: #800000; text-decoration-color: #800000\">╰──────────────────────────────────────────────────────────────────────────────────────────────────╯</span>\n",
       "<span style=\"color: #ff0000; text-decoration-color: #ff0000; font-weight: bold\">NameError: </span>name <span style=\"color: #008000; text-decoration-color: #008000\">'Image'</span> is not defined\n",
       "</pre>\n"
      ],
      "text/plain": [
       "\u001b[31m╭─\u001b[0m\u001b[31m──────────────────────────────\u001b[0m\u001b[31m \u001b[0m\u001b[1;31mTraceback \u001b[0m\u001b[1;2;31m(most recent call last)\u001b[0m\u001b[31m \u001b[0m\u001b[31m───────────────────────────────\u001b[0m\u001b[31m─╮\u001b[0m\n",
       "\u001b[31m│\u001b[0m \u001b[2;33m/var/folders/my/dxf0rdld5yv4d4mj4czcfbrw0000gn/T/ipykernel_1722/\u001b[0m\u001b[1;33m3685308535.py\u001b[0m:\u001b[94m1\u001b[0m in \u001b[92m<cell line: \u001b[0m  \u001b[31m│\u001b[0m\n",
       "\u001b[31m│\u001b[0m \u001b[92m1>\u001b[0m                                                                                               \u001b[31m│\u001b[0m\n",
       "\u001b[31m│\u001b[0m                                                                                                  \u001b[31m│\u001b[0m\n",
       "\u001b[31m│\u001b[0m \u001b[3;31m[Errno 2] No such file or directory: \u001b[0m                                                            \u001b[31m│\u001b[0m\n",
       "\u001b[31m│\u001b[0m \u001b[3;31m'/var/folders/my/dxf0rdld5yv4d4mj4czcfbrw0000gn/T/ipykernel_1722/3685308535.py'\u001b[0m                  \u001b[31m│\u001b[0m\n",
       "\u001b[31m│\u001b[0m                                                                                                  \u001b[31m│\u001b[0m\n",
       "\u001b[31m│\u001b[0m \u001b[2;33m/var/folders/my/dxf0rdld5yv4d4mj4czcfbrw0000gn/T/ipykernel_1722/\u001b[0m\u001b[1;33m2407697131.py\u001b[0m:\u001b[94m16\u001b[0m in              \u001b[31m│\u001b[0m\n",
       "\u001b[31m│\u001b[0m \u001b[92mvisualize_pdf_image\u001b[0m                                                                              \u001b[31m│\u001b[0m\n",
       "\u001b[31m│\u001b[0m                                                                                                  \u001b[31m│\u001b[0m\n",
       "\u001b[31m│\u001b[0m \u001b[3;31m[Errno 2] No such file or directory: \u001b[0m                                                            \u001b[31m│\u001b[0m\n",
       "\u001b[31m│\u001b[0m \u001b[3;31m'/var/folders/my/dxf0rdld5yv4d4mj4czcfbrw0000gn/T/ipykernel_1722/2407697131.py'\u001b[0m                  \u001b[31m│\u001b[0m\n",
       "\u001b[31m╰──────────────────────────────────────────────────────────────────────────────────────────────────╯\u001b[0m\n",
       "\u001b[1;91mNameError: \u001b[0mname \u001b[32m'Image'\u001b[0m is not defined\n"
      ]
     },
     "metadata": {},
     "output_type": "display_data"
    }
   ],
   "source": [
    "visualize_pdf_image('report_1835.pdf', 7)"
   ]
  },
  {
   "cell_type": "code",
   "execution_count": 66,
   "metadata": {
    "id": "_KIW7VgsDjcN"
   },
   "outputs": [],
   "source": [
    "# Converting submission to CSV\n",
    "\n",
    "# submission.to_csv('/kaggle/working/submission.csv', index=False)\n",
    "submission.to_csv('BERT_new_training_submission.csv', index=False)"
   ]
  },
  {
   "cell_type": "code",
   "execution_count": 69,
   "metadata": {},
   "outputs": [
    {
     "data": {
      "text/html": [
       "<div>\n",
       "<style scoped>\n",
       "    .dataframe tbody tr th:only-of-type {\n",
       "        vertical-align: middle;\n",
       "    }\n",
       "\n",
       "    .dataframe tbody tr th {\n",
       "        vertical-align: top;\n",
       "    }\n",
       "\n",
       "    .dataframe thead th {\n",
       "        text-align: right;\n",
       "    }\n",
       "</style>\n",
       "<table border=\"1\" class=\"dataframe\">\n",
       "  <thead>\n",
       "    <tr style=\"text-align: right;\">\n",
       "      <th></th>\n",
       "      <th>id</th>\n",
       "      <th>class</th>\n",
       "      <th>text</th>\n",
       "    </tr>\n",
       "  </thead>\n",
       "  <tbody>\n",
       "    <tr>\n",
       "      <th>0</th>\n",
       "      <td>report_519.pdf.53</td>\n",
       "      <td>governance</td>\n",
       "      <td>2021 ESG Impact Report Data privacy, security,...</td>\n",
       "    </tr>\n",
       "  </tbody>\n",
       "</table>\n",
       "</div>"
      ],
      "text/plain": [
       "                  id       class  \\\n",
       "0  report_519.pdf.53  governance   \n",
       "\n",
       "                                                text  \n",
       "0  2021 ESG Impact Report Data privacy, security,...  "
      ]
     },
     "execution_count": 69,
     "metadata": {},
     "output_type": "execute_result"
    }
   ],
   "source": [
    "#xgboost\n",
    "df.head(1)"
   ]
  },
  {
   "cell_type": "code",
   "execution_count": 71,
   "metadata": {},
   "outputs": [],
   "source": [
    "# Use TF-IDF to vectorize each document\n",
    "vectorizer = TfidfVectorizer(max_df=0.8,\n",
    "  max_features=200000,\n",
    "  min_df=0.2,\n",
    "  stop_words=final_stopwords_list,\n",
    "  use_idf=True,\n",
    "  #tokenizer=tokenize_and_stem,\n",
    "  ngram_range=(1,3))\n",
    "X_train_features = vectorizer.fit_transform([x for x in X_train])\n",
    "X_test_features = vectorizer.transform([x for x in X_test])"
   ]
  },
  {
   "cell_type": "code",
   "execution_count": 74,
   "metadata": {},
   "outputs": [
    {
     "name": "stdout",
     "output_type": "stream",
     "text": [
      "['environmental' 'governance' 'other' 'social']\n"
     ]
    }
   ],
   "source": [
    "# Encode the label classes\n",
    "label_encoder = preprocessing.LabelEncoder()\n",
    "df['label'] = label_encoder.fit_transform(df['class'])\n",
    "print(label_encoder.classes_)"
   ]
  },
  {
   "cell_type": "code",
   "execution_count": 75,
   "metadata": {},
   "outputs": [],
   "source": [
    "# Split Train/Test set with 80:20\n",
    "X_train, X_test, y_train, y_test = train_test_split(df['text'], df['label'], test_size=.2, shuffle=True)"
   ]
  },
  {
   "cell_type": "code",
   "execution_count": 95,
   "metadata": {},
   "outputs": [
    {
     "name": "stdout",
     "output_type": "stream",
     "text": [
      "[12:18:45] WARNING: /Users/runner/work/xgboost/xgboost/python-package/build/temp.macosx-10.9-x86_64-cpython-38/xgboost/src/learner.cc:767: \n",
      "Parameters: { \"scale_pos_wieght\" } are not used.\n",
      "\n",
      "XGBClassifier(base_score=None, booster=None, callbacks=None,\n",
      "              colsample_bylevel=None, colsample_bynode=None,\n",
      "              colsample_bytree=0.8, early_stopping_rounds=None,\n",
      "              enable_categorical=False, eval_metric=None, feature_types=None,\n",
      "              gamma=0, gpu_id=None, grow_policy=None, importance_type=None,\n",
      "              interaction_constraints=None, learning_rate=0.1, max_bin=None,\n",
      "              max_cat_threshold=None, max_cat_to_onehot=None,\n",
      "              max_delta_step=None, max_depth=4, max_leaves=None,\n",
      "              min_child_weight=1, missing=nan, monotone_constraints=None,\n",
      "              n_estimators=500, n_jobs=None, nthread=4, num_class=4,\n",
      "              num_parallel_tree=None, ...)\n"
     ]
    }
   ],
   "source": [
    "# fit model no training data\n",
    "#model = XGBClassifier()\n",
    "import xgboost as xgb\n",
    "xgb_cl3 = xgb.XGBClassifier(\n",
    "    learning_rate=0.1,\n",
    "    n_estimators=500,\n",
    "    max_depth=4,\n",
    "    min_child_weight=1,\n",
    "    gamma=0,\n",
    "    subsample=0.8,\n",
    "    colsample_bytree=0.8,\n",
    "    objective= 'multi:softmax',\n",
    "    num_class=4,\n",
    "    nthread=4,\n",
    "    scale_pos_wieght=1,\n",
    "    seed=123)\n",
    "\n",
    "xgb_cl3.fit(X_train_features, y_train)\n",
    "print(xgb_cl3)\n"
   ]
  },
  {
   "cell_type": "code",
   "execution_count": 96,
   "metadata": {},
   "outputs": [],
   "source": [
    "# make predictions for test data\n",
    "y_pred = xgb_cl3.predict(X_test_features)\n",
    "predictions = [round(value) for value in y_pred]"
   ]
  },
  {
   "cell_type": "code",
   "execution_count": 97,
   "metadata": {},
   "outputs": [
    {
     "name": "stdout",
     "output_type": "stream",
     "text": [
      "accuracy: 0.2898550724637681\n",
      "f1 score: 0.18972235466154025\n"
     ]
    }
   ],
   "source": [
    "from sklearn.metrics import accuracy_score, f1_score\n",
    "\n",
    "acc = accuracy_score(y_test, y_pred)\n",
    "f1 = f1_score(y_test, y_pred, average='macro')\n",
    "\n",
    "print(f'accuracy: {acc}')\n",
    "print(f'f1 score: {f1}')"
   ]
  },
  {
   "cell_type": "code",
   "execution_count": 81,
   "metadata": {},
   "outputs": [
    {
     "name": "stdout",
     "output_type": "stream",
     "text": [
      "Accuracy: 27.95%\n"
     ]
    }
   ],
   "source": [
    "# evaluate predictions\n",
    "accuracy = accuracy_score(y_test, predictions)\n",
    "print(\"Accuracy: %.2f%%\" % (accuracy * 100.0))"
   ]
  },
  {
   "cell_type": "code",
   "execution_count": 82,
   "metadata": {},
   "outputs": [],
   "source": [
    "test_df = pd.read_csv('oxml2023mlcases-esg-classifier/sample_submission.csv')"
   ]
  },
  {
   "cell_type": "code",
   "execution_count": 84,
   "metadata": {},
   "outputs": [],
   "source": [
    "def get_pdf(path):\n",
    "    return pdfium.PdfDocument(path)\n",
    "\n",
    "def get_content(page):\n",
    "    textpage = page.get_textpage()\n",
    "    return textpage.get_text_range()\n",
    "\n",
    "def render(page):\n",
    "    bitmap = page.render(\n",
    "        scale = 1,    # 72dpi resolution\n",
    "        rotation = 0, # no additional rotation\n",
    "    )\n",
    "    return bitmap.to_pil()\n",
    "\n",
    "def extract_content_from_id(file_id: str) -> str :    \n",
    "    # extract filename and page\n",
    "    items = file_id.split('.')\n",
    "    filename = '.'.join(items[:2])\n",
    "    page_num = int(items[-1])-1\n",
    "    \n",
    "    # load pdf, select page, and extract its content\n",
    "    filepath = os.path.join(report_path, filename)\n",
    "    pdf = get_pdf(filepath)\n",
    "    page = pdf[page_num]\n",
    "    content = get_content(page)\n",
    "\n",
    "    content = \" \".join(content.lower().split())\n",
    "    return content"
   ]
  },
  {
   "cell_type": "code",
   "execution_count": 85,
   "metadata": {},
   "outputs": [
    {
     "data": {
      "text/html": [
       "<pre style=\"white-space:pre;overflow-x:auto;line-height:normal;font-family:Menlo,'DejaVu Sans Mono',consolas,'Courier New',monospace\"><span style=\"color: #800000; text-decoration-color: #800000\">╭─────────────────────────────── </span><span style=\"color: #800000; text-decoration-color: #800000; font-weight: bold\">Traceback </span><span style=\"color: #bf7f7f; text-decoration-color: #bf7f7f; font-weight: bold\">(most recent call last)</span><span style=\"color: #800000; text-decoration-color: #800000\"> ────────────────────────────────╮</span>\n",
       "<span style=\"color: #800000; text-decoration-color: #800000\">│</span> <span style=\"color: #bfbf7f; text-decoration-color: #bfbf7f\">/var/folders/my/dxf0rdld5yv4d4mj4czcfbrw0000gn/T/ipykernel_11853/</span><span style=\"color: #808000; text-decoration-color: #808000; font-weight: bold\">2178037725.py</span>:<span style=\"color: #0000ff; text-decoration-color: #0000ff\">2</span> in <span style=\"color: #00ff00; text-decoration-color: #00ff00\">&lt;cell line: </span> <span style=\"color: #800000; text-decoration-color: #800000\">│</span>\n",
       "<span style=\"color: #800000; text-decoration-color: #800000\">│</span> <span style=\"color: #00ff00; text-decoration-color: #00ff00\">2&gt;</span>                                                                                               <span style=\"color: #800000; text-decoration-color: #800000\">│</span>\n",
       "<span style=\"color: #800000; text-decoration-color: #800000\">│</span>                                                                                                  <span style=\"color: #800000; text-decoration-color: #800000\">│</span>\n",
       "<span style=\"color: #800000; text-decoration-color: #800000\">│</span> <span style=\"color: #800000; text-decoration-color: #800000; font-style: italic\">[Errno 2] No such file or directory: </span>                                                            <span style=\"color: #800000; text-decoration-color: #800000\">│</span>\n",
       "<span style=\"color: #800000; text-decoration-color: #800000\">│</span> <span style=\"color: #800000; text-decoration-color: #800000; font-style: italic\">'/var/folders/my/dxf0rdld5yv4d4mj4czcfbrw0000gn/T/ipykernel_11853/2178037725.py'</span>                 <span style=\"color: #800000; text-decoration-color: #800000\">│</span>\n",
       "<span style=\"color: #800000; text-decoration-color: #800000\">│</span>                                                                                                  <span style=\"color: #800000; text-decoration-color: #800000\">│</span>\n",
       "<span style=\"color: #800000; text-decoration-color: #800000\">│</span> <span style=\"color: #bfbf7f; text-decoration-color: #bfbf7f\">/usr/local/lib/python3.9/site-packages/pandas/core/</span><span style=\"color: #808000; text-decoration-color: #808000; font-weight: bold\">series.py</span>:<span style=\"color: #0000ff; text-decoration-color: #0000ff\">4539</span> in <span style=\"color: #00ff00; text-decoration-color: #00ff00\">map</span>                         <span style=\"color: #800000; text-decoration-color: #800000\">│</span>\n",
       "<span style=\"color: #800000; text-decoration-color: #800000\">│</span>                                                                                                  <span style=\"color: #800000; text-decoration-color: #800000\">│</span>\n",
       "<span style=\"color: #800000; text-decoration-color: #800000\">│</span>   <span style=\"color: #7f7f7f; text-decoration-color: #7f7f7f\">4536 </span><span style=\"color: #bfbf7f; text-decoration-color: #bfbf7f\">│   │   </span><span style=\"color: #808000; text-decoration-color: #808000\">3  I am a rabbit</span>                                                                  <span style=\"color: #800000; text-decoration-color: #800000\">│</span>\n",
       "<span style=\"color: #800000; text-decoration-color: #800000\">│</span>   <span style=\"color: #7f7f7f; text-decoration-color: #7f7f7f\">4537 </span><span style=\"color: #bfbf7f; text-decoration-color: #bfbf7f\">│   │   </span><span style=\"color: #808000; text-decoration-color: #808000\">dtype: object</span>                                                                     <span style=\"color: #800000; text-decoration-color: #800000\">│</span>\n",
       "<span style=\"color: #800000; text-decoration-color: #800000\">│</span>   <span style=\"color: #7f7f7f; text-decoration-color: #7f7f7f\">4538 </span><span style=\"color: #bfbf7f; text-decoration-color: #bfbf7f\">│   │   </span><span style=\"color: #808000; text-decoration-color: #808000\">\"\"\"</span>                                                                               <span style=\"color: #800000; text-decoration-color: #800000\">│</span>\n",
       "<span style=\"color: #800000; text-decoration-color: #800000\">│</span> <span style=\"color: #800000; text-decoration-color: #800000\">❱ </span>4539 <span style=\"color: #7f7f7f; text-decoration-color: #7f7f7f\">│   │   </span>new_values = <span style=\"color: #00ffff; text-decoration-color: #00ffff\">self</span>._map_values(arg, na_action=na_action)                           <span style=\"color: #800000; text-decoration-color: #800000\">│</span>\n",
       "<span style=\"color: #800000; text-decoration-color: #800000\">│</span>   <span style=\"color: #7f7f7f; text-decoration-color: #7f7f7f\">4540 │   │   </span><span style=\"color: #0000ff; text-decoration-color: #0000ff\">return</span> <span style=\"color: #00ffff; text-decoration-color: #00ffff\">self</span>._constructor(new_values, index=<span style=\"color: #00ffff; text-decoration-color: #00ffff\">self</span>.index).__finalize__(              <span style=\"color: #800000; text-decoration-color: #800000\">│</span>\n",
       "<span style=\"color: #800000; text-decoration-color: #800000\">│</span>   <span style=\"color: #7f7f7f; text-decoration-color: #7f7f7f\">4541 │   │   │   </span><span style=\"color: #00ffff; text-decoration-color: #00ffff\">self</span>, method=<span style=\"color: #808000; text-decoration-color: #808000\">\"map\"</span>                                                            <span style=\"color: #800000; text-decoration-color: #800000\">│</span>\n",
       "<span style=\"color: #800000; text-decoration-color: #800000\">│</span>   <span style=\"color: #7f7f7f; text-decoration-color: #7f7f7f\">4542 │   │   </span>)                                                                                 <span style=\"color: #800000; text-decoration-color: #800000\">│</span>\n",
       "<span style=\"color: #800000; text-decoration-color: #800000\">│</span>                                                                                                  <span style=\"color: #800000; text-decoration-color: #800000\">│</span>\n",
       "<span style=\"color: #800000; text-decoration-color: #800000\">│</span> <span style=\"color: #bfbf7f; text-decoration-color: #bfbf7f\">/usr/local/lib/python3.9/site-packages/pandas/core/</span><span style=\"color: #808000; text-decoration-color: #808000; font-weight: bold\">base.py</span>:<span style=\"color: #0000ff; text-decoration-color: #0000ff\">890</span> in <span style=\"color: #00ff00; text-decoration-color: #00ff00\">_map_values</span>                    <span style=\"color: #800000; text-decoration-color: #800000\">│</span>\n",
       "<span style=\"color: #800000; text-decoration-color: #800000\">│</span>                                                                                                  <span style=\"color: #800000; text-decoration-color: #800000\">│</span>\n",
       "<span style=\"color: #800000; text-decoration-color: #800000\">│</span>   <span style=\"color: #7f7f7f; text-decoration-color: #7f7f7f\"> 887 │   │   │   │   </span><span style=\"color: #0000ff; text-decoration-color: #0000ff\">raise</span> <span style=\"color: #00ffff; text-decoration-color: #00ffff\">ValueError</span>(msg)                                                     <span style=\"color: #800000; text-decoration-color: #800000\">│</span>\n",
       "<span style=\"color: #800000; text-decoration-color: #800000\">│</span>   <span style=\"color: #7f7f7f; text-decoration-color: #7f7f7f\"> 888 │   │   </span>                                                                                  <span style=\"color: #800000; text-decoration-color: #800000\">│</span>\n",
       "<span style=\"color: #800000; text-decoration-color: #800000\">│</span>   <span style=\"color: #7f7f7f; text-decoration-color: #7f7f7f\"> 889 │   │   # mapper is a function</span>                                                            <span style=\"color: #800000; text-decoration-color: #800000\">│</span>\n",
       "<span style=\"color: #800000; text-decoration-color: #800000\">│</span> <span style=\"color: #800000; text-decoration-color: #800000\">❱ </span> 890 <span style=\"color: #7f7f7f; text-decoration-color: #7f7f7f\">│   │   </span>new_values = map_f(values, mapper)                                                <span style=\"color: #800000; text-decoration-color: #800000\">│</span>\n",
       "<span style=\"color: #800000; text-decoration-color: #800000\">│</span>   <span style=\"color: #7f7f7f; text-decoration-color: #7f7f7f\"> 891 │   │   </span>                                                                                  <span style=\"color: #800000; text-decoration-color: #800000\">│</span>\n",
       "<span style=\"color: #800000; text-decoration-color: #800000\">│</span>   <span style=\"color: #7f7f7f; text-decoration-color: #7f7f7f\"> 892 │   │   </span><span style=\"color: #0000ff; text-decoration-color: #0000ff\">return</span> new_values                                                                 <span style=\"color: #800000; text-decoration-color: #800000\">│</span>\n",
       "<span style=\"color: #800000; text-decoration-color: #800000\">│</span>   <span style=\"color: #7f7f7f; text-decoration-color: #7f7f7f\"> 893 </span>                                                                                          <span style=\"color: #800000; text-decoration-color: #800000\">│</span>\n",
       "<span style=\"color: #800000; text-decoration-color: #800000\">│</span>                                                                                                  <span style=\"color: #800000; text-decoration-color: #800000\">│</span>\n",
       "<span style=\"color: #800000; text-decoration-color: #800000\">│</span> <span style=\"color: #bfbf7f; text-decoration-color: #bfbf7f\">/Users/Jupiter/Desktop/Oxford ML Summer School 2023/ESG project/pandas/_libs/</span><span style=\"color: #808000; text-decoration-color: #808000; font-weight: bold\">lib.pyx</span>:<span style=\"color: #0000ff; text-decoration-color: #0000ff\">2924</span> in     <span style=\"color: #800000; text-decoration-color: #800000\">│</span>\n",
       "<span style=\"color: #800000; text-decoration-color: #800000\">│</span> <span style=\"color: #00ff00; text-decoration-color: #00ff00\">pandas._libs.lib.map_infer</span>                                                                       <span style=\"color: #800000; text-decoration-color: #800000\">│</span>\n",
       "<span style=\"color: #800000; text-decoration-color: #800000\">│</span>                                                                                                  <span style=\"color: #800000; text-decoration-color: #800000\">│</span>\n",
       "<span style=\"color: #800000; text-decoration-color: #800000\">│</span> <span style=\"color: #800000; text-decoration-color: #800000; font-style: italic\">[Errno 2] No such file or directory: '/Users/Jupiter/Desktop/Oxford ML Summer School 2023/ESG </span>   <span style=\"color: #800000; text-decoration-color: #800000\">│</span>\n",
       "<span style=\"color: #800000; text-decoration-color: #800000\">│</span> <span style=\"color: #800000; text-decoration-color: #800000; font-style: italic\">project/pandas/_libs/lib.pyx'</span>                                                                    <span style=\"color: #800000; text-decoration-color: #800000\">│</span>\n",
       "<span style=\"color: #800000; text-decoration-color: #800000\">│</span>                                                                                                  <span style=\"color: #800000; text-decoration-color: #800000\">│</span>\n",
       "<span style=\"color: #800000; text-decoration-color: #800000\">│</span> <span style=\"color: #bfbf7f; text-decoration-color: #bfbf7f\">/var/folders/my/dxf0rdld5yv4d4mj4czcfbrw0000gn/T/ipykernel_11853/</span><span style=\"color: #808000; text-decoration-color: #808000; font-weight: bold\">2178037725.py</span>:<span style=\"color: #0000ff; text-decoration-color: #0000ff\">2</span> in <span style=\"color: #00ff00; text-decoration-color: #00ff00\">&lt;lambda&gt;</span>     <span style=\"color: #800000; text-decoration-color: #800000\">│</span>\n",
       "<span style=\"color: #800000; text-decoration-color: #800000\">│</span>                                                                                                  <span style=\"color: #800000; text-decoration-color: #800000\">│</span>\n",
       "<span style=\"color: #800000; text-decoration-color: #800000\">│</span> <span style=\"color: #800000; text-decoration-color: #800000; font-style: italic\">[Errno 2] No such file or directory: </span>                                                            <span style=\"color: #800000; text-decoration-color: #800000\">│</span>\n",
       "<span style=\"color: #800000; text-decoration-color: #800000\">│</span> <span style=\"color: #800000; text-decoration-color: #800000; font-style: italic\">'/var/folders/my/dxf0rdld5yv4d4mj4czcfbrw0000gn/T/ipykernel_11853/2178037725.py'</span>                 <span style=\"color: #800000; text-decoration-color: #800000\">│</span>\n",
       "<span style=\"color: #800000; text-decoration-color: #800000\">│</span>                                                                                                  <span style=\"color: #800000; text-decoration-color: #800000\">│</span>\n",
       "<span style=\"color: #800000; text-decoration-color: #800000\">│</span> <span style=\"color: #bfbf7f; text-decoration-color: #bfbf7f\">/var/folders/my/dxf0rdld5yv4d4mj4czcfbrw0000gn/T/ipykernel_11853/</span><span style=\"color: #808000; text-decoration-color: #808000; font-weight: bold\">2799978424.py</span>:<span style=\"color: #0000ff; text-decoration-color: #0000ff\">22</span> in             <span style=\"color: #800000; text-decoration-color: #800000\">│</span>\n",
       "<span style=\"color: #800000; text-decoration-color: #800000\">│</span> <span style=\"color: #00ff00; text-decoration-color: #00ff00\">extract_content_from_id</span>                                                                          <span style=\"color: #800000; text-decoration-color: #800000\">│</span>\n",
       "<span style=\"color: #800000; text-decoration-color: #800000\">│</span>                                                                                                  <span style=\"color: #800000; text-decoration-color: #800000\">│</span>\n",
       "<span style=\"color: #800000; text-decoration-color: #800000\">│</span> <span style=\"color: #800000; text-decoration-color: #800000; font-style: italic\">[Errno 2] No such file or directory: </span>                                                            <span style=\"color: #800000; text-decoration-color: #800000\">│</span>\n",
       "<span style=\"color: #800000; text-decoration-color: #800000\">│</span> <span style=\"color: #800000; text-decoration-color: #800000; font-style: italic\">'/var/folders/my/dxf0rdld5yv4d4mj4czcfbrw0000gn/T/ipykernel_11853/2799978424.py'</span>                 <span style=\"color: #800000; text-decoration-color: #800000\">│</span>\n",
       "<span style=\"color: #800000; text-decoration-color: #800000\">╰──────────────────────────────────────────────────────────────────────────────────────────────────╯</span>\n",
       "<span style=\"color: #ff0000; text-decoration-color: #ff0000; font-weight: bold\">NameError: </span>name <span style=\"color: #008000; text-decoration-color: #008000\">'report_path'</span> is not defined\n",
       "</pre>\n"
      ],
      "text/plain": [
       "\u001b[31m╭─\u001b[0m\u001b[31m──────────────────────────────\u001b[0m\u001b[31m \u001b[0m\u001b[1;31mTraceback \u001b[0m\u001b[1;2;31m(most recent call last)\u001b[0m\u001b[31m \u001b[0m\u001b[31m───────────────────────────────\u001b[0m\u001b[31m─╮\u001b[0m\n",
       "\u001b[31m│\u001b[0m \u001b[2;33m/var/folders/my/dxf0rdld5yv4d4mj4czcfbrw0000gn/T/ipykernel_11853/\u001b[0m\u001b[1;33m2178037725.py\u001b[0m:\u001b[94m2\u001b[0m in \u001b[92m<cell line: \u001b[0m \u001b[31m│\u001b[0m\n",
       "\u001b[31m│\u001b[0m \u001b[92m2>\u001b[0m                                                                                               \u001b[31m│\u001b[0m\n",
       "\u001b[31m│\u001b[0m                                                                                                  \u001b[31m│\u001b[0m\n",
       "\u001b[31m│\u001b[0m \u001b[3;31m[Errno 2] No such file or directory: \u001b[0m                                                            \u001b[31m│\u001b[0m\n",
       "\u001b[31m│\u001b[0m \u001b[3;31m'/var/folders/my/dxf0rdld5yv4d4mj4czcfbrw0000gn/T/ipykernel_11853/2178037725.py'\u001b[0m                 \u001b[31m│\u001b[0m\n",
       "\u001b[31m│\u001b[0m                                                                                                  \u001b[31m│\u001b[0m\n",
       "\u001b[31m│\u001b[0m \u001b[2;33m/usr/local/lib/python3.9/site-packages/pandas/core/\u001b[0m\u001b[1;33mseries.py\u001b[0m:\u001b[94m4539\u001b[0m in \u001b[92mmap\u001b[0m                         \u001b[31m│\u001b[0m\n",
       "\u001b[31m│\u001b[0m                                                                                                  \u001b[31m│\u001b[0m\n",
       "\u001b[31m│\u001b[0m   \u001b[2m4536 \u001b[0m\u001b[2;33m│   │   \u001b[0m\u001b[33m3  I am a rabbit\u001b[0m                                                                  \u001b[31m│\u001b[0m\n",
       "\u001b[31m│\u001b[0m   \u001b[2m4537 \u001b[0m\u001b[2;33m│   │   \u001b[0m\u001b[33mdtype: object\u001b[0m                                                                     \u001b[31m│\u001b[0m\n",
       "\u001b[31m│\u001b[0m   \u001b[2m4538 \u001b[0m\u001b[2;33m│   │   \u001b[0m\u001b[33m\"\"\"\u001b[0m                                                                               \u001b[31m│\u001b[0m\n",
       "\u001b[31m│\u001b[0m \u001b[31m❱ \u001b[0m4539 \u001b[2m│   │   \u001b[0mnew_values = \u001b[96mself\u001b[0m._map_values(arg, na_action=na_action)                           \u001b[31m│\u001b[0m\n",
       "\u001b[31m│\u001b[0m   \u001b[2m4540 \u001b[0m\u001b[2m│   │   \u001b[0m\u001b[94mreturn\u001b[0m \u001b[96mself\u001b[0m._constructor(new_values, index=\u001b[96mself\u001b[0m.index).__finalize__(              \u001b[31m│\u001b[0m\n",
       "\u001b[31m│\u001b[0m   \u001b[2m4541 \u001b[0m\u001b[2m│   │   │   \u001b[0m\u001b[96mself\u001b[0m, method=\u001b[33m\"\u001b[0m\u001b[33mmap\u001b[0m\u001b[33m\"\u001b[0m                                                            \u001b[31m│\u001b[0m\n",
       "\u001b[31m│\u001b[0m   \u001b[2m4542 \u001b[0m\u001b[2m│   │   \u001b[0m)                                                                                 \u001b[31m│\u001b[0m\n",
       "\u001b[31m│\u001b[0m                                                                                                  \u001b[31m│\u001b[0m\n",
       "\u001b[31m│\u001b[0m \u001b[2;33m/usr/local/lib/python3.9/site-packages/pandas/core/\u001b[0m\u001b[1;33mbase.py\u001b[0m:\u001b[94m890\u001b[0m in \u001b[92m_map_values\u001b[0m                    \u001b[31m│\u001b[0m\n",
       "\u001b[31m│\u001b[0m                                                                                                  \u001b[31m│\u001b[0m\n",
       "\u001b[31m│\u001b[0m   \u001b[2m 887 \u001b[0m\u001b[2m│   │   │   │   \u001b[0m\u001b[94mraise\u001b[0m \u001b[96mValueError\u001b[0m(msg)                                                     \u001b[31m│\u001b[0m\n",
       "\u001b[31m│\u001b[0m   \u001b[2m 888 \u001b[0m\u001b[2m│   │   \u001b[0m                                                                                  \u001b[31m│\u001b[0m\n",
       "\u001b[31m│\u001b[0m   \u001b[2m 889 \u001b[0m\u001b[2m│   │   \u001b[0m\u001b[2m# mapper is a function\u001b[0m                                                            \u001b[31m│\u001b[0m\n",
       "\u001b[31m│\u001b[0m \u001b[31m❱ \u001b[0m 890 \u001b[2m│   │   \u001b[0mnew_values = map_f(values, mapper)                                                \u001b[31m│\u001b[0m\n",
       "\u001b[31m│\u001b[0m   \u001b[2m 891 \u001b[0m\u001b[2m│   │   \u001b[0m                                                                                  \u001b[31m│\u001b[0m\n",
       "\u001b[31m│\u001b[0m   \u001b[2m 892 \u001b[0m\u001b[2m│   │   \u001b[0m\u001b[94mreturn\u001b[0m new_values                                                                 \u001b[31m│\u001b[0m\n",
       "\u001b[31m│\u001b[0m   \u001b[2m 893 \u001b[0m                                                                                          \u001b[31m│\u001b[0m\n",
       "\u001b[31m│\u001b[0m                                                                                                  \u001b[31m│\u001b[0m\n",
       "\u001b[31m│\u001b[0m \u001b[2;33m/Users/Jupiter/Desktop/Oxford ML Summer School 2023/ESG project/pandas/_libs/\u001b[0m\u001b[1;33mlib.pyx\u001b[0m:\u001b[94m2924\u001b[0m in     \u001b[31m│\u001b[0m\n",
       "\u001b[31m│\u001b[0m \u001b[92mpandas._libs.lib.map_infer\u001b[0m                                                                       \u001b[31m│\u001b[0m\n",
       "\u001b[31m│\u001b[0m                                                                                                  \u001b[31m│\u001b[0m\n",
       "\u001b[31m│\u001b[0m \u001b[3;31m[Errno 2] No such file or directory: '/Users/Jupiter/Desktop/Oxford ML Summer School 2023/ESG \u001b[0m   \u001b[31m│\u001b[0m\n",
       "\u001b[31m│\u001b[0m \u001b[3;31mproject/pandas/_libs/lib.pyx'\u001b[0m                                                                    \u001b[31m│\u001b[0m\n",
       "\u001b[31m│\u001b[0m                                                                                                  \u001b[31m│\u001b[0m\n",
       "\u001b[31m│\u001b[0m \u001b[2;33m/var/folders/my/dxf0rdld5yv4d4mj4czcfbrw0000gn/T/ipykernel_11853/\u001b[0m\u001b[1;33m2178037725.py\u001b[0m:\u001b[94m2\u001b[0m in \u001b[92m<lambda>\u001b[0m     \u001b[31m│\u001b[0m\n",
       "\u001b[31m│\u001b[0m                                                                                                  \u001b[31m│\u001b[0m\n",
       "\u001b[31m│\u001b[0m \u001b[3;31m[Errno 2] No such file or directory: \u001b[0m                                                            \u001b[31m│\u001b[0m\n",
       "\u001b[31m│\u001b[0m \u001b[3;31m'/var/folders/my/dxf0rdld5yv4d4mj4czcfbrw0000gn/T/ipykernel_11853/2178037725.py'\u001b[0m                 \u001b[31m│\u001b[0m\n",
       "\u001b[31m│\u001b[0m                                                                                                  \u001b[31m│\u001b[0m\n",
       "\u001b[31m│\u001b[0m \u001b[2;33m/var/folders/my/dxf0rdld5yv4d4mj4czcfbrw0000gn/T/ipykernel_11853/\u001b[0m\u001b[1;33m2799978424.py\u001b[0m:\u001b[94m22\u001b[0m in             \u001b[31m│\u001b[0m\n",
       "\u001b[31m│\u001b[0m \u001b[92mextract_content_from_id\u001b[0m                                                                          \u001b[31m│\u001b[0m\n",
       "\u001b[31m│\u001b[0m                                                                                                  \u001b[31m│\u001b[0m\n",
       "\u001b[31m│\u001b[0m \u001b[3;31m[Errno 2] No such file or directory: \u001b[0m                                                            \u001b[31m│\u001b[0m\n",
       "\u001b[31m│\u001b[0m \u001b[3;31m'/var/folders/my/dxf0rdld5yv4d4mj4czcfbrw0000gn/T/ipykernel_11853/2799978424.py'\u001b[0m                 \u001b[31m│\u001b[0m\n",
       "\u001b[31m╰──────────────────────────────────────────────────────────────────────────────────────────────────╯\u001b[0m\n",
       "\u001b[1;91mNameError: \u001b[0mname \u001b[32m'report_path'\u001b[0m is not defined\n"
      ]
     },
     "metadata": {},
     "output_type": "display_data"
    }
   ],
   "source": [
    "# Read PDF file based on file_id\n",
    "test_contents = test_df['id'].map(lambda file_id: extract_content_from_id(file_id))"
   ]
  }
 ],
 "metadata": {
  "accelerator": "GPU",
  "colab": {
   "gpuType": "A100",
   "machine_shape": "hm",
   "provenance": []
  },
  "kernelspec": {
   "display_name": "Python 3 (ipykernel)",
   "language": "python",
   "name": "python3"
  },
  "language_info": {
   "codemirror_mode": {
    "name": "ipython",
    "version": 3
   },
   "file_extension": ".py",
   "mimetype": "text/x-python",
   "name": "python",
   "nbconvert_exporter": "python",
   "pygments_lexer": "ipython3",
   "version": "3.9.16"
  },
  "widgets": {
   "application/vnd.jupyter.widget-state+json": {
    "05fc171a23934bfaba6368dcbc06d421": {
     "model_module": "@jupyter-widgets/controls",
     "model_module_version": "1.5.0",
     "model_name": "HTMLModel",
     "state": {
      "_dom_classes": [],
      "_model_module": "@jupyter-widgets/controls",
      "_model_module_version": "1.5.0",
      "_model_name": "HTMLModel",
      "_view_count": null,
      "_view_module": "@jupyter-widgets/controls",
      "_view_module_version": "1.5.0",
      "_view_name": "HTMLView",
      "description": "",
      "description_tooltip": null,
      "layout": "IPY_MODEL_60bc8e5c33dc48f1aac47126b08da09f",
      "placeholder": "​",
      "style": "IPY_MODEL_16f8726a04ee4b8bbd7d256b164cd8df",
      "value": "Downloading (…)solve/main/vocab.txt: 100%"
     }
    },
    "15c5112d5ccf48edb9fefce4700b7f01": {
     "model_module": "@jupyter-widgets/controls",
     "model_module_version": "1.5.0",
     "model_name": "ProgressStyleModel",
     "state": {
      "_model_module": "@jupyter-widgets/controls",
      "_model_module_version": "1.5.0",
      "_model_name": "ProgressStyleModel",
      "_view_count": null,
      "_view_module": "@jupyter-widgets/base",
      "_view_module_version": "1.2.0",
      "_view_name": "StyleView",
      "bar_color": null,
      "description_width": ""
     }
    },
    "16f8726a04ee4b8bbd7d256b164cd8df": {
     "model_module": "@jupyter-widgets/controls",
     "model_module_version": "1.5.0",
     "model_name": "DescriptionStyleModel",
     "state": {
      "_model_module": "@jupyter-widgets/controls",
      "_model_module_version": "1.5.0",
      "_model_name": "DescriptionStyleModel",
      "_view_count": null,
      "_view_module": "@jupyter-widgets/base",
      "_view_module_version": "1.2.0",
      "_view_name": "StyleView",
      "description_width": ""
     }
    },
    "23c63a520fb545cf84440ecf6501fbe6": {
     "model_module": "@jupyter-widgets/base",
     "model_module_version": "1.2.0",
     "model_name": "LayoutModel",
     "state": {
      "_model_module": "@jupyter-widgets/base",
      "_model_module_version": "1.2.0",
      "_model_name": "LayoutModel",
      "_view_count": null,
      "_view_module": "@jupyter-widgets/base",
      "_view_module_version": "1.2.0",
      "_view_name": "LayoutView",
      "align_content": null,
      "align_items": null,
      "align_self": null,
      "border": null,
      "bottom": null,
      "display": null,
      "flex": null,
      "flex_flow": null,
      "grid_area": null,
      "grid_auto_columns": null,
      "grid_auto_flow": null,
      "grid_auto_rows": null,
      "grid_column": null,
      "grid_gap": null,
      "grid_row": null,
      "grid_template_areas": null,
      "grid_template_columns": null,
      "grid_template_rows": null,
      "height": null,
      "justify_content": null,
      "justify_items": null,
      "left": null,
      "margin": null,
      "max_height": null,
      "max_width": null,
      "min_height": null,
      "min_width": null,
      "object_fit": null,
      "object_position": null,
      "order": null,
      "overflow": null,
      "overflow_x": null,
      "overflow_y": null,
      "padding": null,
      "right": null,
      "top": null,
      "visibility": null,
      "width": null
     }
    },
    "27fea4e3c8f04d3481fff73f3c8d9d57": {
     "model_module": "@jupyter-widgets/controls",
     "model_module_version": "1.5.0",
     "model_name": "FloatProgressModel",
     "state": {
      "_dom_classes": [],
      "_model_module": "@jupyter-widgets/controls",
      "_model_module_version": "1.5.0",
      "_model_name": "FloatProgressModel",
      "_view_count": null,
      "_view_module": "@jupyter-widgets/controls",
      "_view_module_version": "1.5.0",
      "_view_name": "ProgressView",
      "bar_style": "success",
      "description": "",
      "description_tooltip": null,
      "layout": "IPY_MODEL_33984d5fd63744ea9524a90118593410",
      "max": 29,
      "min": 0,
      "orientation": "horizontal",
      "style": "IPY_MODEL_15c5112d5ccf48edb9fefce4700b7f01",
      "value": 29
     }
    },
    "324d22b24d8e45d3a60e8b7b6e11cd3e": {
     "model_module": "@jupyter-widgets/controls",
     "model_module_version": "1.5.0",
     "model_name": "ProgressStyleModel",
     "state": {
      "_model_module": "@jupyter-widgets/controls",
      "_model_module_version": "1.5.0",
      "_model_name": "ProgressStyleModel",
      "_view_count": null,
      "_view_module": "@jupyter-widgets/base",
      "_view_module_version": "1.2.0",
      "_view_name": "StyleView",
      "bar_color": null,
      "description_width": ""
     }
    },
    "33984d5fd63744ea9524a90118593410": {
     "model_module": "@jupyter-widgets/base",
     "model_module_version": "1.2.0",
     "model_name": "LayoutModel",
     "state": {
      "_model_module": "@jupyter-widgets/base",
      "_model_module_version": "1.2.0",
      "_model_name": "LayoutModel",
      "_view_count": null,
      "_view_module": "@jupyter-widgets/base",
      "_view_module_version": "1.2.0",
      "_view_name": "LayoutView",
      "align_content": null,
      "align_items": null,
      "align_self": null,
      "border": null,
      "bottom": null,
      "display": null,
      "flex": null,
      "flex_flow": null,
      "grid_area": null,
      "grid_auto_columns": null,
      "grid_auto_flow": null,
      "grid_auto_rows": null,
      "grid_column": null,
      "grid_gap": null,
      "grid_row": null,
      "grid_template_areas": null,
      "grid_template_columns": null,
      "grid_template_rows": null,
      "height": null,
      "justify_content": null,
      "justify_items": null,
      "left": null,
      "margin": null,
      "max_height": null,
      "max_width": null,
      "min_height": null,
      "min_width": null,
      "object_fit": null,
      "object_position": null,
      "order": null,
      "overflow": null,
      "overflow_x": null,
      "overflow_y": null,
      "padding": null,
      "right": null,
      "top": null,
      "visibility": null,
      "width": null
     }
    },
    "3616c353cac84276b2df1e677b599e3b": {
     "model_module": "@jupyter-widgets/controls",
     "model_module_version": "1.5.0",
     "model_name": "DescriptionStyleModel",
     "state": {
      "_model_module": "@jupyter-widgets/controls",
      "_model_module_version": "1.5.0",
      "_model_name": "DescriptionStyleModel",
      "_view_count": null,
      "_view_module": "@jupyter-widgets/base",
      "_view_module_version": "1.2.0",
      "_view_name": "StyleView",
      "description_width": ""
     }
    },
    "3979c9e2678e4c9297f550ed580eb961": {
     "model_module": "@jupyter-widgets/base",
     "model_module_version": "1.2.0",
     "model_name": "LayoutModel",
     "state": {
      "_model_module": "@jupyter-widgets/base",
      "_model_module_version": "1.2.0",
      "_model_name": "LayoutModel",
      "_view_count": null,
      "_view_module": "@jupyter-widgets/base",
      "_view_module_version": "1.2.0",
      "_view_name": "LayoutView",
      "align_content": null,
      "align_items": null,
      "align_self": null,
      "border": null,
      "bottom": null,
      "display": null,
      "flex": null,
      "flex_flow": null,
      "grid_area": null,
      "grid_auto_columns": null,
      "grid_auto_flow": null,
      "grid_auto_rows": null,
      "grid_column": null,
      "grid_gap": null,
      "grid_row": null,
      "grid_template_areas": null,
      "grid_template_columns": null,
      "grid_template_rows": null,
      "height": null,
      "justify_content": null,
      "justify_items": null,
      "left": null,
      "margin": null,
      "max_height": null,
      "max_width": null,
      "min_height": null,
      "min_width": null,
      "object_fit": null,
      "object_position": null,
      "order": null,
      "overflow": null,
      "overflow_x": null,
      "overflow_y": null,
      "padding": null,
      "right": null,
      "top": null,
      "visibility": null,
      "width": null
     }
    },
    "4082f844c52045e08c0c1ce0d973a235": {
     "model_module": "@jupyter-widgets/controls",
     "model_module_version": "1.5.0",
     "model_name": "DescriptionStyleModel",
     "state": {
      "_model_module": "@jupyter-widgets/controls",
      "_model_module_version": "1.5.0",
      "_model_name": "DescriptionStyleModel",
      "_view_count": null,
      "_view_module": "@jupyter-widgets/base",
      "_view_module_version": "1.2.0",
      "_view_name": "StyleView",
      "description_width": ""
     }
    },
    "4c02aa12fbd949ee9bb895181868e724": {
     "model_module": "@jupyter-widgets/base",
     "model_module_version": "1.2.0",
     "model_name": "LayoutModel",
     "state": {
      "_model_module": "@jupyter-widgets/base",
      "_model_module_version": "1.2.0",
      "_model_name": "LayoutModel",
      "_view_count": null,
      "_view_module": "@jupyter-widgets/base",
      "_view_module_version": "1.2.0",
      "_view_name": "LayoutView",
      "align_content": null,
      "align_items": null,
      "align_self": null,
      "border": null,
      "bottom": null,
      "display": null,
      "flex": null,
      "flex_flow": null,
      "grid_area": null,
      "grid_auto_columns": null,
      "grid_auto_flow": null,
      "grid_auto_rows": null,
      "grid_column": null,
      "grid_gap": null,
      "grid_row": null,
      "grid_template_areas": null,
      "grid_template_columns": null,
      "grid_template_rows": null,
      "height": null,
      "justify_content": null,
      "justify_items": null,
      "left": null,
      "margin": null,
      "max_height": null,
      "max_width": null,
      "min_height": null,
      "min_width": null,
      "object_fit": null,
      "object_position": null,
      "order": null,
      "overflow": null,
      "overflow_x": null,
      "overflow_y": null,
      "padding": null,
      "right": null,
      "top": null,
      "visibility": null,
      "width": null
     }
    },
    "5c60ce11fd344a08ba97804e484c36a3": {
     "model_module": "@jupyter-widgets/controls",
     "model_module_version": "1.5.0",
     "model_name": "HTMLModel",
     "state": {
      "_dom_classes": [],
      "_model_module": "@jupyter-widgets/controls",
      "_model_module_version": "1.5.0",
      "_model_name": "HTMLModel",
      "_view_count": null,
      "_view_module": "@jupyter-widgets/controls",
      "_view_module_version": "1.5.0",
      "_view_name": "HTMLView",
      "description": "",
      "description_tooltip": null,
      "layout": "IPY_MODEL_98100c3ab97d4d3281c2d7b385b013cc",
      "placeholder": "​",
      "style": "IPY_MODEL_4082f844c52045e08c0c1ce0d973a235",
      "value": " 29.0/29.0 [00:00&lt;00:00, 2.75kB/s]"
     }
    },
    "60bc8e5c33dc48f1aac47126b08da09f": {
     "model_module": "@jupyter-widgets/base",
     "model_module_version": "1.2.0",
     "model_name": "LayoutModel",
     "state": {
      "_model_module": "@jupyter-widgets/base",
      "_model_module_version": "1.2.0",
      "_model_name": "LayoutModel",
      "_view_count": null,
      "_view_module": "@jupyter-widgets/base",
      "_view_module_version": "1.2.0",
      "_view_name": "LayoutView",
      "align_content": null,
      "align_items": null,
      "align_self": null,
      "border": null,
      "bottom": null,
      "display": null,
      "flex": null,
      "flex_flow": null,
      "grid_area": null,
      "grid_auto_columns": null,
      "grid_auto_flow": null,
      "grid_auto_rows": null,
      "grid_column": null,
      "grid_gap": null,
      "grid_row": null,
      "grid_template_areas": null,
      "grid_template_columns": null,
      "grid_template_rows": null,
      "height": null,
      "justify_content": null,
      "justify_items": null,
      "left": null,
      "margin": null,
      "max_height": null,
      "max_width": null,
      "min_height": null,
      "min_width": null,
      "object_fit": null,
      "object_position": null,
      "order": null,
      "overflow": null,
      "overflow_x": null,
      "overflow_y": null,
      "padding": null,
      "right": null,
      "top": null,
      "visibility": null,
      "width": null
     }
    },
    "6a1020d6f31b4141b5c5a385e8fe1fc4": {
     "model_module": "@jupyter-widgets/controls",
     "model_module_version": "1.5.0",
     "model_name": "HTMLModel",
     "state": {
      "_dom_classes": [],
      "_model_module": "@jupyter-widgets/controls",
      "_model_module_version": "1.5.0",
      "_model_name": "HTMLModel",
      "_view_count": null,
      "_view_module": "@jupyter-widgets/controls",
      "_view_module_version": "1.5.0",
      "_view_name": "HTMLView",
      "description": "",
      "description_tooltip": null,
      "layout": "IPY_MODEL_d97b54429558442d95d4aff0765a617f",
      "placeholder": "​",
      "style": "IPY_MODEL_9be7a0159e674dbab74c6b69fdf0f8ff",
      "value": "Downloading (…)okenizer_config.json: 100%"
     }
    },
    "6d38d47e83e94abfafcd06adf1179fbf": {
     "model_module": "@jupyter-widgets/controls",
     "model_module_version": "1.5.0",
     "model_name": "ProgressStyleModel",
     "state": {
      "_model_module": "@jupyter-widgets/controls",
      "_model_module_version": "1.5.0",
      "_model_name": "ProgressStyleModel",
      "_view_count": null,
      "_view_module": "@jupyter-widgets/base",
      "_view_module_version": "1.2.0",
      "_view_name": "StyleView",
      "bar_color": null,
      "description_width": ""
     }
    },
    "716819aea6854ec3a4a86b3e72224908": {
     "model_module": "@jupyter-widgets/controls",
     "model_module_version": "1.5.0",
     "model_name": "HBoxModel",
     "state": {
      "_dom_classes": [],
      "_model_module": "@jupyter-widgets/controls",
      "_model_module_version": "1.5.0",
      "_model_name": "HBoxModel",
      "_view_count": null,
      "_view_module": "@jupyter-widgets/controls",
      "_view_module_version": "1.5.0",
      "_view_name": "HBoxView",
      "box_style": "",
      "children": [
       "IPY_MODEL_05fc171a23934bfaba6368dcbc06d421",
       "IPY_MODEL_7ddd963fbc814ac3990fc99c9b3e027e",
       "IPY_MODEL_7868c9ebcddb4eac8906ed280e2be189"
      ],
      "layout": "IPY_MODEL_23c63a520fb545cf84440ecf6501fbe6"
     }
    },
    "72e34a061bd34d58bcf747f87db74637": {
     "model_module": "@jupyter-widgets/base",
     "model_module_version": "1.2.0",
     "model_name": "LayoutModel",
     "state": {
      "_model_module": "@jupyter-widgets/base",
      "_model_module_version": "1.2.0",
      "_model_name": "LayoutModel",
      "_view_count": null,
      "_view_module": "@jupyter-widgets/base",
      "_view_module_version": "1.2.0",
      "_view_name": "LayoutView",
      "align_content": null,
      "align_items": null,
      "align_self": null,
      "border": null,
      "bottom": null,
      "display": null,
      "flex": null,
      "flex_flow": null,
      "grid_area": null,
      "grid_auto_columns": null,
      "grid_auto_flow": null,
      "grid_auto_rows": null,
      "grid_column": null,
      "grid_gap": null,
      "grid_row": null,
      "grid_template_areas": null,
      "grid_template_columns": null,
      "grid_template_rows": null,
      "height": null,
      "justify_content": null,
      "justify_items": null,
      "left": null,
      "margin": null,
      "max_height": null,
      "max_width": null,
      "min_height": null,
      "min_width": null,
      "object_fit": null,
      "object_position": null,
      "order": null,
      "overflow": null,
      "overflow_x": null,
      "overflow_y": null,
      "padding": null,
      "right": null,
      "top": null,
      "visibility": null,
      "width": null
     }
    },
    "769bc1203f7742dbbf8cdfa2e74b67ab": {
     "model_module": "@jupyter-widgets/controls",
     "model_module_version": "1.5.0",
     "model_name": "HBoxModel",
     "state": {
      "_dom_classes": [],
      "_model_module": "@jupyter-widgets/controls",
      "_model_module_version": "1.5.0",
      "_model_name": "HBoxModel",
      "_view_count": null,
      "_view_module": "@jupyter-widgets/controls",
      "_view_module_version": "1.5.0",
      "_view_name": "HBoxView",
      "box_style": "",
      "children": [
       "IPY_MODEL_b4c755e0322e413f96490d9280e9fad7",
       "IPY_MODEL_de0f66ddba4c49b9ba0decb1dc30cca5",
       "IPY_MODEL_d303d2118cbd4fbda8997fd19e181f52"
      ],
      "layout": "IPY_MODEL_3979c9e2678e4c9297f550ed580eb961"
     }
    },
    "7868c9ebcddb4eac8906ed280e2be189": {
     "model_module": "@jupyter-widgets/controls",
     "model_module_version": "1.5.0",
     "model_name": "HTMLModel",
     "state": {
      "_dom_classes": [],
      "_model_module": "@jupyter-widgets/controls",
      "_model_module_version": "1.5.0",
      "_model_name": "HTMLModel",
      "_view_count": null,
      "_view_module": "@jupyter-widgets/controls",
      "_view_module_version": "1.5.0",
      "_view_name": "HTMLView",
      "description": "",
      "description_tooltip": null,
      "layout": "IPY_MODEL_72e34a061bd34d58bcf747f87db74637",
      "placeholder": "​",
      "style": "IPY_MODEL_d16e2357e7134e648a8227febeb915ba",
      "value": " 213k/213k [00:00&lt;00:00, 5.48MB/s]"
     }
    },
    "7ddd963fbc814ac3990fc99c9b3e027e": {
     "model_module": "@jupyter-widgets/controls",
     "model_module_version": "1.5.0",
     "model_name": "FloatProgressModel",
     "state": {
      "_dom_classes": [],
      "_model_module": "@jupyter-widgets/controls",
      "_model_module_version": "1.5.0",
      "_model_name": "FloatProgressModel",
      "_view_count": null,
      "_view_module": "@jupyter-widgets/controls",
      "_view_module_version": "1.5.0",
      "_view_name": "ProgressView",
      "bar_style": "success",
      "description": "",
      "description_tooltip": null,
      "layout": "IPY_MODEL_f9ec6ec0f1ba4dd588c5de02d1c81be2",
      "max": 213450,
      "min": 0,
      "orientation": "horizontal",
      "style": "IPY_MODEL_6d38d47e83e94abfafcd06adf1179fbf",
      "value": 213450
     }
    },
    "84ac6512d34d4ce7980421be3aeb8627": {
     "model_module": "@jupyter-widgets/controls",
     "model_module_version": "1.5.0",
     "model_name": "HBoxModel",
     "state": {
      "_dom_classes": [],
      "_model_module": "@jupyter-widgets/controls",
      "_model_module_version": "1.5.0",
      "_model_name": "HBoxModel",
      "_view_count": null,
      "_view_module": "@jupyter-widgets/controls",
      "_view_module_version": "1.5.0",
      "_view_name": "HBoxView",
      "box_style": "",
      "children": [
       "IPY_MODEL_6a1020d6f31b4141b5c5a385e8fe1fc4",
       "IPY_MODEL_27fea4e3c8f04d3481fff73f3c8d9d57",
       "IPY_MODEL_5c60ce11fd344a08ba97804e484c36a3"
      ],
      "layout": "IPY_MODEL_ceb7919e1429402d94e79cf3c757a8e1"
     }
    },
    "904529cbf689409db74e57531cc13015": {
     "model_module": "@jupyter-widgets/base",
     "model_module_version": "1.2.0",
     "model_name": "LayoutModel",
     "state": {
      "_model_module": "@jupyter-widgets/base",
      "_model_module_version": "1.2.0",
      "_model_name": "LayoutModel",
      "_view_count": null,
      "_view_module": "@jupyter-widgets/base",
      "_view_module_version": "1.2.0",
      "_view_name": "LayoutView",
      "align_content": null,
      "align_items": null,
      "align_self": null,
      "border": null,
      "bottom": null,
      "display": null,
      "flex": null,
      "flex_flow": null,
      "grid_area": null,
      "grid_auto_columns": null,
      "grid_auto_flow": null,
      "grid_auto_rows": null,
      "grid_column": null,
      "grid_gap": null,
      "grid_row": null,
      "grid_template_areas": null,
      "grid_template_columns": null,
      "grid_template_rows": null,
      "height": null,
      "justify_content": null,
      "justify_items": null,
      "left": null,
      "margin": null,
      "max_height": null,
      "max_width": null,
      "min_height": null,
      "min_width": null,
      "object_fit": null,
      "object_position": null,
      "order": null,
      "overflow": null,
      "overflow_x": null,
      "overflow_y": null,
      "padding": null,
      "right": null,
      "top": null,
      "visibility": null,
      "width": null
     }
    },
    "98100c3ab97d4d3281c2d7b385b013cc": {
     "model_module": "@jupyter-widgets/base",
     "model_module_version": "1.2.0",
     "model_name": "LayoutModel",
     "state": {
      "_model_module": "@jupyter-widgets/base",
      "_model_module_version": "1.2.0",
      "_model_name": "LayoutModel",
      "_view_count": null,
      "_view_module": "@jupyter-widgets/base",
      "_view_module_version": "1.2.0",
      "_view_name": "LayoutView",
      "align_content": null,
      "align_items": null,
      "align_self": null,
      "border": null,
      "bottom": null,
      "display": null,
      "flex": null,
      "flex_flow": null,
      "grid_area": null,
      "grid_auto_columns": null,
      "grid_auto_flow": null,
      "grid_auto_rows": null,
      "grid_column": null,
      "grid_gap": null,
      "grid_row": null,
      "grid_template_areas": null,
      "grid_template_columns": null,
      "grid_template_rows": null,
      "height": null,
      "justify_content": null,
      "justify_items": null,
      "left": null,
      "margin": null,
      "max_height": null,
      "max_width": null,
      "min_height": null,
      "min_width": null,
      "object_fit": null,
      "object_position": null,
      "order": null,
      "overflow": null,
      "overflow_x": null,
      "overflow_y": null,
      "padding": null,
      "right": null,
      "top": null,
      "visibility": null,
      "width": null
     }
    },
    "9be7a0159e674dbab74c6b69fdf0f8ff": {
     "model_module": "@jupyter-widgets/controls",
     "model_module_version": "1.5.0",
     "model_name": "DescriptionStyleModel",
     "state": {
      "_model_module": "@jupyter-widgets/controls",
      "_model_module_version": "1.5.0",
      "_model_name": "DescriptionStyleModel",
      "_view_count": null,
      "_view_module": "@jupyter-widgets/base",
      "_view_module_version": "1.2.0",
      "_view_name": "StyleView",
      "description_width": ""
     }
    },
    "a88d68688cb248cfae8599e5f535e28c": {
     "model_module": "@jupyter-widgets/base",
     "model_module_version": "1.2.0",
     "model_name": "LayoutModel",
     "state": {
      "_model_module": "@jupyter-widgets/base",
      "_model_module_version": "1.2.0",
      "_model_name": "LayoutModel",
      "_view_count": null,
      "_view_module": "@jupyter-widgets/base",
      "_view_module_version": "1.2.0",
      "_view_name": "LayoutView",
      "align_content": null,
      "align_items": null,
      "align_self": null,
      "border": null,
      "bottom": null,
      "display": null,
      "flex": null,
      "flex_flow": null,
      "grid_area": null,
      "grid_auto_columns": null,
      "grid_auto_flow": null,
      "grid_auto_rows": null,
      "grid_column": null,
      "grid_gap": null,
      "grid_row": null,
      "grid_template_areas": null,
      "grid_template_columns": null,
      "grid_template_rows": null,
      "height": null,
      "justify_content": null,
      "justify_items": null,
      "left": null,
      "margin": null,
      "max_height": null,
      "max_width": null,
      "min_height": null,
      "min_width": null,
      "object_fit": null,
      "object_position": null,
      "order": null,
      "overflow": null,
      "overflow_x": null,
      "overflow_y": null,
      "padding": null,
      "right": null,
      "top": null,
      "visibility": null,
      "width": null
     }
    },
    "b4c755e0322e413f96490d9280e9fad7": {
     "model_module": "@jupyter-widgets/controls",
     "model_module_version": "1.5.0",
     "model_name": "HTMLModel",
     "state": {
      "_dom_classes": [],
      "_model_module": "@jupyter-widgets/controls",
      "_model_module_version": "1.5.0",
      "_model_name": "HTMLModel",
      "_view_count": null,
      "_view_module": "@jupyter-widgets/controls",
      "_view_module_version": "1.5.0",
      "_view_name": "HTMLView",
      "description": "",
      "description_tooltip": null,
      "layout": "IPY_MODEL_4c02aa12fbd949ee9bb895181868e724",
      "placeholder": "​",
      "style": "IPY_MODEL_e3a53e56e56147bd97868b54cea168a4",
      "value": "Downloading (…)lve/main/config.json: 100%"
     }
    },
    "ceb7919e1429402d94e79cf3c757a8e1": {
     "model_module": "@jupyter-widgets/base",
     "model_module_version": "1.2.0",
     "model_name": "LayoutModel",
     "state": {
      "_model_module": "@jupyter-widgets/base",
      "_model_module_version": "1.2.0",
      "_model_name": "LayoutModel",
      "_view_count": null,
      "_view_module": "@jupyter-widgets/base",
      "_view_module_version": "1.2.0",
      "_view_name": "LayoutView",
      "align_content": null,
      "align_items": null,
      "align_self": null,
      "border": null,
      "bottom": null,
      "display": null,
      "flex": null,
      "flex_flow": null,
      "grid_area": null,
      "grid_auto_columns": null,
      "grid_auto_flow": null,
      "grid_auto_rows": null,
      "grid_column": null,
      "grid_gap": null,
      "grid_row": null,
      "grid_template_areas": null,
      "grid_template_columns": null,
      "grid_template_rows": null,
      "height": null,
      "justify_content": null,
      "justify_items": null,
      "left": null,
      "margin": null,
      "max_height": null,
      "max_width": null,
      "min_height": null,
      "min_width": null,
      "object_fit": null,
      "object_position": null,
      "order": null,
      "overflow": null,
      "overflow_x": null,
      "overflow_y": null,
      "padding": null,
      "right": null,
      "top": null,
      "visibility": null,
      "width": null
     }
    },
    "d16e2357e7134e648a8227febeb915ba": {
     "model_module": "@jupyter-widgets/controls",
     "model_module_version": "1.5.0",
     "model_name": "DescriptionStyleModel",
     "state": {
      "_model_module": "@jupyter-widgets/controls",
      "_model_module_version": "1.5.0",
      "_model_name": "DescriptionStyleModel",
      "_view_count": null,
      "_view_module": "@jupyter-widgets/base",
      "_view_module_version": "1.2.0",
      "_view_name": "StyleView",
      "description_width": ""
     }
    },
    "d303d2118cbd4fbda8997fd19e181f52": {
     "model_module": "@jupyter-widgets/controls",
     "model_module_version": "1.5.0",
     "model_name": "HTMLModel",
     "state": {
      "_dom_classes": [],
      "_model_module": "@jupyter-widgets/controls",
      "_model_module_version": "1.5.0",
      "_model_name": "HTMLModel",
      "_view_count": null,
      "_view_module": "@jupyter-widgets/controls",
      "_view_module_version": "1.5.0",
      "_view_name": "HTMLView",
      "description": "",
      "description_tooltip": null,
      "layout": "IPY_MODEL_a88d68688cb248cfae8599e5f535e28c",
      "placeholder": "​",
      "style": "IPY_MODEL_3616c353cac84276b2df1e677b599e3b",
      "value": " 762/762 [00:00&lt;00:00, 75.7kB/s]"
     }
    },
    "d97b54429558442d95d4aff0765a617f": {
     "model_module": "@jupyter-widgets/base",
     "model_module_version": "1.2.0",
     "model_name": "LayoutModel",
     "state": {
      "_model_module": "@jupyter-widgets/base",
      "_model_module_version": "1.2.0",
      "_model_name": "LayoutModel",
      "_view_count": null,
      "_view_module": "@jupyter-widgets/base",
      "_view_module_version": "1.2.0",
      "_view_name": "LayoutView",
      "align_content": null,
      "align_items": null,
      "align_self": null,
      "border": null,
      "bottom": null,
      "display": null,
      "flex": null,
      "flex_flow": null,
      "grid_area": null,
      "grid_auto_columns": null,
      "grid_auto_flow": null,
      "grid_auto_rows": null,
      "grid_column": null,
      "grid_gap": null,
      "grid_row": null,
      "grid_template_areas": null,
      "grid_template_columns": null,
      "grid_template_rows": null,
      "height": null,
      "justify_content": null,
      "justify_items": null,
      "left": null,
      "margin": null,
      "max_height": null,
      "max_width": null,
      "min_height": null,
      "min_width": null,
      "object_fit": null,
      "object_position": null,
      "order": null,
      "overflow": null,
      "overflow_x": null,
      "overflow_y": null,
      "padding": null,
      "right": null,
      "top": null,
      "visibility": null,
      "width": null
     }
    },
    "de0f66ddba4c49b9ba0decb1dc30cca5": {
     "model_module": "@jupyter-widgets/controls",
     "model_module_version": "1.5.0",
     "model_name": "FloatProgressModel",
     "state": {
      "_dom_classes": [],
      "_model_module": "@jupyter-widgets/controls",
      "_model_module_version": "1.5.0",
      "_model_name": "FloatProgressModel",
      "_view_count": null,
      "_view_module": "@jupyter-widgets/controls",
      "_view_module_version": "1.5.0",
      "_view_name": "ProgressView",
      "bar_style": "success",
      "description": "",
      "description_tooltip": null,
      "layout": "IPY_MODEL_904529cbf689409db74e57531cc13015",
      "max": 762,
      "min": 0,
      "orientation": "horizontal",
      "style": "IPY_MODEL_324d22b24d8e45d3a60e8b7b6e11cd3e",
      "value": 762
     }
    },
    "e3a53e56e56147bd97868b54cea168a4": {
     "model_module": "@jupyter-widgets/controls",
     "model_module_version": "1.5.0",
     "model_name": "DescriptionStyleModel",
     "state": {
      "_model_module": "@jupyter-widgets/controls",
      "_model_module_version": "1.5.0",
      "_model_name": "DescriptionStyleModel",
      "_view_count": null,
      "_view_module": "@jupyter-widgets/base",
      "_view_module_version": "1.2.0",
      "_view_name": "StyleView",
      "description_width": ""
     }
    },
    "f9ec6ec0f1ba4dd588c5de02d1c81be2": {
     "model_module": "@jupyter-widgets/base",
     "model_module_version": "1.2.0",
     "model_name": "LayoutModel",
     "state": {
      "_model_module": "@jupyter-widgets/base",
      "_model_module_version": "1.2.0",
      "_model_name": "LayoutModel",
      "_view_count": null,
      "_view_module": "@jupyter-widgets/base",
      "_view_module_version": "1.2.0",
      "_view_name": "LayoutView",
      "align_content": null,
      "align_items": null,
      "align_self": null,
      "border": null,
      "bottom": null,
      "display": null,
      "flex": null,
      "flex_flow": null,
      "grid_area": null,
      "grid_auto_columns": null,
      "grid_auto_flow": null,
      "grid_auto_rows": null,
      "grid_column": null,
      "grid_gap": null,
      "grid_row": null,
      "grid_template_areas": null,
      "grid_template_columns": null,
      "grid_template_rows": null,
      "height": null,
      "justify_content": null,
      "justify_items": null,
      "left": null,
      "margin": null,
      "max_height": null,
      "max_width": null,
      "min_height": null,
      "min_width": null,
      "object_fit": null,
      "object_position": null,
      "order": null,
      "overflow": null,
      "overflow_x": null,
      "overflow_y": null,
      "padding": null,
      "right": null,
      "top": null,
      "visibility": null,
      "width": null
     }
    }
   }
  }
 },
 "nbformat": 4,
 "nbformat_minor": 4
}
