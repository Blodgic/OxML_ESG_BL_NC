{
  "nbformat": 4,
  "nbformat_minor": 0,
  "metadata": {
    "colab": {
      "provenance": [],
      "machine_shape": "hm",
      "gpuType": "A100"
    },
    "kernelspec": {
      "name": "python3",
      "display_name": "Python 3"
    },
    "language_info": {
      "name": "python"
    },
    "accelerator": "GPU",
    "widgets": {
      "application/vnd.jupyter.widget-state+json": {
        "716819aea6854ec3a4a86b3e72224908": {
          "model_module": "@jupyter-widgets/controls",
          "model_name": "HBoxModel",
          "model_module_version": "1.5.0",
          "state": {
            "_dom_classes": [],
            "_model_module": "@jupyter-widgets/controls",
            "_model_module_version": "1.5.0",
            "_model_name": "HBoxModel",
            "_view_count": null,
            "_view_module": "@jupyter-widgets/controls",
            "_view_module_version": "1.5.0",
            "_view_name": "HBoxView",
            "box_style": "",
            "children": [
              "IPY_MODEL_05fc171a23934bfaba6368dcbc06d421",
              "IPY_MODEL_7ddd963fbc814ac3990fc99c9b3e027e",
              "IPY_MODEL_7868c9ebcddb4eac8906ed280e2be189"
            ],
            "layout": "IPY_MODEL_23c63a520fb545cf84440ecf6501fbe6"
          }
        },
        "05fc171a23934bfaba6368dcbc06d421": {
          "model_module": "@jupyter-widgets/controls",
          "model_name": "HTMLModel",
          "model_module_version": "1.5.0",
          "state": {
            "_dom_classes": [],
            "_model_module": "@jupyter-widgets/controls",
            "_model_module_version": "1.5.0",
            "_model_name": "HTMLModel",
            "_view_count": null,
            "_view_module": "@jupyter-widgets/controls",
            "_view_module_version": "1.5.0",
            "_view_name": "HTMLView",
            "description": "",
            "description_tooltip": null,
            "layout": "IPY_MODEL_60bc8e5c33dc48f1aac47126b08da09f",
            "placeholder": "​",
            "style": "IPY_MODEL_16f8726a04ee4b8bbd7d256b164cd8df",
            "value": "Downloading (…)solve/main/vocab.txt: 100%"
          }
        },
        "7ddd963fbc814ac3990fc99c9b3e027e": {
          "model_module": "@jupyter-widgets/controls",
          "model_name": "FloatProgressModel",
          "model_module_version": "1.5.0",
          "state": {
            "_dom_classes": [],
            "_model_module": "@jupyter-widgets/controls",
            "_model_module_version": "1.5.0",
            "_model_name": "FloatProgressModel",
            "_view_count": null,
            "_view_module": "@jupyter-widgets/controls",
            "_view_module_version": "1.5.0",
            "_view_name": "ProgressView",
            "bar_style": "success",
            "description": "",
            "description_tooltip": null,
            "layout": "IPY_MODEL_f9ec6ec0f1ba4dd588c5de02d1c81be2",
            "max": 213450,
            "min": 0,
            "orientation": "horizontal",
            "style": "IPY_MODEL_6d38d47e83e94abfafcd06adf1179fbf",
            "value": 213450
          }
        },
        "7868c9ebcddb4eac8906ed280e2be189": {
          "model_module": "@jupyter-widgets/controls",
          "model_name": "HTMLModel",
          "model_module_version": "1.5.0",
          "state": {
            "_dom_classes": [],
            "_model_module": "@jupyter-widgets/controls",
            "_model_module_version": "1.5.0",
            "_model_name": "HTMLModel",
            "_view_count": null,
            "_view_module": "@jupyter-widgets/controls",
            "_view_module_version": "1.5.0",
            "_view_name": "HTMLView",
            "description": "",
            "description_tooltip": null,
            "layout": "IPY_MODEL_72e34a061bd34d58bcf747f87db74637",
            "placeholder": "​",
            "style": "IPY_MODEL_d16e2357e7134e648a8227febeb915ba",
            "value": " 213k/213k [00:00&lt;00:00, 5.48MB/s]"
          }
        },
        "23c63a520fb545cf84440ecf6501fbe6": {
          "model_module": "@jupyter-widgets/base",
          "model_name": "LayoutModel",
          "model_module_version": "1.2.0",
          "state": {
            "_model_module": "@jupyter-widgets/base",
            "_model_module_version": "1.2.0",
            "_model_name": "LayoutModel",
            "_view_count": null,
            "_view_module": "@jupyter-widgets/base",
            "_view_module_version": "1.2.0",
            "_view_name": "LayoutView",
            "align_content": null,
            "align_items": null,
            "align_self": null,
            "border": null,
            "bottom": null,
            "display": null,
            "flex": null,
            "flex_flow": null,
            "grid_area": null,
            "grid_auto_columns": null,
            "grid_auto_flow": null,
            "grid_auto_rows": null,
            "grid_column": null,
            "grid_gap": null,
            "grid_row": null,
            "grid_template_areas": null,
            "grid_template_columns": null,
            "grid_template_rows": null,
            "height": null,
            "justify_content": null,
            "justify_items": null,
            "left": null,
            "margin": null,
            "max_height": null,
            "max_width": null,
            "min_height": null,
            "min_width": null,
            "object_fit": null,
            "object_position": null,
            "order": null,
            "overflow": null,
            "overflow_x": null,
            "overflow_y": null,
            "padding": null,
            "right": null,
            "top": null,
            "visibility": null,
            "width": null
          }
        },
        "60bc8e5c33dc48f1aac47126b08da09f": {
          "model_module": "@jupyter-widgets/base",
          "model_name": "LayoutModel",
          "model_module_version": "1.2.0",
          "state": {
            "_model_module": "@jupyter-widgets/base",
            "_model_module_version": "1.2.0",
            "_model_name": "LayoutModel",
            "_view_count": null,
            "_view_module": "@jupyter-widgets/base",
            "_view_module_version": "1.2.0",
            "_view_name": "LayoutView",
            "align_content": null,
            "align_items": null,
            "align_self": null,
            "border": null,
            "bottom": null,
            "display": null,
            "flex": null,
            "flex_flow": null,
            "grid_area": null,
            "grid_auto_columns": null,
            "grid_auto_flow": null,
            "grid_auto_rows": null,
            "grid_column": null,
            "grid_gap": null,
            "grid_row": null,
            "grid_template_areas": null,
            "grid_template_columns": null,
            "grid_template_rows": null,
            "height": null,
            "justify_content": null,
            "justify_items": null,
            "left": null,
            "margin": null,
            "max_height": null,
            "max_width": null,
            "min_height": null,
            "min_width": null,
            "object_fit": null,
            "object_position": null,
            "order": null,
            "overflow": null,
            "overflow_x": null,
            "overflow_y": null,
            "padding": null,
            "right": null,
            "top": null,
            "visibility": null,
            "width": null
          }
        },
        "16f8726a04ee4b8bbd7d256b164cd8df": {
          "model_module": "@jupyter-widgets/controls",
          "model_name": "DescriptionStyleModel",
          "model_module_version": "1.5.0",
          "state": {
            "_model_module": "@jupyter-widgets/controls",
            "_model_module_version": "1.5.0",
            "_model_name": "DescriptionStyleModel",
            "_view_count": null,
            "_view_module": "@jupyter-widgets/base",
            "_view_module_version": "1.2.0",
            "_view_name": "StyleView",
            "description_width": ""
          }
        },
        "f9ec6ec0f1ba4dd588c5de02d1c81be2": {
          "model_module": "@jupyter-widgets/base",
          "model_name": "LayoutModel",
          "model_module_version": "1.2.0",
          "state": {
            "_model_module": "@jupyter-widgets/base",
            "_model_module_version": "1.2.0",
            "_model_name": "LayoutModel",
            "_view_count": null,
            "_view_module": "@jupyter-widgets/base",
            "_view_module_version": "1.2.0",
            "_view_name": "LayoutView",
            "align_content": null,
            "align_items": null,
            "align_self": null,
            "border": null,
            "bottom": null,
            "display": null,
            "flex": null,
            "flex_flow": null,
            "grid_area": null,
            "grid_auto_columns": null,
            "grid_auto_flow": null,
            "grid_auto_rows": null,
            "grid_column": null,
            "grid_gap": null,
            "grid_row": null,
            "grid_template_areas": null,
            "grid_template_columns": null,
            "grid_template_rows": null,
            "height": null,
            "justify_content": null,
            "justify_items": null,
            "left": null,
            "margin": null,
            "max_height": null,
            "max_width": null,
            "min_height": null,
            "min_width": null,
            "object_fit": null,
            "object_position": null,
            "order": null,
            "overflow": null,
            "overflow_x": null,
            "overflow_y": null,
            "padding": null,
            "right": null,
            "top": null,
            "visibility": null,
            "width": null
          }
        },
        "6d38d47e83e94abfafcd06adf1179fbf": {
          "model_module": "@jupyter-widgets/controls",
          "model_name": "ProgressStyleModel",
          "model_module_version": "1.5.0",
          "state": {
            "_model_module": "@jupyter-widgets/controls",
            "_model_module_version": "1.5.0",
            "_model_name": "ProgressStyleModel",
            "_view_count": null,
            "_view_module": "@jupyter-widgets/base",
            "_view_module_version": "1.2.0",
            "_view_name": "StyleView",
            "bar_color": null,
            "description_width": ""
          }
        },
        "72e34a061bd34d58bcf747f87db74637": {
          "model_module": "@jupyter-widgets/base",
          "model_name": "LayoutModel",
          "model_module_version": "1.2.0",
          "state": {
            "_model_module": "@jupyter-widgets/base",
            "_model_module_version": "1.2.0",
            "_model_name": "LayoutModel",
            "_view_count": null,
            "_view_module": "@jupyter-widgets/base",
            "_view_module_version": "1.2.0",
            "_view_name": "LayoutView",
            "align_content": null,
            "align_items": null,
            "align_self": null,
            "border": null,
            "bottom": null,
            "display": null,
            "flex": null,
            "flex_flow": null,
            "grid_area": null,
            "grid_auto_columns": null,
            "grid_auto_flow": null,
            "grid_auto_rows": null,
            "grid_column": null,
            "grid_gap": null,
            "grid_row": null,
            "grid_template_areas": null,
            "grid_template_columns": null,
            "grid_template_rows": null,
            "height": null,
            "justify_content": null,
            "justify_items": null,
            "left": null,
            "margin": null,
            "max_height": null,
            "max_width": null,
            "min_height": null,
            "min_width": null,
            "object_fit": null,
            "object_position": null,
            "order": null,
            "overflow": null,
            "overflow_x": null,
            "overflow_y": null,
            "padding": null,
            "right": null,
            "top": null,
            "visibility": null,
            "width": null
          }
        },
        "d16e2357e7134e648a8227febeb915ba": {
          "model_module": "@jupyter-widgets/controls",
          "model_name": "DescriptionStyleModel",
          "model_module_version": "1.5.0",
          "state": {
            "_model_module": "@jupyter-widgets/controls",
            "_model_module_version": "1.5.0",
            "_model_name": "DescriptionStyleModel",
            "_view_count": null,
            "_view_module": "@jupyter-widgets/base",
            "_view_module_version": "1.2.0",
            "_view_name": "StyleView",
            "description_width": ""
          }
        },
        "84ac6512d34d4ce7980421be3aeb8627": {
          "model_module": "@jupyter-widgets/controls",
          "model_name": "HBoxModel",
          "model_module_version": "1.5.0",
          "state": {
            "_dom_classes": [],
            "_model_module": "@jupyter-widgets/controls",
            "_model_module_version": "1.5.0",
            "_model_name": "HBoxModel",
            "_view_count": null,
            "_view_module": "@jupyter-widgets/controls",
            "_view_module_version": "1.5.0",
            "_view_name": "HBoxView",
            "box_style": "",
            "children": [
              "IPY_MODEL_6a1020d6f31b4141b5c5a385e8fe1fc4",
              "IPY_MODEL_27fea4e3c8f04d3481fff73f3c8d9d57",
              "IPY_MODEL_5c60ce11fd344a08ba97804e484c36a3"
            ],
            "layout": "IPY_MODEL_ceb7919e1429402d94e79cf3c757a8e1"
          }
        },
        "6a1020d6f31b4141b5c5a385e8fe1fc4": {
          "model_module": "@jupyter-widgets/controls",
          "model_name": "HTMLModel",
          "model_module_version": "1.5.0",
          "state": {
            "_dom_classes": [],
            "_model_module": "@jupyter-widgets/controls",
            "_model_module_version": "1.5.0",
            "_model_name": "HTMLModel",
            "_view_count": null,
            "_view_module": "@jupyter-widgets/controls",
            "_view_module_version": "1.5.0",
            "_view_name": "HTMLView",
            "description": "",
            "description_tooltip": null,
            "layout": "IPY_MODEL_d97b54429558442d95d4aff0765a617f",
            "placeholder": "​",
            "style": "IPY_MODEL_9be7a0159e674dbab74c6b69fdf0f8ff",
            "value": "Downloading (…)okenizer_config.json: 100%"
          }
        },
        "27fea4e3c8f04d3481fff73f3c8d9d57": {
          "model_module": "@jupyter-widgets/controls",
          "model_name": "FloatProgressModel",
          "model_module_version": "1.5.0",
          "state": {
            "_dom_classes": [],
            "_model_module": "@jupyter-widgets/controls",
            "_model_module_version": "1.5.0",
            "_model_name": "FloatProgressModel",
            "_view_count": null,
            "_view_module": "@jupyter-widgets/controls",
            "_view_module_version": "1.5.0",
            "_view_name": "ProgressView",
            "bar_style": "success",
            "description": "",
            "description_tooltip": null,
            "layout": "IPY_MODEL_33984d5fd63744ea9524a90118593410",
            "max": 29,
            "min": 0,
            "orientation": "horizontal",
            "style": "IPY_MODEL_15c5112d5ccf48edb9fefce4700b7f01",
            "value": 29
          }
        },
        "5c60ce11fd344a08ba97804e484c36a3": {
          "model_module": "@jupyter-widgets/controls",
          "model_name": "HTMLModel",
          "model_module_version": "1.5.0",
          "state": {
            "_dom_classes": [],
            "_model_module": "@jupyter-widgets/controls",
            "_model_module_version": "1.5.0",
            "_model_name": "HTMLModel",
            "_view_count": null,
            "_view_module": "@jupyter-widgets/controls",
            "_view_module_version": "1.5.0",
            "_view_name": "HTMLView",
            "description": "",
            "description_tooltip": null,
            "layout": "IPY_MODEL_98100c3ab97d4d3281c2d7b385b013cc",
            "placeholder": "​",
            "style": "IPY_MODEL_4082f844c52045e08c0c1ce0d973a235",
            "value": " 29.0/29.0 [00:00&lt;00:00, 2.75kB/s]"
          }
        },
        "ceb7919e1429402d94e79cf3c757a8e1": {
          "model_module": "@jupyter-widgets/base",
          "model_name": "LayoutModel",
          "model_module_version": "1.2.0",
          "state": {
            "_model_module": "@jupyter-widgets/base",
            "_model_module_version": "1.2.0",
            "_model_name": "LayoutModel",
            "_view_count": null,
            "_view_module": "@jupyter-widgets/base",
            "_view_module_version": "1.2.0",
            "_view_name": "LayoutView",
            "align_content": null,
            "align_items": null,
            "align_self": null,
            "border": null,
            "bottom": null,
            "display": null,
            "flex": null,
            "flex_flow": null,
            "grid_area": null,
            "grid_auto_columns": null,
            "grid_auto_flow": null,
            "grid_auto_rows": null,
            "grid_column": null,
            "grid_gap": null,
            "grid_row": null,
            "grid_template_areas": null,
            "grid_template_columns": null,
            "grid_template_rows": null,
            "height": null,
            "justify_content": null,
            "justify_items": null,
            "left": null,
            "margin": null,
            "max_height": null,
            "max_width": null,
            "min_height": null,
            "min_width": null,
            "object_fit": null,
            "object_position": null,
            "order": null,
            "overflow": null,
            "overflow_x": null,
            "overflow_y": null,
            "padding": null,
            "right": null,
            "top": null,
            "visibility": null,
            "width": null
          }
        },
        "d97b54429558442d95d4aff0765a617f": {
          "model_module": "@jupyter-widgets/base",
          "model_name": "LayoutModel",
          "model_module_version": "1.2.0",
          "state": {
            "_model_module": "@jupyter-widgets/base",
            "_model_module_version": "1.2.0",
            "_model_name": "LayoutModel",
            "_view_count": null,
            "_view_module": "@jupyter-widgets/base",
            "_view_module_version": "1.2.0",
            "_view_name": "LayoutView",
            "align_content": null,
            "align_items": null,
            "align_self": null,
            "border": null,
            "bottom": null,
            "display": null,
            "flex": null,
            "flex_flow": null,
            "grid_area": null,
            "grid_auto_columns": null,
            "grid_auto_flow": null,
            "grid_auto_rows": null,
            "grid_column": null,
            "grid_gap": null,
            "grid_row": null,
            "grid_template_areas": null,
            "grid_template_columns": null,
            "grid_template_rows": null,
            "height": null,
            "justify_content": null,
            "justify_items": null,
            "left": null,
            "margin": null,
            "max_height": null,
            "max_width": null,
            "min_height": null,
            "min_width": null,
            "object_fit": null,
            "object_position": null,
            "order": null,
            "overflow": null,
            "overflow_x": null,
            "overflow_y": null,
            "padding": null,
            "right": null,
            "top": null,
            "visibility": null,
            "width": null
          }
        },
        "9be7a0159e674dbab74c6b69fdf0f8ff": {
          "model_module": "@jupyter-widgets/controls",
          "model_name": "DescriptionStyleModel",
          "model_module_version": "1.5.0",
          "state": {
            "_model_module": "@jupyter-widgets/controls",
            "_model_module_version": "1.5.0",
            "_model_name": "DescriptionStyleModel",
            "_view_count": null,
            "_view_module": "@jupyter-widgets/base",
            "_view_module_version": "1.2.0",
            "_view_name": "StyleView",
            "description_width": ""
          }
        },
        "33984d5fd63744ea9524a90118593410": {
          "model_module": "@jupyter-widgets/base",
          "model_name": "LayoutModel",
          "model_module_version": "1.2.0",
          "state": {
            "_model_module": "@jupyter-widgets/base",
            "_model_module_version": "1.2.0",
            "_model_name": "LayoutModel",
            "_view_count": null,
            "_view_module": "@jupyter-widgets/base",
            "_view_module_version": "1.2.0",
            "_view_name": "LayoutView",
            "align_content": null,
            "align_items": null,
            "align_self": null,
            "border": null,
            "bottom": null,
            "display": null,
            "flex": null,
            "flex_flow": null,
            "grid_area": null,
            "grid_auto_columns": null,
            "grid_auto_flow": null,
            "grid_auto_rows": null,
            "grid_column": null,
            "grid_gap": null,
            "grid_row": null,
            "grid_template_areas": null,
            "grid_template_columns": null,
            "grid_template_rows": null,
            "height": null,
            "justify_content": null,
            "justify_items": null,
            "left": null,
            "margin": null,
            "max_height": null,
            "max_width": null,
            "min_height": null,
            "min_width": null,
            "object_fit": null,
            "object_position": null,
            "order": null,
            "overflow": null,
            "overflow_x": null,
            "overflow_y": null,
            "padding": null,
            "right": null,
            "top": null,
            "visibility": null,
            "width": null
          }
        },
        "15c5112d5ccf48edb9fefce4700b7f01": {
          "model_module": "@jupyter-widgets/controls",
          "model_name": "ProgressStyleModel",
          "model_module_version": "1.5.0",
          "state": {
            "_model_module": "@jupyter-widgets/controls",
            "_model_module_version": "1.5.0",
            "_model_name": "ProgressStyleModel",
            "_view_count": null,
            "_view_module": "@jupyter-widgets/base",
            "_view_module_version": "1.2.0",
            "_view_name": "StyleView",
            "bar_color": null,
            "description_width": ""
          }
        },
        "98100c3ab97d4d3281c2d7b385b013cc": {
          "model_module": "@jupyter-widgets/base",
          "model_name": "LayoutModel",
          "model_module_version": "1.2.0",
          "state": {
            "_model_module": "@jupyter-widgets/base",
            "_model_module_version": "1.2.0",
            "_model_name": "LayoutModel",
            "_view_count": null,
            "_view_module": "@jupyter-widgets/base",
            "_view_module_version": "1.2.0",
            "_view_name": "LayoutView",
            "align_content": null,
            "align_items": null,
            "align_self": null,
            "border": null,
            "bottom": null,
            "display": null,
            "flex": null,
            "flex_flow": null,
            "grid_area": null,
            "grid_auto_columns": null,
            "grid_auto_flow": null,
            "grid_auto_rows": null,
            "grid_column": null,
            "grid_gap": null,
            "grid_row": null,
            "grid_template_areas": null,
            "grid_template_columns": null,
            "grid_template_rows": null,
            "height": null,
            "justify_content": null,
            "justify_items": null,
            "left": null,
            "margin": null,
            "max_height": null,
            "max_width": null,
            "min_height": null,
            "min_width": null,
            "object_fit": null,
            "object_position": null,
            "order": null,
            "overflow": null,
            "overflow_x": null,
            "overflow_y": null,
            "padding": null,
            "right": null,
            "top": null,
            "visibility": null,
            "width": null
          }
        },
        "4082f844c52045e08c0c1ce0d973a235": {
          "model_module": "@jupyter-widgets/controls",
          "model_name": "DescriptionStyleModel",
          "model_module_version": "1.5.0",
          "state": {
            "_model_module": "@jupyter-widgets/controls",
            "_model_module_version": "1.5.0",
            "_model_name": "DescriptionStyleModel",
            "_view_count": null,
            "_view_module": "@jupyter-widgets/base",
            "_view_module_version": "1.2.0",
            "_view_name": "StyleView",
            "description_width": ""
          }
        },
        "769bc1203f7742dbbf8cdfa2e74b67ab": {
          "model_module": "@jupyter-widgets/controls",
          "model_name": "HBoxModel",
          "model_module_version": "1.5.0",
          "state": {
            "_dom_classes": [],
            "_model_module": "@jupyter-widgets/controls",
            "_model_module_version": "1.5.0",
            "_model_name": "HBoxModel",
            "_view_count": null,
            "_view_module": "@jupyter-widgets/controls",
            "_view_module_version": "1.5.0",
            "_view_name": "HBoxView",
            "box_style": "",
            "children": [
              "IPY_MODEL_b4c755e0322e413f96490d9280e9fad7",
              "IPY_MODEL_de0f66ddba4c49b9ba0decb1dc30cca5",
              "IPY_MODEL_d303d2118cbd4fbda8997fd19e181f52"
            ],
            "layout": "IPY_MODEL_3979c9e2678e4c9297f550ed580eb961"
          }
        },
        "b4c755e0322e413f96490d9280e9fad7": {
          "model_module": "@jupyter-widgets/controls",
          "model_name": "HTMLModel",
          "model_module_version": "1.5.0",
          "state": {
            "_dom_classes": [],
            "_model_module": "@jupyter-widgets/controls",
            "_model_module_version": "1.5.0",
            "_model_name": "HTMLModel",
            "_view_count": null,
            "_view_module": "@jupyter-widgets/controls",
            "_view_module_version": "1.5.0",
            "_view_name": "HTMLView",
            "description": "",
            "description_tooltip": null,
            "layout": "IPY_MODEL_4c02aa12fbd949ee9bb895181868e724",
            "placeholder": "​",
            "style": "IPY_MODEL_e3a53e56e56147bd97868b54cea168a4",
            "value": "Downloading (…)lve/main/config.json: 100%"
          }
        },
        "de0f66ddba4c49b9ba0decb1dc30cca5": {
          "model_module": "@jupyter-widgets/controls",
          "model_name": "FloatProgressModel",
          "model_module_version": "1.5.0",
          "state": {
            "_dom_classes": [],
            "_model_module": "@jupyter-widgets/controls",
            "_model_module_version": "1.5.0",
            "_model_name": "FloatProgressModel",
            "_view_count": null,
            "_view_module": "@jupyter-widgets/controls",
            "_view_module_version": "1.5.0",
            "_view_name": "ProgressView",
            "bar_style": "success",
            "description": "",
            "description_tooltip": null,
            "layout": "IPY_MODEL_904529cbf689409db74e57531cc13015",
            "max": 762,
            "min": 0,
            "orientation": "horizontal",
            "style": "IPY_MODEL_324d22b24d8e45d3a60e8b7b6e11cd3e",
            "value": 762
          }
        },
        "d303d2118cbd4fbda8997fd19e181f52": {
          "model_module": "@jupyter-widgets/controls",
          "model_name": "HTMLModel",
          "model_module_version": "1.5.0",
          "state": {
            "_dom_classes": [],
            "_model_module": "@jupyter-widgets/controls",
            "_model_module_version": "1.5.0",
            "_model_name": "HTMLModel",
            "_view_count": null,
            "_view_module": "@jupyter-widgets/controls",
            "_view_module_version": "1.5.0",
            "_view_name": "HTMLView",
            "description": "",
            "description_tooltip": null,
            "layout": "IPY_MODEL_a88d68688cb248cfae8599e5f535e28c",
            "placeholder": "​",
            "style": "IPY_MODEL_3616c353cac84276b2df1e677b599e3b",
            "value": " 762/762 [00:00&lt;00:00, 75.7kB/s]"
          }
        },
        "3979c9e2678e4c9297f550ed580eb961": {
          "model_module": "@jupyter-widgets/base",
          "model_name": "LayoutModel",
          "model_module_version": "1.2.0",
          "state": {
            "_model_module": "@jupyter-widgets/base",
            "_model_module_version": "1.2.0",
            "_model_name": "LayoutModel",
            "_view_count": null,
            "_view_module": "@jupyter-widgets/base",
            "_view_module_version": "1.2.0",
            "_view_name": "LayoutView",
            "align_content": null,
            "align_items": null,
            "align_self": null,
            "border": null,
            "bottom": null,
            "display": null,
            "flex": null,
            "flex_flow": null,
            "grid_area": null,
            "grid_auto_columns": null,
            "grid_auto_flow": null,
            "grid_auto_rows": null,
            "grid_column": null,
            "grid_gap": null,
            "grid_row": null,
            "grid_template_areas": null,
            "grid_template_columns": null,
            "grid_template_rows": null,
            "height": null,
            "justify_content": null,
            "justify_items": null,
            "left": null,
            "margin": null,
            "max_height": null,
            "max_width": null,
            "min_height": null,
            "min_width": null,
            "object_fit": null,
            "object_position": null,
            "order": null,
            "overflow": null,
            "overflow_x": null,
            "overflow_y": null,
            "padding": null,
            "right": null,
            "top": null,
            "visibility": null,
            "width": null
          }
        },
        "4c02aa12fbd949ee9bb895181868e724": {
          "model_module": "@jupyter-widgets/base",
          "model_name": "LayoutModel",
          "model_module_version": "1.2.0",
          "state": {
            "_model_module": "@jupyter-widgets/base",
            "_model_module_version": "1.2.0",
            "_model_name": "LayoutModel",
            "_view_count": null,
            "_view_module": "@jupyter-widgets/base",
            "_view_module_version": "1.2.0",
            "_view_name": "LayoutView",
            "align_content": null,
            "align_items": null,
            "align_self": null,
            "border": null,
            "bottom": null,
            "display": null,
            "flex": null,
            "flex_flow": null,
            "grid_area": null,
            "grid_auto_columns": null,
            "grid_auto_flow": null,
            "grid_auto_rows": null,
            "grid_column": null,
            "grid_gap": null,
            "grid_row": null,
            "grid_template_areas": null,
            "grid_template_columns": null,
            "grid_template_rows": null,
            "height": null,
            "justify_content": null,
            "justify_items": null,
            "left": null,
            "margin": null,
            "max_height": null,
            "max_width": null,
            "min_height": null,
            "min_width": null,
            "object_fit": null,
            "object_position": null,
            "order": null,
            "overflow": null,
            "overflow_x": null,
            "overflow_y": null,
            "padding": null,
            "right": null,
            "top": null,
            "visibility": null,
            "width": null
          }
        },
        "e3a53e56e56147bd97868b54cea168a4": {
          "model_module": "@jupyter-widgets/controls",
          "model_name": "DescriptionStyleModel",
          "model_module_version": "1.5.0",
          "state": {
            "_model_module": "@jupyter-widgets/controls",
            "_model_module_version": "1.5.0",
            "_model_name": "DescriptionStyleModel",
            "_view_count": null,
            "_view_module": "@jupyter-widgets/base",
            "_view_module_version": "1.2.0",
            "_view_name": "StyleView",
            "description_width": ""
          }
        },
        "904529cbf689409db74e57531cc13015": {
          "model_module": "@jupyter-widgets/base",
          "model_name": "LayoutModel",
          "model_module_version": "1.2.0",
          "state": {
            "_model_module": "@jupyter-widgets/base",
            "_model_module_version": "1.2.0",
            "_model_name": "LayoutModel",
            "_view_count": null,
            "_view_module": "@jupyter-widgets/base",
            "_view_module_version": "1.2.0",
            "_view_name": "LayoutView",
            "align_content": null,
            "align_items": null,
            "align_self": null,
            "border": null,
            "bottom": null,
            "display": null,
            "flex": null,
            "flex_flow": null,
            "grid_area": null,
            "grid_auto_columns": null,
            "grid_auto_flow": null,
            "grid_auto_rows": null,
            "grid_column": null,
            "grid_gap": null,
            "grid_row": null,
            "grid_template_areas": null,
            "grid_template_columns": null,
            "grid_template_rows": null,
            "height": null,
            "justify_content": null,
            "justify_items": null,
            "left": null,
            "margin": null,
            "max_height": null,
            "max_width": null,
            "min_height": null,
            "min_width": null,
            "object_fit": null,
            "object_position": null,
            "order": null,
            "overflow": null,
            "overflow_x": null,
            "overflow_y": null,
            "padding": null,
            "right": null,
            "top": null,
            "visibility": null,
            "width": null
          }
        },
        "324d22b24d8e45d3a60e8b7b6e11cd3e": {
          "model_module": "@jupyter-widgets/controls",
          "model_name": "ProgressStyleModel",
          "model_module_version": "1.5.0",
          "state": {
            "_model_module": "@jupyter-widgets/controls",
            "_model_module_version": "1.5.0",
            "_model_name": "ProgressStyleModel",
            "_view_count": null,
            "_view_module": "@jupyter-widgets/base",
            "_view_module_version": "1.2.0",
            "_view_name": "StyleView",
            "bar_color": null,
            "description_width": ""
          }
        },
        "a88d68688cb248cfae8599e5f535e28c": {
          "model_module": "@jupyter-widgets/base",
          "model_name": "LayoutModel",
          "model_module_version": "1.2.0",
          "state": {
            "_model_module": "@jupyter-widgets/base",
            "_model_module_version": "1.2.0",
            "_model_name": "LayoutModel",
            "_view_count": null,
            "_view_module": "@jupyter-widgets/base",
            "_view_module_version": "1.2.0",
            "_view_name": "LayoutView",
            "align_content": null,
            "align_items": null,
            "align_self": null,
            "border": null,
            "bottom": null,
            "display": null,
            "flex": null,
            "flex_flow": null,
            "grid_area": null,
            "grid_auto_columns": null,
            "grid_auto_flow": null,
            "grid_auto_rows": null,
            "grid_column": null,
            "grid_gap": null,
            "grid_row": null,
            "grid_template_areas": null,
            "grid_template_columns": null,
            "grid_template_rows": null,
            "height": null,
            "justify_content": null,
            "justify_items": null,
            "left": null,
            "margin": null,
            "max_height": null,
            "max_width": null,
            "min_height": null,
            "min_width": null,
            "object_fit": null,
            "object_position": null,
            "order": null,
            "overflow": null,
            "overflow_x": null,
            "overflow_y": null,
            "padding": null,
            "right": null,
            "top": null,
            "visibility": null,
            "width": null
          }
        },
        "3616c353cac84276b2df1e677b599e3b": {
          "model_module": "@jupyter-widgets/controls",
          "model_name": "DescriptionStyleModel",
          "model_module_version": "1.5.0",
          "state": {
            "_model_module": "@jupyter-widgets/controls",
            "_model_module_version": "1.5.0",
            "_model_name": "DescriptionStyleModel",
            "_view_count": null,
            "_view_module": "@jupyter-widgets/base",
            "_view_module_version": "1.2.0",
            "_view_name": "StyleView",
            "description_width": ""
          }
        }
      }
    }
  },
  "cells": [
    {
      "cell_type": "code",
      "source": [
        "from google.colab import drive\n",
        "drive.mount('/content/drive')"
      ],
      "metadata": {
        "id": "RTc7qdszaoog",
        "colab": {
          "base_uri": "https://localhost:8080/"
        },
        "outputId": "822d2409-85a0-4ece-b9ab-b08df69f1dfb"
      },
      "execution_count": null,
      "outputs": [
        {
          "output_type": "stream",
          "name": "stdout",
          "text": [
            "Mounted at /content/drive\n"
          ]
        }
      ]
    },
    {
      "cell_type": "markdown",
      "source": [
        "Code mixed from https://towardsdatascience.com/text-classification-with-bert-in-pytorch-887965e5820f and https://www.tensorflow.org/text/tutorials/classify_text_with_bert#define_your_model"
      ],
      "metadata": {
        "id": "LmWaNvJYmjoW"
      }
    },
    {
      "cell_type": "markdown",
      "source": [
        "# Install Dependencies"
      ],
      "metadata": {
        "id": "GxT_Ys9EarYo"
      }
    },
    {
      "cell_type": "code",
      "execution_count": null,
      "metadata": {
        "id": "2RhLtEU3af_k"
      },
      "outputs": [],
      "source": [
        "!pip install transformers\n",
        "\n",
        "from transformers import BertTokenizer\n",
        "import torch\n",
        "from torch import nn\n",
        "from transformers import BertModel\n",
        "\n",
        "import numpy as np\n",
        "import pandas as pd\n",
        "from sklearn.model_selection import train_test_split"
      ]
    },
    {
      "cell_type": "code",
      "source": [
        "np.random.seed(100)"
      ],
      "metadata": {
        "id": "ssizrOXHkQD-"
      },
      "execution_count": null,
      "outputs": []
    },
    {
      "cell_type": "code",
      "source": [
        "# Turn texts to strings of tokens\n",
        "tokenizer = BertTokenizer.from_pretrained('bert-large-cased')"
      ],
      "metadata": {
        "id": "ezCZqIfxbadj",
        "colab": {
          "base_uri": "https://localhost:8080/",
          "height": 113,
          "referenced_widgets": [
            "716819aea6854ec3a4a86b3e72224908",
            "05fc171a23934bfaba6368dcbc06d421",
            "7ddd963fbc814ac3990fc99c9b3e027e",
            "7868c9ebcddb4eac8906ed280e2be189",
            "23c63a520fb545cf84440ecf6501fbe6",
            "60bc8e5c33dc48f1aac47126b08da09f",
            "16f8726a04ee4b8bbd7d256b164cd8df",
            "f9ec6ec0f1ba4dd588c5de02d1c81be2",
            "6d38d47e83e94abfafcd06adf1179fbf",
            "72e34a061bd34d58bcf747f87db74637",
            "d16e2357e7134e648a8227febeb915ba",
            "84ac6512d34d4ce7980421be3aeb8627",
            "6a1020d6f31b4141b5c5a385e8fe1fc4",
            "27fea4e3c8f04d3481fff73f3c8d9d57",
            "5c60ce11fd344a08ba97804e484c36a3",
            "ceb7919e1429402d94e79cf3c757a8e1",
            "d97b54429558442d95d4aff0765a617f",
            "9be7a0159e674dbab74c6b69fdf0f8ff",
            "33984d5fd63744ea9524a90118593410",
            "15c5112d5ccf48edb9fefce4700b7f01",
            "98100c3ab97d4d3281c2d7b385b013cc",
            "4082f844c52045e08c0c1ce0d973a235",
            "769bc1203f7742dbbf8cdfa2e74b67ab",
            "b4c755e0322e413f96490d9280e9fad7",
            "de0f66ddba4c49b9ba0decb1dc30cca5",
            "d303d2118cbd4fbda8997fd19e181f52",
            "3979c9e2678e4c9297f550ed580eb961",
            "4c02aa12fbd949ee9bb895181868e724",
            "e3a53e56e56147bd97868b54cea168a4",
            "904529cbf689409db74e57531cc13015",
            "324d22b24d8e45d3a60e8b7b6e11cd3e",
            "a88d68688cb248cfae8599e5f535e28c",
            "3616c353cac84276b2df1e677b599e3b"
          ]
        },
        "outputId": "08334be6-15ae-458d-c7a0-5825d1782747"
      },
      "execution_count": null,
      "outputs": [
        {
          "output_type": "display_data",
          "data": {
            "text/plain": [
              "Downloading (…)solve/main/vocab.txt:   0%|          | 0.00/213k [00:00<?, ?B/s]"
            ],
            "application/vnd.jupyter.widget-view+json": {
              "version_major": 2,
              "version_minor": 0,
              "model_id": "716819aea6854ec3a4a86b3e72224908"
            }
          },
          "metadata": {}
        },
        {
          "output_type": "display_data",
          "data": {
            "text/plain": [
              "Downloading (…)okenizer_config.json:   0%|          | 0.00/29.0 [00:00<?, ?B/s]"
            ],
            "application/vnd.jupyter.widget-view+json": {
              "version_major": 2,
              "version_minor": 0,
              "model_id": "84ac6512d34d4ce7980421be3aeb8627"
            }
          },
          "metadata": {}
        },
        {
          "output_type": "display_data",
          "data": {
            "text/plain": [
              "Downloading (…)lve/main/config.json:   0%|          | 0.00/762 [00:00<?, ?B/s]"
            ],
            "application/vnd.jupyter.widget-view+json": {
              "version_major": 2,
              "version_minor": 0,
              "model_id": "769bc1203f7742dbbf8cdfa2e74b67ab"
            }
          },
          "metadata": {}
        }
      ]
    },
    {
      "cell_type": "markdown",
      "source": [
        "# Build A Dataset: OxML Data and Environmental Data"
      ],
      "metadata": {
        "id": "k6VnrDjpbOE1"
      }
    },
    {
      "cell_type": "markdown",
      "source": [
        "We can play around with encoding the whole text or just paragraphs at a time (aggregating/maxxing out over the per-paragraph predictions). The code for getting the env_lis_2 data is in the Sweep version of this notebook."
      ],
      "metadata": {
        "id": "H2cwuvHjkA0f"
      }
    },
    {
      "cell_type": "code",
      "source": [
        "# Get OxML texts\n",
        "my_file = open('/content/drive/MyDrive/oxml2023mlcases-esg-classifier/oxml_esg_texts.txt', \"r\")\n",
        "data = my_file.read()\n",
        "texts = data.split(\"unique_linebreak \\n\")\n",
        "my_file.close()\n",
        "\n",
        "# Get ESG labels\n",
        "df = pd.read_csv('/content/drive/MyDrive/oxml2023mlcases-esg-classifier/data/labels.csv')\n",
        "\n",
        "labels = {\n",
        "    'governance': 0,\n",
        "    'social': 1,\n",
        "    'environmental': 2,\n",
        "    'other': 3\n",
        "}\n",
        "\n",
        "# Add text column to label dataframe\n",
        "df['text'] = texts[:-1]\n",
        "\n",
        "''' -------------------------------------------------------------------- '''\n",
        "\n",
        "\n",
        "\n",
        "''' -------------------------------------------------------------------- '''\n",
        "\n",
        "# Get extra environmental texts\n",
        "my_file = open('/content/drive/MyDrive/oxml2023mlcases-esg-classifier/data/HF_Chatbot_Environmental_6.15.23.txt', \"r\")\n",
        "data = my_file.read()\n",
        "env_texts = data.split(\"\\n\")\n",
        "my_file.close()\n",
        "\n",
        "# Create environmental labels for extra texts\n",
        "env_labels = ['environmental'] * len(env_texts)\n",
        "\n",
        "# Add extra environmental texts to working dataframe\n",
        "for i, j in zip(env_texts, env_labels):\n",
        "    df = df.append({'text': i, 'class': j}, ignore_index=True)\n",
        "\n",
        "''' -------------------------------------------------------------------- '''\n",
        "\n",
        "# Get extra social texts\n",
        "my_file = open('/content/drive/MyDrive/oxml2023mlcases-esg-classifier/data/HF_Chatbot_Social_6.14.23.txt', \"r\")\n",
        "data = my_file.read()\n",
        "social_texts = data.split(\"\\n\")\n",
        "my_file.close()\n",
        "\n",
        "# Create social labels for extra texts\n",
        "social_labels = ['social'] * len(social_texts)\n",
        "\n",
        "# Add extra social texts to working dataframe\n",
        "for i, j in zip(social_texts, social_labels):\n",
        "    df = df.append({'text': i, 'class': j}, ignore_index=True)\n",
        "\n",
        "''' -------------------------------------------------------------------- '''\n",
        "\n",
        "# Get extra other texts\n",
        "my_file = open('/content/drive/MyDrive/oxml2023mlcases-esg-classifier/data/HF_Chatbot_Other.txt', \"r\")\n",
        "data = my_file.read()\n",
        "other_texts = data.split(\"\\n\")\n",
        "my_file.close()\n",
        "\n",
        "# Create social labels for extra texts\n",
        "other_labels = ['other'] * len(other_texts)\n",
        "\n",
        "# Add extra social texts to working dataframe\n",
        "for i, j in zip(other_texts, other_labels):\n",
        "    df = df.append({'text': i, 'class': j}, ignore_index=True)\n",
        "\n",
        "''' -------------------------------------------------------------------- '''\n",
        "\n",
        "# Get extra governance texts\n",
        "my_file = open('/content/drive/MyDrive/oxml2023mlcases-esg-classifier/data/HF_Chatbot_Governance.txt', \"r\")\n",
        "data = my_file.read()\n",
        "gov_texts = data.split(\"\\n\")\n",
        "my_file.close()\n",
        "\n",
        "# Create social labels for extra texts\n",
        "gov_labels = ['governance'] * len(gov_texts)\n",
        "\n",
        "# Add extra social texts to working dataframe\n",
        "for i, j in zip(gov_texts, gov_labels):\n",
        "    df = df.append({'text': i, 'class': j}, ignore_index=True)"
      ],
      "metadata": {
        "id": "UjawpXo5anls"
      },
      "execution_count": null,
      "outputs": []
    },
    {
      "cell_type": "code",
      "source": [
        "print(\"The dataframe has {} columns\".format(len(df)))"
      ],
      "metadata": {
        "id": "oLgOASkcun09"
      },
      "execution_count": null,
      "outputs": []
    },
    {
      "cell_type": "code",
      "source": [
        "# could change max length back to 512\n",
        "\n",
        "class Dataset(torch.utils.data.Dataset):\n",
        "\n",
        "    def __init__(self, df):\n",
        "\n",
        "        self.labels = [labels[l] for l in df['class']]\n",
        "        self.texts = [tokenizer(text,\n",
        "                               padding='max_length', max_length = 64, truncation=True,\n",
        "                                return_tensors=\"pt\") for text in df['text']]\n",
        "\n",
        "    def classes(self):\n",
        "        return self.labels\n",
        "\n",
        "    def __len__(self):\n",
        "        return len(self.labels)\n",
        "\n",
        "    def get_batch_labels(self, idx):\n",
        "        # Fetch a batch of labels\n",
        "        return np.array(self.labels[idx])\n",
        "\n",
        "    def get_batch_texts(self, idx):\n",
        "        # Fetch a batch of inputs\n",
        "        return self.texts[idx]\n",
        "\n",
        "    def __getitem__(self, idx):\n",
        "\n",
        "        batch_texts = self.get_batch_texts(idx)\n",
        "        batch_y = self.get_batch_labels(idx)\n",
        "\n",
        "        return batch_texts, batch_y # -> a batch of tokenized texts and the corresponding labels"
      ],
      "metadata": {
        "id": "DPq1-znvhcUZ"
      },
      "execution_count": null,
      "outputs": []
    },
    {
      "cell_type": "code",
      "source": [
        "#Split the data into train and test\n",
        "df_train, df_val = train_test_split(df, test_size=0.2, shuffle=True)\n",
        "\n",
        "print(len(df_train), len(df_val))"
      ],
      "metadata": {
        "colab": {
          "base_uri": "https://localhost:8080/"
        },
        "id": "ClJLTU04mF8l",
        "outputId": "dbf7e69e-38a7-464f-f744-4b263ac7eb0d"
      },
      "execution_count": null,
      "outputs": [
        {
          "output_type": "stream",
          "name": "stdout",
          "text": [
            "3771 943\n"
          ]
        }
      ]
    },
    {
      "cell_type": "markdown",
      "source": [
        "# Build A BERT Classification Model\n",
        "This is just layering a linear classifier on top of BERT, so we can grab its embedded class token and pass that through the classifier."
      ],
      "metadata": {
        "id": "7IZByOCQm40M"
      }
    },
    {
      "cell_type": "code",
      "source": [
        "# Original classifier idea\n",
        "class BertClassifier(nn.Module):\n",
        "  def __init__(self, dropout=0.5):\n",
        "\n",
        "    super(BertClassifier, self).__init__()\n",
        "\n",
        "    self.bert = BertModel.from_pretrained('bert-base-cased')\n",
        "    self.dropout = nn.Dropout(dropout)\n",
        "    self.linear = nn.Linear(768, 4) # -> input is a pooled 768-dim class embedding vector from transformer, and output is 4 classes\n",
        "    self.relu = nn.ReLU()\n",
        "\n",
        "  def forward(self, input_id, mask):\n",
        "    # _ contains embedding vectors for all tokens in a sequence, and out contains the embedding vector of the class token for that sequence\n",
        "    _, out = self.bert(input_ids=input_id, attention_mask=mask, return_dict=False)\n",
        "\n",
        "    # the embedding vector for the class token gets passed through these layers for classification\n",
        "    out = self.dropout(out)\n",
        "    out = self.linear(out)\n",
        "    out = self.relu(out)\n",
        "\n",
        "    return out"
      ],
      "metadata": {
        "id": "A9E0yANbl-Iu"
      },
      "execution_count": null,
      "outputs": []
    },
    {
      "cell_type": "markdown",
      "source": [
        "# Train the Classification Model"
      ],
      "metadata": {
        "id": "YArdXJTKpEvL"
      }
    },
    {
      "cell_type": "code",
      "source": [
        "from torch.optim import Adam\n",
        "from tqdm import tqdm\n",
        "from sklearn.metrics import f1_score"
      ],
      "metadata": {
        "id": "YrhKw0WUpLQm"
      },
      "execution_count": null,
      "outputs": []
    },
    {
      "cell_type": "code",
      "source": [
        "def get_f1(labels, preds):\n",
        "  avg = []\n",
        "\n",
        "  for i, j in zip(labels, preds):\n",
        "    f1 = f1_score(i, j, labels=np.unique(j), average='macro')\n",
        "    avg.append(f1)\n",
        "\n",
        "  total_f1 = sum(avg)/len(avg)\n",
        "\n",
        "  return total_f1"
      ],
      "metadata": {
        "id": "rZFyj9W6xGjQ"
      },
      "execution_count": null,
      "outputs": []
    },
    {
      "cell_type": "code",
      "source": [
        "def train(model, train_data, val_data, learning_rate, epochs):\n",
        "\n",
        "  # set up datasets\n",
        "  train, val = Dataset(train_data), Dataset(val_data)\n",
        "\n",
        "  # load the datasets\n",
        "  train_dataloader = torch.utils.data.DataLoader(train, batch_size=batch_size, shuffle=True)\n",
        "  val_dataloader = torch.utils.data.DataLoader(val, batch_size=batch_size)\n",
        "\n",
        "  # try for a GPU\n",
        "  use_cuda = torch.cuda.is_available()\n",
        "  device = torch.device(\"cuda\" if use_cuda else \"cpu\")\n",
        "\n",
        "  # define loss and optimizer\n",
        "  loss = nn.CrossEntropyLoss()\n",
        "  optimizer = Adam(model.parameters(), lr=learning_rate)\n",
        "\n",
        "  avg_train_f1 = []\n",
        "  avg_val_f1 = []\n",
        "\n",
        "  if use_cuda:\n",
        "    model = model.cuda()\n",
        "    loss = loss.cuda()\n",
        "\n",
        "  for epoch in range(epochs):\n",
        "\n",
        "    train_outputs = []\n",
        "    train_labels = []\n",
        "    val_outputs = []\n",
        "    val_labels = []\n",
        "\n",
        "    train_acc = 0\n",
        "    train_loss = 0\n",
        "\n",
        "    for train_input, train_label in tqdm(train_dataloader):\n",
        "\n",
        "      # pass this stuff to the GPU\n",
        "      train_label = train_label.to(device)\n",
        "      train_labels.append(train_label.cpu().numpy())\n",
        "      mask = train_input['attention_mask'].to(device)\n",
        "      input_id = train_input['input_ids'].squeeze(1).to(device)\n",
        "\n",
        "      # feed data to model\n",
        "      output = model(input_id, mask)\n",
        "      train_outputs.append(output.argmax(dim=1).cpu().numpy())\n",
        "\n",
        "      # calculate loss\n",
        "      batch_loss = loss(output, train_label.long())\n",
        "      train_loss += batch_loss.item()\n",
        "\n",
        "      # calculate accuracy -> likeliest label correct?\n",
        "      acc = (output.argmax(dim=1) == train_label).sum().item()\n",
        "      train_acc += acc\n",
        "\n",
        "      model.zero_grad()\n",
        "      batch_loss.backward()\n",
        "      optimizer.step()\n",
        "\n",
        "    val_acc = 0\n",
        "    val_loss = 0\n",
        "\n",
        "    # proper backprop for validation mode\n",
        "    with torch.no_grad():\n",
        "\n",
        "      for val_input, val_label in val_dataloader:\n",
        "\n",
        "        val_label = val_label.to(device)\n",
        "        val_labels.append(val_label.cpu().numpy())\n",
        "        mask = val_input['attention_mask'].to(device)\n",
        "        input_id = val_input['input_ids'].squeeze(1).to(device)\n",
        "\n",
        "        output = model(input_id, mask)\n",
        "        val_outputs.append(output.argmax(dim=1).cpu().numpy())\n",
        "\n",
        "        batch_loss = loss(output, val_label.long())\n",
        "        val_loss += batch_loss.item()\n",
        "\n",
        "        acc = (output.argmax(dim=1) == val_label).sum().item()\n",
        "        val_acc += acc\n",
        "\n",
        "    avg_train_f1.append(get_f1(train_labels, train_outputs))\n",
        "    avg_val_f1.append(get_f1(val_labels, val_outputs))\n",
        "\n",
        "  print(\n",
        "  f'Epochs: {epoch + 1} | Train Loss: {train_loss / len(train_data): .3f} \\\n",
        "  | Train Accuracy: {train_acc / len(train_data): .3f} \\\n",
        "  | Train F1: {avg_train_f1[-1]: .3f} \\\n",
        "  | Val Loss: {val_loss / len(val_data): .3f} \\\n",
        "  | Val Accuracy: {val_acc / len(val_data): .3f} \\\n",
        "  | Val F1: {avg_val_f1[-1]: .3f}')"
      ],
      "metadata": {
        "id": "O9vEITrgpHMN"
      },
      "execution_count": null,
      "outputs": []
    },
    {
      "cell_type": "code",
      "source": [
        "model = BertClassifier()\n",
        "\n",
        "epochs = 10\n",
        "batch_size = 4\n",
        "learning_rate = 1e-5\n",
        "\n",
        "train(model, df_train, df_val, learning_rate, epochs)"
      ],
      "metadata": {
        "id": "tibRQyURtGjp",
        "colab": {
          "base_uri": "https://localhost:8080/"
        },
        "outputId": "6fee8530-8df5-4bcd-9a57-fc460ed1c840"
      },
      "execution_count": null,
      "outputs": [
        {
          "output_type": "stream",
          "name": "stderr",
          "text": [
            "Some weights of the model checkpoint at bert-base-cased were not used when initializing BertModel: ['cls.predictions.transform.dense.bias', 'cls.predictions.transform.dense.weight', 'cls.predictions.transform.LayerNorm.bias', 'cls.predictions.transform.LayerNorm.weight', 'cls.seq_relationship.bias', 'cls.seq_relationship.weight', 'cls.predictions.bias']\n",
            "- This IS expected if you are initializing BertModel from the checkpoint of a model trained on another task or with another architecture (e.g. initializing a BertForSequenceClassification model from a BertForPreTraining model).\n",
            "- This IS NOT expected if you are initializing BertModel from the checkpoint of a model that you expect to be exactly identical (initializing a BertForSequenceClassification model from a BertForSequenceClassification model).\n",
            "100%|██████████| 943/943 [00:37<00:00, 25.21it/s]\n",
            "100%|██████████| 943/943 [00:36<00:00, 25.79it/s]\n",
            "100%|██████████| 943/943 [00:36<00:00, 25.85it/s]\n",
            "100%|██████████| 943/943 [00:36<00:00, 25.72it/s]\n",
            "100%|██████████| 943/943 [00:37<00:00, 25.32it/s]\n",
            "100%|██████████| 943/943 [00:38<00:00, 24.81it/s]\n",
            "100%|██████████| 943/943 [00:38<00:00, 24.77it/s]\n",
            "100%|██████████| 943/943 [00:37<00:00, 25.43it/s]\n",
            "100%|██████████| 943/943 [00:37<00:00, 25.36it/s]\n",
            "100%|██████████| 943/943 [00:36<00:00, 25.82it/s]\n"
          ]
        },
        {
          "output_type": "stream",
          "name": "stdout",
          "text": [
            "Epochs: 10 | Train Loss:  0.007   | Train Accuracy:  0.989   | Train F1:  0.987   | Val Loss:  0.079   | Val Accuracy:  0.937   | Val F1:  0.928\n"
          ]
        }
      ]
    },
    {
      "cell_type": "code",
      "source": [
        "#Save a model\n",
        "#PATH = '/content/drive/MyDrive/oxml2023mlcases-esg-classifier/esg_transformer_61523.pth'\n",
        "#torch.save(model, PATH)\n",
        "\n",
        "#Save a model's parameters\n",
        "#PATH = '/content/drive/MyDrive/oxml2023mlcases-esg-classifier/esg_transformer_61523_params.pth'\n",
        "#torch.save(model.state_dict(), PATH)"
      ],
      "metadata": {
        "id": "B5N45e5DTs4g"
      },
      "execution_count": null,
      "outputs": []
    },
    {
      "cell_type": "markdown",
      "source": [
        "# Inference"
      ],
      "metadata": {
        "id": "2GlRetxrudWa"
      }
    },
    {
      "cell_type": "code",
      "source": [
        "!pip install PyMuPDF\n",
        "\n",
        "from pathlib import Path\n",
        "import re\n",
        "import fitz\n",
        "import pandas as pd\n",
        "from PIL import Image\n",
        "\n",
        "import torch\n",
        "\n",
        "device = torch.device(\"cuda\"if torch.cuda.is_available() else\"cpu\")"
      ],
      "metadata": {
        "id": "6Rg7fkYf7t6O",
        "colab": {
          "base_uri": "https://localhost:8080/"
        },
        "outputId": "078d98bc-0d27-45ce-bb3b-f9214c2bcb9d"
      },
      "execution_count": null,
      "outputs": [
        {
          "output_type": "stream",
          "name": "stdout",
          "text": [
            "Looking in indexes: https://pypi.org/simple, https://us-python.pkg.dev/colab-wheels/public/simple/\n",
            "Collecting PyMuPDF\n",
            "  Downloading PyMuPDF-1.22.3-cp310-cp310-manylinux_2_17_x86_64.manylinux2014_x86_64.whl (14.1 MB)\n",
            "\u001b[2K     \u001b[90m━━━━━━━━━━━━━━━━━━━━━━━━━━━━━━━━━━━━━━━━\u001b[0m \u001b[32m14.1/14.1 MB\u001b[0m \u001b[31m90.9 MB/s\u001b[0m eta \u001b[36m0:00:00\u001b[0m\n",
            "\u001b[?25hInstalling collected packages: PyMuPDF\n",
            "Successfully installed PyMuPDF-1.22.3\n"
          ]
        }
      ]
    },
    {
      "cell_type": "code",
      "source": [
        "# directories & files\n",
        "DIR_DATA = Path(\"/content/drive/MyDrive/oxml2023mlcases-esg-classifier/data/\")\n",
        "REPORTS_DIR = \"reports/\"\n",
        "LABELS_FILE = \"labels.csv\"\n",
        "\n",
        "# columns\n",
        "C_ID, C_CLASS = \"id\", \"class\""
      ],
      "metadata": {
        "id": "t6UkRJIk7w8w"
      },
      "execution_count": null,
      "outputs": []
    },
    {
      "cell_type": "code",
      "source": [
        "submission = pd.read_csv(\"/content/drive/MyDrive/oxml2023mlcases-esg-classifier/sample_submission.csv\")"
      ],
      "metadata": {
        "id": "j1ILrBxR7ZGf"
      },
      "execution_count": null,
      "outputs": []
    },
    {
      "cell_type": "code",
      "source": [
        "def create_filepath(filename):\n",
        "    return DIR_DATA / REPORTS_DIR / filename\n",
        "\n",
        "def read_page(filename, page_number):\n",
        "    filepath = create_filepath(filename)\n",
        "    doc = fitz.open(filepath)\n",
        "    page_index = page_number - 1\n",
        "    page = doc.load_page(page_index)\n",
        "    return page.get_text()\n",
        "\n",
        "\n",
        "def visualize_pdf_image(filename, page_number):\n",
        "    doc = fitz.open(create_filepath(filename))\n",
        "    page_index = page_number - 1\n",
        "    pix = doc[page_index].get_pixmap()\n",
        "    img_page = Image.frombytes(\"RGB\", [pix.width, pix.height], pix.samples)\n",
        "    return img_page\n",
        "\n",
        "def get_labels():\n",
        "    return pd.read_csv(DIR_DATA / LABELS_FILE)\n",
        "\n",
        "def build_doc_id(filename, page_number):\n",
        "    return filename + \".\" + str(page_number)"
      ],
      "metadata": {
        "id": "4p-u3vfT7cHZ"
      },
      "execution_count": null,
      "outputs": []
    },
    {
      "cell_type": "code",
      "source": [
        "# visualize a page and it's class\n",
        "\n",
        "filename = \"report_1132.pdf\"\n",
        "page_number = 9\n",
        "\n",
        "labels = get_labels()\n",
        "doc_id = build_doc_id(filename, page_number)\n",
        "label = labels.loc[labels[C_ID] == doc_id, C_CLASS].values[0]\n",
        "print(f\"{C_CLASS}: {label}\")\n",
        "#visualize_pdf_image(filename, page_number)"
      ],
      "metadata": {
        "id": "uU0rmimw7-cm",
        "colab": {
          "base_uri": "https://localhost:8080/"
        },
        "outputId": "5d9a0f43-a019-4863-9ea2-8c66b48c9096"
      },
      "execution_count": null,
      "outputs": [
        {
          "output_type": "stream",
          "name": "stdout",
          "text": [
            "class: environmental\n"
          ]
        }
      ]
    },
    {
      "cell_type": "code",
      "source": [
        "\n",
        "#Load a previously saved model\n",
        "\n",
        "#PATH = '/content/drive/MyDrive/oxml2023mlcases-esg-classifier/esg_transformer_61523.pth'\n",
        "#model = torch.load(PATH)\n",
        "\n",
        "#model.eval() # -> sets the model to evaluation mode (turns off batch norm and dropout layers, which are only used for training)\n",
        "\n",
        "#Load previously saved model parameters\n",
        "#PATH = '/content/drive/MyDrive/oxml2023mlcases-esg-classifier/esg_transformer_61523_params.pth'\n",
        "\n",
        "#model = BigramLanguageModel(*args, **kwargs) -> need to define a model first\n",
        "#model.load_state_dict(torch.load(PATH))"
      ],
      "metadata": {
        "id": "NFMH16IzUSqf",
        "colab": {
          "base_uri": "https://localhost:8080/"
        },
        "outputId": "2093f666-499f-4739-9f4c-103d443466e0"
      },
      "execution_count": null,
      "outputs": [
        {
          "output_type": "execute_result",
          "data": {
            "text/plain": [
              "<All keys matched successfully>"
            ]
          },
          "metadata": {},
          "execution_count": 26
        }
      ]
    },
    {
      "cell_type": "code",
      "source": [
        "for i in range(len(submission)):\n",
        "#     print(i)\n",
        "    path = submission.iloc[i][C_ID]\n",
        "#     print(path)\n",
        "    matches = re.match(r'^(.+)\\.(\\d+)$', path)\n",
        "    filename = matches.group(1)\n",
        "    page_number = int(matches.group(2))\n",
        "\n",
        "    use_cuda = torch.cuda.is_available()\n",
        "    device = torch.device(\"cuda\" if use_cuda else \"cpu\")\n",
        "\n",
        "    content = read_page(filename, page_number)\n",
        "    input_text = tokenizer(content, padding='max_length', max_length = 64, truncation=True, return_tensors=\"pt\")\n",
        "\n",
        "    if use_cuda:\n",
        "      model = model.cuda()\n",
        "\n",
        "    with torch.no_grad():\n",
        "\n",
        "      mask = input_text['attention_mask'].to(device)\n",
        "      input_id = input_text['input_ids'].squeeze(1).to(device)\n",
        "\n",
        "      output = model(input_id, mask)\n",
        "\n",
        "      pred = output.argmax(dim=1)\n",
        "\n",
        "      submission.iloc[i]['class'] = int(pred.detach())"
      ],
      "metadata": {
        "id": "d_C90V767d9o"
      },
      "execution_count": null,
      "outputs": []
    },
    {
      "cell_type": "code",
      "source": [
        "label_mapping = {0: 'governance', 1: 'social', 2: 'environmental', 3: 'other'}\n",
        "submission['class'] = submission['class'].map(label_mapping)"
      ],
      "metadata": {
        "id": "ONNfq_urHTfL"
      },
      "execution_count": null,
      "outputs": []
    },
    {
      "cell_type": "code",
      "source": [
        "submission.head(20)"
      ],
      "metadata": {
        "colab": {
          "base_uri": "https://localhost:8080/",
          "height": 669
        },
        "id": "H5W8s354H_a5",
        "outputId": "b7fda9e7-3c79-48c5-c081-232a415ba8f3"
      },
      "execution_count": null,
      "outputs": [
        {
          "output_type": "execute_result",
          "data": {
            "text/plain": [
              "                     id          class\n",
              "0    report_1352.pdf.49  environmental\n",
              "1   report_1835.pdf.143          other\n",
              "2    report_1352.pdf.46  environmental\n",
              "3    report_1179.pdf.47         social\n",
              "4     report_607.pdf.12  environmental\n",
              "5    report_1179.pdf.53  environmental\n",
              "6      report_607.pdf.7         social\n",
              "7    report_1012.pdf.70  environmental\n",
              "8    report_1179.pdf.38         social\n",
              "9     report_576.pdf.11         social\n",
              "10   report_1352.pdf.44  environmental\n",
              "11    report_293.pdf.67     governance\n",
              "12    report_1835.pdf.7         social\n",
              "13   report_1352.pdf.92     governance\n",
              "14   report_1835.pdf.37  environmental\n",
              "15  report_1352.pdf.117  environmental\n",
              "16    report_607.pdf.10         social\n",
              "17  report_1352.pdf.100         social\n",
              "18   report_1352.pdf.79         social\n",
              "19    report_1834.pdf.4          other"
            ],
            "text/html": [
              "\n",
              "  <div id=\"df-44a5b9b6-6556-4f03-8d8b-7d6631f170c3\">\n",
              "    <div class=\"colab-df-container\">\n",
              "      <div>\n",
              "<style scoped>\n",
              "    .dataframe tbody tr th:only-of-type {\n",
              "        vertical-align: middle;\n",
              "    }\n",
              "\n",
              "    .dataframe tbody tr th {\n",
              "        vertical-align: top;\n",
              "    }\n",
              "\n",
              "    .dataframe thead th {\n",
              "        text-align: right;\n",
              "    }\n",
              "</style>\n",
              "<table border=\"1\" class=\"dataframe\">\n",
              "  <thead>\n",
              "    <tr style=\"text-align: right;\">\n",
              "      <th></th>\n",
              "      <th>id</th>\n",
              "      <th>class</th>\n",
              "    </tr>\n",
              "  </thead>\n",
              "  <tbody>\n",
              "    <tr>\n",
              "      <th>0</th>\n",
              "      <td>report_1352.pdf.49</td>\n",
              "      <td>environmental</td>\n",
              "    </tr>\n",
              "    <tr>\n",
              "      <th>1</th>\n",
              "      <td>report_1835.pdf.143</td>\n",
              "      <td>other</td>\n",
              "    </tr>\n",
              "    <tr>\n",
              "      <th>2</th>\n",
              "      <td>report_1352.pdf.46</td>\n",
              "      <td>environmental</td>\n",
              "    </tr>\n",
              "    <tr>\n",
              "      <th>3</th>\n",
              "      <td>report_1179.pdf.47</td>\n",
              "      <td>social</td>\n",
              "    </tr>\n",
              "    <tr>\n",
              "      <th>4</th>\n",
              "      <td>report_607.pdf.12</td>\n",
              "      <td>environmental</td>\n",
              "    </tr>\n",
              "    <tr>\n",
              "      <th>5</th>\n",
              "      <td>report_1179.pdf.53</td>\n",
              "      <td>environmental</td>\n",
              "    </tr>\n",
              "    <tr>\n",
              "      <th>6</th>\n",
              "      <td>report_607.pdf.7</td>\n",
              "      <td>social</td>\n",
              "    </tr>\n",
              "    <tr>\n",
              "      <th>7</th>\n",
              "      <td>report_1012.pdf.70</td>\n",
              "      <td>environmental</td>\n",
              "    </tr>\n",
              "    <tr>\n",
              "      <th>8</th>\n",
              "      <td>report_1179.pdf.38</td>\n",
              "      <td>social</td>\n",
              "    </tr>\n",
              "    <tr>\n",
              "      <th>9</th>\n",
              "      <td>report_576.pdf.11</td>\n",
              "      <td>social</td>\n",
              "    </tr>\n",
              "    <tr>\n",
              "      <th>10</th>\n",
              "      <td>report_1352.pdf.44</td>\n",
              "      <td>environmental</td>\n",
              "    </tr>\n",
              "    <tr>\n",
              "      <th>11</th>\n",
              "      <td>report_293.pdf.67</td>\n",
              "      <td>governance</td>\n",
              "    </tr>\n",
              "    <tr>\n",
              "      <th>12</th>\n",
              "      <td>report_1835.pdf.7</td>\n",
              "      <td>social</td>\n",
              "    </tr>\n",
              "    <tr>\n",
              "      <th>13</th>\n",
              "      <td>report_1352.pdf.92</td>\n",
              "      <td>governance</td>\n",
              "    </tr>\n",
              "    <tr>\n",
              "      <th>14</th>\n",
              "      <td>report_1835.pdf.37</td>\n",
              "      <td>environmental</td>\n",
              "    </tr>\n",
              "    <tr>\n",
              "      <th>15</th>\n",
              "      <td>report_1352.pdf.117</td>\n",
              "      <td>environmental</td>\n",
              "    </tr>\n",
              "    <tr>\n",
              "      <th>16</th>\n",
              "      <td>report_607.pdf.10</td>\n",
              "      <td>social</td>\n",
              "    </tr>\n",
              "    <tr>\n",
              "      <th>17</th>\n",
              "      <td>report_1352.pdf.100</td>\n",
              "      <td>social</td>\n",
              "    </tr>\n",
              "    <tr>\n",
              "      <th>18</th>\n",
              "      <td>report_1352.pdf.79</td>\n",
              "      <td>social</td>\n",
              "    </tr>\n",
              "    <tr>\n",
              "      <th>19</th>\n",
              "      <td>report_1834.pdf.4</td>\n",
              "      <td>other</td>\n",
              "    </tr>\n",
              "  </tbody>\n",
              "</table>\n",
              "</div>\n",
              "      <button class=\"colab-df-convert\" onclick=\"convertToInteractive('df-44a5b9b6-6556-4f03-8d8b-7d6631f170c3')\"\n",
              "              title=\"Convert this dataframe to an interactive table.\"\n",
              "              style=\"display:none;\">\n",
              "        \n",
              "  <svg xmlns=\"http://www.w3.org/2000/svg\" height=\"24px\"viewBox=\"0 0 24 24\"\n",
              "       width=\"24px\">\n",
              "    <path d=\"M0 0h24v24H0V0z\" fill=\"none\"/>\n",
              "    <path d=\"M18.56 5.44l.94 2.06.94-2.06 2.06-.94-2.06-.94-.94-2.06-.94 2.06-2.06.94zm-11 1L8.5 8.5l.94-2.06 2.06-.94-2.06-.94L8.5 2.5l-.94 2.06-2.06.94zm10 10l.94 2.06.94-2.06 2.06-.94-2.06-.94-.94-2.06-.94 2.06-2.06.94z\"/><path d=\"M17.41 7.96l-1.37-1.37c-.4-.4-.92-.59-1.43-.59-.52 0-1.04.2-1.43.59L10.3 9.45l-7.72 7.72c-.78.78-.78 2.05 0 2.83L4 21.41c.39.39.9.59 1.41.59.51 0 1.02-.2 1.41-.59l7.78-7.78 2.81-2.81c.8-.78.8-2.07 0-2.86zM5.41 20L4 18.59l7.72-7.72 1.47 1.35L5.41 20z\"/>\n",
              "  </svg>\n",
              "      </button>\n",
              "      \n",
              "  <style>\n",
              "    .colab-df-container {\n",
              "      display:flex;\n",
              "      flex-wrap:wrap;\n",
              "      gap: 12px;\n",
              "    }\n",
              "\n",
              "    .colab-df-convert {\n",
              "      background-color: #E8F0FE;\n",
              "      border: none;\n",
              "      border-radius: 50%;\n",
              "      cursor: pointer;\n",
              "      display: none;\n",
              "      fill: #1967D2;\n",
              "      height: 32px;\n",
              "      padding: 0 0 0 0;\n",
              "      width: 32px;\n",
              "    }\n",
              "\n",
              "    .colab-df-convert:hover {\n",
              "      background-color: #E2EBFA;\n",
              "      box-shadow: 0px 1px 2px rgba(60, 64, 67, 0.3), 0px 1px 3px 1px rgba(60, 64, 67, 0.15);\n",
              "      fill: #174EA6;\n",
              "    }\n",
              "\n",
              "    [theme=dark] .colab-df-convert {\n",
              "      background-color: #3B4455;\n",
              "      fill: #D2E3FC;\n",
              "    }\n",
              "\n",
              "    [theme=dark] .colab-df-convert:hover {\n",
              "      background-color: #434B5C;\n",
              "      box-shadow: 0px 1px 3px 1px rgba(0, 0, 0, 0.15);\n",
              "      filter: drop-shadow(0px 1px 2px rgba(0, 0, 0, 0.3));\n",
              "      fill: #FFFFFF;\n",
              "    }\n",
              "  </style>\n",
              "\n",
              "      <script>\n",
              "        const buttonEl =\n",
              "          document.querySelector('#df-44a5b9b6-6556-4f03-8d8b-7d6631f170c3 button.colab-df-convert');\n",
              "        buttonEl.style.display =\n",
              "          google.colab.kernel.accessAllowed ? 'block' : 'none';\n",
              "\n",
              "        async function convertToInteractive(key) {\n",
              "          const element = document.querySelector('#df-44a5b9b6-6556-4f03-8d8b-7d6631f170c3');\n",
              "          const dataTable =\n",
              "            await google.colab.kernel.invokeFunction('convertToInteractive',\n",
              "                                                     [key], {});\n",
              "          if (!dataTable) return;\n",
              "\n",
              "          const docLinkHtml = 'Like what you see? Visit the ' +\n",
              "            '<a target=\"_blank\" href=https://colab.research.google.com/notebooks/data_table.ipynb>data table notebook</a>'\n",
              "            + ' to learn more about interactive tables.';\n",
              "          element.innerHTML = '';\n",
              "          dataTable['output_type'] = 'display_data';\n",
              "          await google.colab.output.renderOutput(dataTable, element);\n",
              "          const docLink = document.createElement('div');\n",
              "          docLink.innerHTML = docLinkHtml;\n",
              "          element.appendChild(docLink);\n",
              "        }\n",
              "      </script>\n",
              "    </div>\n",
              "  </div>\n",
              "  "
            ]
          },
          "metadata": {},
          "execution_count": 29
        }
      ]
    },
    {
      "cell_type": "code",
      "source": [
        "visualize_pdf_image('report_1835.pdf', 7)"
      ],
      "metadata": {
        "colab": {
          "base_uri": "https://localhost:8080/",
          "height": 791
        },
        "id": "T_xbxJwLDUAm",
        "outputId": "a72ea627-c24d-46cc-a096-8d7ca3167802"
      },
      "execution_count": null,
      "outputs": [
        {
          "output_type": "execute_result",
          "data": {
            "text/plain": [
              "<PIL.Image.Image image mode=RGB size=558x774 at 0x7F686C2B1450>"
            ],
            "image/png": "[encoded data removed]"
          },
          "metadata": {},
          "execution_count": 40
        }
      ]
    },
    {
      "cell_type": "code",
      "source": [
        "# Converting submission to CSV\n",
        "\n",
        "# submission.to_csv('/kaggle/working/submission.csv', index=False)\n",
        "submission.to_csv('submission.csv', index=False)"
      ],
      "metadata": {
        "id": "_KIW7VgsDjcN"
      },
      "execution_count": null,
      "outputs": []
    }
  ]
}