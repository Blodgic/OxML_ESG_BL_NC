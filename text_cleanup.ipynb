{
 "cells": [
  {
   "cell_type": "code",
   "execution_count": 46,
   "id": "1744212f-a99f-426e-8be6-1e99eacc98f6",
   "metadata": {},
   "outputs": [],
   "source": [
    "#text cleaning "
   ]
  },
  {
   "cell_type": "code",
   "execution_count": 47,
   "id": "a55a5467-3a60-41c2-8e31-713be804ff93",
   "metadata": {},
   "outputs": [
    {
     "data": {
      "text/html": [
       "<div>\n",
       "<style scoped>\n",
       "    .dataframe tbody tr th:only-of-type {\n",
       "        vertical-align: middle;\n",
       "    }\n",
       "\n",
       "    .dataframe tbody tr th {\n",
       "        vertical-align: top;\n",
       "    }\n",
       "\n",
       "    .dataframe thead th {\n",
       "        text-align: right;\n",
       "    }\n",
       "</style>\n",
       "<table border=\"1\" class=\"dataframe\">\n",
       "  <thead>\n",
       "    <tr style=\"text-align: right;\">\n",
       "      <th></th>\n",
       "      <th>id</th>\n",
       "      <th>class</th>\n",
       "      <th>text</th>\n",
       "    </tr>\n",
       "  </thead>\n",
       "  <tbody>\n",
       "    <tr>\n",
       "      <th>0</th>\n",
       "      <td>report_519.pdf.53</td>\n",
       "      <td>governance</td>\n",
       "      <td>2021 ESG Impact Report                        ...</td>\n",
       "    </tr>\n",
       "    <tr>\n",
       "      <th>1</th>\n",
       "      <td>report_1537.pdf.24</td>\n",
       "      <td>social</td>\n",
       "      <td>24 2021 SUSTAINABILITY REPORT TABLE OF CONTENT...</td>\n",
       "    </tr>\n",
       "    <tr>\n",
       "      <th>2</th>\n",
       "      <td>report_567.pdf.33</td>\n",
       "      <td>governance</td>\n",
       "      <td>Sustainability Governance Clean Harbors’ commi...</td>\n",
       "    </tr>\n",
       "    <tr>\n",
       "      <th>3</th>\n",
       "      <td>report_1830.pdf.220</td>\n",
       "      <td>other</td>\n",
       "      <td>220 Report of the réviseur d’entreprises agréé...</td>\n",
       "    </tr>\n",
       "    <tr>\n",
       "      <th>4</th>\n",
       "      <td>report_1253.pdf.46</td>\n",
       "      <td>governance</td>\n",
       "      <td>Pfizer 2021 ESG Report 46 Governance Governanc...</td>\n",
       "    </tr>\n",
       "  </tbody>\n",
       "</table>\n",
       "</div>"
      ],
      "text/plain": [
       "                    id       class  \\\n",
       "0    report_519.pdf.53  governance   \n",
       "1   report_1537.pdf.24      social   \n",
       "2    report_567.pdf.33  governance   \n",
       "3  report_1830.pdf.220       other   \n",
       "4   report_1253.pdf.46  governance   \n",
       "\n",
       "                                                text  \n",
       "0  2021 ESG Impact Report                        ...  \n",
       "1  24 2021 SUSTAINABILITY REPORT TABLE OF CONTENT...  \n",
       "2  Sustainability Governance Clean Harbors’ commi...  \n",
       "3  220 Report of the réviseur d’entreprises agréé...  \n",
       "4  Pfizer 2021 ESG Report 46 Governance Governanc...  "
      ]
     },
     "execution_count": 47,
     "metadata": {},
     "output_type": "execute_result"
    }
   ],
   "source": [
    "#import clean training \n",
    "import pandas as pd\n",
    "#replace dirty_training with training data\n",
    "df = pd.read_csv(r'dirty_training.csv')\n",
    "df.head()"
   ]
  },
  {
   "cell_type": "code",
   "execution_count": 48,
   "id": "a3f6f820-1d94-4044-a6ff-7e0c50edcd39",
   "metadata": {},
   "outputs": [
    {
     "data": {
      "text/plain": [
       "0        ESG Impact Report                            ...\n",
       "1         SUSTAINABILITY REPORT TABLE OF CONTENTS SOCI...\n",
       "2       Sustainability Governance Clean Harbors’ commi...\n",
       "3        Report of the réviseur d’entreprises agréé • ...\n",
       "4       Pfizer  ESG Report  Governance Governance — Co...\n",
       "                              ...                        \n",
       "2410    Everyone in the organization has a role to pla...\n",
       "2411    We aim to create a workplace where people feel...\n",
       "2412    Our approach to corporate citizenship means gi...\n",
       "2413    By building an open and inclusive corporate cu...\n",
       "2414    Ultimately, our reputation hinges on our abili...\n",
       "Name: text, Length: 2415, dtype: object"
      ]
     },
     "execution_count": 48,
     "metadata": {},
     "output_type": "execute_result"
    }
   ],
   "source": [
    "#remove punctuation \n",
    "import re \n",
    "#df['text'] = df['text'].str.replace('[^\\w\\s]','')\n",
    "\n",
    "\n",
    "# Match all digits in the string and replace them with an empty string\n",
    "df['text'] = df['text'].astype(str)\n",
    "df['text'] = df['text'].str.replace('\\d+', '')\n",
    "\n",
    "#lower\n",
    "#df['text'] = df['text'].str.lower()\n",
    "df['text']"
   ]
  },
  {
   "cell_type": "code",
   "execution_count": 49,
   "id": "33dc8798-3a5b-4baa-8d20-dfb7a0283044",
   "metadata": {},
   "outputs": [],
   "source": [
    "#Filter Out non alpha numeric\n",
    "import re\n",
    "# remove all tokens that are not alphabetic\n",
    "df['text'] = df['text'].astype(str)\n",
    "\n",
    "# Remove characters that are not letter or numbers\n",
    "# Define a function to remove non-alphanumeric tokens\n",
    "def remove_non_alphanumeric(text):\n",
    "    tokens = word_tokenize(text)\n",
    "    alphanumeric_tokens = [token for token in tokens if token.isalnum()]\n",
    "    return ' '.join(alphanumeric_tokens)\n",
    "\n",
    "# Apply the function to the 'text' column\n",
    "df['text'] = df['text'].apply(remove_non_alphanumeric)\n",
    "\n"
   ]
  },
  {
   "cell_type": "code",
   "execution_count": 50,
   "id": "6bc3e5ba-03ba-4253-b557-7db0a7c8cc9e",
   "metadata": {},
   "outputs": [],
   "source": [
    "# # Initialize the PorterStemmer\n",
    "# from nltk.stem import PorterStemmer\n",
    "# from nltk.tokenize import word_tokenize\n",
    "\n",
    "# stemmer = PorterStemmer()\n",
    "\n",
    "# # Define a function to perform stemming\n",
    "# def stem_words(text):\n",
    "#     tokens = word_tokenize(text)\n",
    "#     stemmed_tokens = [stemmer.stem(token) for token in tokens]\n",
    "#     return ' '.join(stemmed_tokens)\n",
    "\n",
    "# # Apply the function to the 'text' column\n",
    "# df['text'].apply(stem_words)"
   ]
  },
  {
   "cell_type": "code",
   "execution_count": 51,
   "id": "ad1641c9-fc6f-4557-a639-5aff3885257c",
   "metadata": {},
   "outputs": [
    {
     "name": "stderr",
     "output_type": "stream",
     "text": [
      "[nltk_data] Downloading package omw-1.4 to /Users/Jupiter/nltk_data...\n",
      "[nltk_data]   Package omw-1.4 is already up-to-date!\n"
     ]
    },
    {
     "data": {
      "text/plain": [
       "True"
      ]
     },
     "execution_count": 51,
     "metadata": {},
     "output_type": "execute_result"
    }
   ],
   "source": [
    "#upgrade nltk for lemmonization \n",
    "import nltk\n",
    "nltk.download('omw-1.4')"
   ]
  },
  {
   "cell_type": "code",
   "execution_count": 52,
   "id": "a43ae255-25f9-44c2-9359-4bfda4849b16",
   "metadata": {
    "scrolled": true
   },
   "outputs": [],
   "source": [
    "from nltk.stem import WordNetLemmatizer\n",
    "from nltk.tokenize import word_tokenize\n",
    "\n",
    "# Initialize the WordNetLemmatizer\n",
    "lemmatizer = WordNetLemmatizer()\n",
    "\n",
    "# Define a function to perform lemmatization\n",
    "def lemmatize_text(text):\n",
    "    tokens = word_tokenize(text)\n",
    "    lemmatized_tokens = [lemmatizer.lemmatize(token) for token in tokens]\n",
    "    return ' '.join(lemmatized_tokens)\n",
    "\n",
    "# Apply the function to the 'text' column\n",
    "df['text'] = df['text'].apply(lemmatize_text)"
   ]
  },
  {
   "cell_type": "code",
   "execution_count": 53,
   "id": "7cdba465-4ea9-4968-b426-f349e8195f21",
   "metadata": {},
   "outputs": [],
   "source": [
    "#remove stopwords\n",
    "#remove stop words from content\n",
    "from nltk.corpus import stopwords\n",
    "\n",
    "final_stopwords_list = stopwords.words('english')\n",
    "# Exclude stopwords with Python's list comprehension and pandas.DataFrame.apply.\n",
    "df['text'] = df['text'].apply(lambda x: ' '.join([word for word in x.split() if word not in (final_stopwords_list)]))\n"
   ]
  },
  {
   "cell_type": "code",
   "execution_count": 54,
   "id": "709a5a1b-5809-4dea-a6ce-8c215ec92f57",
   "metadata": {},
   "outputs": [
    {
     "data": {
      "text/plain": [
       "0       ESG Impact Report Data privacy security reliab...\n",
       "1       SUSTAINABILITY REPORT TABLE OF CONTENTS SOCIAL...\n",
       "2       Sustainability Governance Clean Harbors commit...\n",
       "3       Report réviseur entreprises agréé Evaluate app...\n",
       "4       Pfizer ESG Report Governance Governance Contin...\n",
       "                              ...                        \n",
       "2410    Everyone organization ha role play maintaining...\n",
       "2411    We aim create workplace people feel valued res...\n",
       "2412    Our approach corporate citizenship mean giving...\n",
       "2413    By building open inclusive corporate culture b...\n",
       "2414    Ultimately reputation hinge ability live ethic...\n",
       "Name: text, Length: 2415, dtype: object"
      ]
     },
     "execution_count": 54,
     "metadata": {},
     "output_type": "execute_result"
    }
   ],
   "source": [
    "df['text'] "
   ]
  },
  {
   "cell_type": "code",
   "execution_count": 24,
   "id": "561d3579-5d27-4e6f-8656-c1fce9b44dbc",
   "metadata": {},
   "outputs": [
    {
     "data": {
      "text/plain": [
       "0       [esg, impact, report, data, privacy, security,...\n",
       "1       [sustainability, report, table, of, contents, ...\n",
       "2       [sustainability, governance, clean, harbors, c...\n",
       "3       [report, of, the, réviseur, dentreprises, agré...\n",
       "4       [pfizer, esg, report, governance, governance, ...\n",
       "                              ...                        \n",
       "2410    [everyone, in, the, organization, has, a, role...\n",
       "2411    [we, aim, to, create, a, workplace, where, peo...\n",
       "2412    [our, approach, to, corporate, citizenship, me...\n",
       "2413    [by, building, an, open, and, inclusive, corpo...\n",
       "2414    [ultimately, our, reputation, hinges, on, our,...\n",
       "Name: text, Length: 2415, dtype: object"
      ]
     },
     "execution_count": 24,
     "metadata": {},
     "output_type": "execute_result"
    }
   ],
   "source": [
    "# #Removing Contractions\n",
    "# #!pip install contractions\n",
    "# import contractions\n",
    "# df['text'].apply(lambda x: [contractions.fix(word) for word in x.split()])\n",
    "\n",
    "\n",
    "# #Output\n",
    "# #she would like to know how I would do that!"
   ]
  }
 ],
 "metadata": {
  "kernelspec": {
   "display_name": "Python 3 (ipykernel)",
   "language": "python",
   "name": "python3"
  },
  "language_info": {
   "codemirror_mode": {
    "name": "ipython",
    "version": 3
   },
   "file_extension": ".py",
   "mimetype": "text/x-python",
   "name": "python",
   "nbconvert_exporter": "python",
   "pygments_lexer": "ipython3",
   "version": "3.9.16"
  }
 },
 "nbformat": 4,
 "nbformat_minor": 5
}
