{
 "cells": [
  {
   "cell_type": "markdown",
   "metadata": {
    "id": "LmWaNvJYmjoW"
   },
   "source": [
    "Here is our final notebook for the ESG Document Classifier task. We tried several models (SVM, XGBoost, LDA Classifier, and BERT) before settling on BERT.\n",
    "\n",
    "Since BERT is an LLM, we knew we needed lots of data to get the model to converge and generalize. We used a variety of data augmentation techniques. For example, we randomly sampled paragraphs from the training data and asked several other chat-based LLMs (GPT4ALL and HuggingFace Chatbot) to generate samples like those. Our thinking was that this could teach the model to learn general contexts for jargon-specific words, rather than memorizing single sentences. However, it also runs the risk of overfitting the model to the training data (our model likely is overfit to some degree). To combat the overfitting, we looked at the results of our LDA analysis of the training data and asked the same chatbots to generate paragraphs around the general topics and word combinations that LDA produced (emission reduction, gender diversity in the workplace, corporate code of conduct, etc.). We did this at multiple scales (page-length, paragraph-length, sentence-length), and we ultimately arrived at 3 addendum files based on the training data--one each for environmental, social, and governance. These were then cleaned (lowercased, stripped of numbers, etc.).\n",
    "\n",
    "The notebook below shows the model we used with this data to make our submission predictions. We tried a few varieties of BERT (base-cased, base-uncased, and large-cased) but base-uncased gave us the best accuracy. We also ran hyperparameter sweeps to point us toward parameters that would let us maximize our validation F1 score (validation data was held out from the training set) while converging with reasonable smoothness. Last, we performed EDA on the model's results to see where it was going wrong with the training data, and what solutions might exist. For example, when we fed the model each text sample from the beginning, the model performed poorly and overfit the training data (when compared to validation data). This happened because many of the data samples begin with a similar header, and since our model has a limited context window (it can only see 512 characters from any sample), it was missing most of the unique identifying information in each sample. We moved the context window towards the middle of each sample, and the model performed much better.\n",
    "\n",
    "\n",
    "\n",
    "---\n",
    "\n",
    "---\n",
    "\n",
    "\n",
    "The code is based on https://towardsdatascience.com/text-classification-with-bert-in-pytorch-887965e5820f and https://www.tensorflow.org/text/tutorials/classify_text_with_bert#define_your_model. However, we added a bunch of features--for example, we added an extra linear layer and a softmax nonlinearity in the classifier module, and we changed the optimizer to AdamW for better generalization (in theory).\n",
    "\n",
    "\n",
    "\n",
    "---\n",
    "\n",
    "\n",
    "\n",
    "---\n",
    "\n",
    "\n",
    "\n",
    "Path to saved model: https://drive.google.com/file/d/1RLuEuT_Pdbhzof6hCx7qbIPS2b5v9tU-/view?usp=share_link\n",
    "Path to saved parameters: https://drive.google.com/file/d/1-0emYyGl0EkTh1epwzbRPI8cKqmiDHGb/view?usp=share_link"
   ]
  },
  {
   "cell_type": "markdown",
   "metadata": {
    "id": "GxT_Ys9EarYo"
   },
   "source": [
    "# Install Dependencies"
   ]
  },
  {
   "cell_type": "code",
   "execution_count": null,
   "metadata": {
    "id": "2RhLtEU3af_k"
   },
   "outputs": [],
   "source": [
    "!pip install transformers\n",
    "\n",
    "from transformers import BertTokenizer\n",
    "import torch\n",
    "from torch import nn\n",
    "from transformers import BertModel\n",
    "\n",
    "import numpy as np\n",
    "import pandas as pd\n",
    "from sklearn.model_selection import train_test_split"
   ]
  },
  {
   "cell_type": "code",
   "execution_count": null,
   "metadata": {
    "colab": {
     "base_uri": "https://localhost:8080/",
     "height": 113,
     "referenced_widgets": [
      "b11e270a5ffd46e39b3023a583f7e515",
      "c2a6f31d03cf40a9a869f7058cbfa29f",
      "6e862b645812480a8fa7841ebe633776",
      "82b1927d695841bb928df60062d15f01",
      "722d3f9cf30d4e1f94e987e858252b2d",
      "498d44e92dd4432185d3d9bb91e53cfe",
      "c50506f856c345299b26cab7aa12b394",
      "2e9e1c1649c547048d9ad1d474c7e574",
      "39e2743686b0461ebbbd17a5aff79725",
      "b6685ca9a28c4314800c0b1ac01cd9b9",
      "fa55e7d9a5784088b2dfe0abedbe75cc",
      "85efefa4cb4c4ae3af08ad03b8d31ed1",
      "4e57a84580bd4cb69355edccc6ce998d",
      "572a11894ace4b6984db028baad5b379",
      "523d705e81f44e2cb6f78fbd88eaa061",
      "726a6c43dcb54eba88f9b26543345e16",
      "687cbb391f3f417a836d583abf5ecb25",
      "94ae233d9ee042deb205fea87cd6e143",
      "40025e2cd2d840059ccf3b9ef8da57dc",
      "1c465039084f4074b2cf4cd6f9bc6ec4",
      "c549141e9dad4413a16bb404c34abd04",
      "4b22b669e98f458d911bcf99a14cf098",
      "f949b5ee5e7e4554a1c8420cba65b9db",
      "9e484eb266834ccaaa59ca975b4d8c84",
      "2cbfb60c16734eb0a71e068282b1102f",
      "1e35c2c2faaf47febd3e4993596f02c9",
      "2f6c17fdfef448db8eca64d2e00fa63d",
      "a3e4f7282f0c4ec59b989b43525cee47",
      "85ab477652bd4e4f8f08ca89ba437568",
      "32595e97560544e39ba422e5099ea41d",
      "77c3c3f02356428dbc4d45d441aa90f2",
      "0ab19ff9b6e14c419f463abd9bd187b9",
      "5638e7bdbcc1453387df2fb4cb71d3aa"
     ]
    },
    "id": "ezCZqIfxbadj",
    "outputId": "dbe75d84-ed7e-4c98-a1ff-9ffe61ff2d26"
   },
   "outputs": [
    {
     "data": {
      "application/vnd.jupyter.widget-view+json": {
       "model_id": "b11e270a5ffd46e39b3023a583f7e515",
       "version_major": 2,
       "version_minor": 0
      },
      "text/plain": [
       "Downloading (…)solve/main/vocab.txt: 0.00B [00:00, ?B/s]"
      ]
     },
     "metadata": {},
     "output_type": "display_data"
    },
    {
     "data": {
      "application/vnd.jupyter.widget-view+json": {
       "model_id": "85efefa4cb4c4ae3af08ad03b8d31ed1",
       "version_major": 2,
       "version_minor": 0
      },
      "text/plain": [
       "Downloading (…)okenizer_config.json:   0%|          | 0.00/28.0 [00:00<?, ?B/s]"
      ]
     },
     "metadata": {},
     "output_type": "display_data"
    },
    {
     "data": {
      "application/vnd.jupyter.widget-view+json": {
       "model_id": "f949b5ee5e7e4554a1c8420cba65b9db",
       "version_major": 2,
       "version_minor": 0
      },
      "text/plain": [
       "Downloading (…)lve/main/config.json:   0%|          | 0.00/570 [00:00<?, ?B/s]"
      ]
     },
     "metadata": {},
     "output_type": "display_data"
    }
   ],
   "source": [
    "# Turn texts to strings of tokens\n",
    "tokenizer = BertTokenizer.from_pretrained('bert-base-uncased')"
   ]
  },
  {
   "cell_type": "markdown",
   "metadata": {
    "id": "k6VnrDjpbOE1"
   },
   "source": [
    "# Build A Dataset: OxML Data and Generated Data"
   ]
  },
  {
   "cell_type": "markdown",
   "metadata": {
    "id": "H2cwuvHjkA0f"
   },
   "source": [
    "Load the original data and clean. Then, load the data we generated from other transformers and clean. Finally, split the data into train and validation sets and build a DataLoader module that will feed batches to the model."
   ]
  },
  {
   "cell_type": "code",
   "execution_count": null,
   "metadata": {
    "id": "SVFOengcf7hH"
   },
   "outputs": [],
   "source": [
    "import re\n",
    "pattern = r'[0-9]'"
   ]
  },
  {
   "cell_type": "code",
   "execution_count": null,
   "metadata": {
    "id": "LB69qFbfrzzD"
   },
   "outputs": [],
   "source": [
    "# Get OxML texts\n",
    "my_file = open('/content/drive/MyDrive/oxml2023mlcases-esg-classifier/oxml_esg_texts.txt', \"r\")\n",
    "data = my_file.read()\n",
    "texts = data.split(\"unique_linebreak \\n\")\n",
    "my_file.close()\n",
    "\n",
    "# Get ESG labels\n",
    "df = pd.read_csv('/content/drive/MyDrive/oxml2023mlcases-esg-classifier/data/labels.csv')\n",
    "\n",
    "labels = {\n",
    "    'governance': 0,\n",
    "    'social': 1,\n",
    "    'environmental': 2,\n",
    "    'other': 3\n",
    "}\n",
    "\n",
    "# Add text column\n",
    "texts = [text.replace('\\n', ' ') for text in texts]\n",
    "texts = [t.replace('%', ' ') for t in texts]\n",
    "texts = [t.replace('$', ' ') for t in texts]\n",
    "texts = [t.replace('.', ' ') for t in texts]\n",
    "texts = [text.lower() for text in texts]\n",
    "texts = [re.sub(pattern, '', t) for t in texts]\n",
    "texts = [t.replace('-', '') for t in texts]\n",
    "texts = [t.replace('- ', '') for t in texts]\n",
    "texts = [t[500:] if len(t) > 500 else t for t in texts]\n",
    "\n",
    "# Add text column to label dataframe\n",
    "df['text'] = texts[:-1]"
   ]
  },
  {
   "cell_type": "code",
   "execution_count": null,
   "metadata": {
    "colab": {
     "base_uri": "https://localhost:8080/"
    },
    "id": "QHcRxwWE9zuy",
    "outputId": "71777b25-a522-40fc-be7f-a8bff456d36e"
   },
   "outputs": [
    {
     "data": {
      "text/plain": [
       "1956"
      ]
     },
     "execution_count": 8,
     "metadata": {},
     "output_type": "execute_result"
    }
   ],
   "source": [
    "len(df)"
   ]
  },
  {
   "cell_type": "code",
   "execution_count": null,
   "metadata": {
    "id": "icJQRcJJVQsN"
   },
   "outputs": [],
   "source": [
    "# Get extra texts\n",
    "my_file = open('/content/governance_trianingGPT3.txt', \"r\")\n",
    "data = my_file.read()\n",
    "texts = data.split(\"unique_linebreak\")\n",
    "my_file.close()\n",
    "\n",
    "texts = [t.replace('\\n', ' ') for t in texts]\n",
    "texts = [t.replace('%', ' ') for t in texts]\n",
    "texts = [t.replace('$', ' ') for t in texts]\n",
    "texts = [t.replace('.', ' ') for t in texts]\n",
    "texts = [t.lower() for t in texts]\n",
    "texts = [re.sub(pattern, '', t) for t in texts]\n",
    "texts = [t.replace('-', '') for t in texts]\n",
    "texts = [t.replace('- ', '') for t in texts]\n",
    "texts = [t[700:] if len(t) > 700 else t for t in texts]\n",
    "\n",
    "g_list = ['governance'] * (len(texts) - 1)\n",
    "\n",
    "for i, j in zip(g_list, texts):\n",
    "    df = df.append({'class': i, 'text': j}, ignore_index=True)\n",
    "\n",
    "# -----------------------------------------------------\n",
    "# Get extra texts\n",
    "my_file = open('/content/social_trianingGPT3.txt', \"r\")\n",
    "data = my_file.read()\n",
    "texts = data.split(\"unique_linebreak\")\n",
    "my_file.close()\n",
    "\n",
    "texts = [t.replace('\\n', ' ') for t in texts]\n",
    "texts = [t.replace('%', ' ') for t in texts]\n",
    "texts = [t.replace('$', ' ') for t in texts]\n",
    "texts = [t.replace('.', ' ') for t in texts]\n",
    "texts = [t.lower() for t in texts]\n",
    "texts = [re.sub(pattern, '', t) for t in texts]\n",
    "texts = [t.replace('-', '') for t in texts]\n",
    "texts = [t.replace('- ', '') for t in texts]\n",
    "texts = [t[700:] if len(t) > 700 else t for t in texts]\n",
    "\n",
    "g_list = ['social'] * (len(texts) - 1)\n",
    "\n",
    "for i, j in zip(g_list, texts):\n",
    "    df = df.append({'class': i, 'text': j}, ignore_index=True)\n",
    "\n",
    "# -----------------------------------------------------\n",
    "# Get extra texts\n",
    "my_file = open('/content/environment_trianingGPT4_augmented.txt', \"r\")\n",
    "data = my_file.read()\n",
    "texts = data.split(\"unique_linebreak\")\n",
    "my_file.close()\n",
    "\n",
    "texts = [t.replace('\\n', ' ') for t in texts]\n",
    "texts = [t.replace('%', ' ') for t in texts]\n",
    "texts = [t.replace('$', ' ') for t in texts]\n",
    "texts = [t.replace('.', ' ') for t in texts]\n",
    "texts = [t.lower() for t in texts]\n",
    "texts = [re.sub(pattern, '', t) for t in texts]\n",
    "texts = [t.replace('-', '') for t in texts]\n",
    "texts = [t.replace('- ', '') for t in texts]\n",
    "texts = [t[700:] if len(t) > 700 else t for t in texts]\n",
    "\n",
    "g_list = ['environmental'] * (len(texts) - 1)\n",
    "\n",
    "for i, j in zip(g_list, texts):\n",
    "    df = df.append({'class': i, 'text': j}, ignore_index=True)\n",
    "\n",
    "# -----------------------------------------------------\n",
    "# Get extra texts\n",
    "extra_extra = pd.read_csv('/content/training_balanced_cleaned.csv')\n",
    "extra_extra.drop(columns=['Unnamed: 0'], inplace=True)\n",
    "extra_extra = extra_extra.dropna(subset=['text'])\n",
    "\n",
    "texts = extra_extra['text']\n",
    "\n",
    "texts = [t.replace('\\n', ' ') for t in texts]\n",
    "texts = [t.replace('%', ' ') for t in texts]\n",
    "texts = [t.replace('$', ' ') for t in texts]\n",
    "texts = [t.replace('.', ' ') for t in texts]\n",
    "texts = [t.lower() for t in texts]\n",
    "texts = [re.sub(pattern, '', t) for t in texts]\n",
    "texts = [t.replace('-', '') for t in texts]\n",
    "texts = [t.replace('- ', '') for t in texts]\n",
    "texts = [t[700:] if len(t) > 700 else t for t in texts]\n",
    "\n",
    "extra_extra['text'] = texts\n",
    "\n",
    "df = pd.concat([df, extra_extra], ignore_index=True)"
   ]
  },
  {
   "cell_type": "code",
   "execution_count": null,
   "metadata": {
    "id": "ClJLTU04mF8l"
   },
   "outputs": [],
   "source": [
    "#Split the data into train and test\n",
    "df_train, df_val = train_test_split(df, test_size=0.3, shuffle=True)\n",
    "\n",
    "print(len(df_train), len(df_val))"
   ]
  },
  {
   "cell_type": "code",
   "execution_count": null,
   "metadata": {
    "id": "DPq1-znvhcUZ"
   },
   "outputs": [],
   "source": [
    "# could change max length back to 512\n",
    "\n",
    "class Dataset(torch.utils.data.Dataset):\n",
    "\n",
    "    def __init__(self, df):\n",
    "\n",
    "        self.labels = [labels[l] for l in df['class']]\n",
    "        self.texts = [tokenizer(text,\n",
    "                               padding='max_length', max_length = 512, truncation=True,\n",
    "                                return_tensors=\"pt\") for text in df['text']]\n",
    "\n",
    "    def classes(self):\n",
    "        return self.labels\n",
    "\n",
    "    def __len__(self):\n",
    "        return len(self.labels)\n",
    "\n",
    "    def get_batch_labels(self, idx):\n",
    "        # Fetch a batch of labels\n",
    "        return np.array(self.labels[idx])\n",
    "\n",
    "    def get_batch_texts(self, idx):\n",
    "        # Fetch a batch of inputs\n",
    "        return self.texts[idx]\n",
    "\n",
    "    def __getitem__(self, idx):\n",
    "\n",
    "        batch_texts = self.get_batch_texts(idx)\n",
    "        batch_y = self.get_batch_labels(idx)\n",
    "\n",
    "        return batch_texts, batch_y # -> a batch of tokenized texts and the corresponding labels"
   ]
  },
  {
   "cell_type": "markdown",
   "metadata": {
    "id": "7IZByOCQm40M"
   },
   "source": [
    "# Build A BERT Classification Model\n",
    "Fit an FC classifier sequence on top of BERT. This will grab the embedded class tokens and pass them through the classifier."
   ]
  },
  {
   "cell_type": "code",
   "execution_count": null,
   "metadata": {
    "id": "A9E0yANbl-Iu"
   },
   "outputs": [],
   "source": [
    "# Original classifier idea\n",
    "class BertClassifier(nn.Module):\n",
    "  def __init__(self, dropout=0.5):\n",
    "\n",
    "    super(BertClassifier, self).__init__()\n",
    "\n",
    "    self.bert = BertModel.from_pretrained('bert-base-uncased')\n",
    "    self.dropout = nn.Dropout(dropout)\n",
    "    self.relu = nn.ReLU()\n",
    "    self.fc1 = nn.Linear(768, 512) # -> input is a pooled 768-dim class embedding vector from transformer, and output is 4 classes\n",
    "    self.fc2 = nn.Linear(512, 4)\n",
    "    self.softmax = nn.LogSoftmax(dim=1)\n",
    "\n",
    "  def forward(self, input_id, mask):\n",
    "    # _ contains embedding vectors for all tokens in a sequence, and out contains the embedding vector of the class token for that sequence\n",
    "    _, out = self.bert(input_ids=input_id, attention_mask=mask, return_dict=False)\n",
    "\n",
    "    # the embedding vector for the class token gets passed through these layers for classification\n",
    "    out = self.dropout(out)\n",
    "    out = self.relu(out)\n",
    "    out = self.fc1(out)\n",
    "    out = self.fc2(out)\n",
    "    out = self.softmax(out)\n",
    "\n",
    "    return out"
   ]
  },
  {
   "cell_type": "markdown",
   "metadata": {
    "id": "YArdXJTKpEvL"
   },
   "source": [
    "# Train the BERT Classification Model"
   ]
  },
  {
   "cell_type": "code",
   "execution_count": null,
   "metadata": {
    "id": "YrhKw0WUpLQm"
   },
   "outputs": [],
   "source": [
    "from torch.optim import AdamW\n",
    "from tqdm import tqdm\n",
    "from sklearn.metrics import f1_score"
   ]
  },
  {
   "cell_type": "code",
   "execution_count": null,
   "metadata": {
    "id": "rZFyj9W6xGjQ"
   },
   "outputs": [],
   "source": [
    "def get_f1(labels, preds):\n",
    "  avg = []\n",
    "\n",
    "  for i, j in zip(labels, preds):\n",
    "    f1 = f1_score(i, j, labels=np.unique(j), average='macro')\n",
    "    avg.append(f1)\n",
    "\n",
    "  total_f1 = sum(avg)/len(avg)\n",
    "\n",
    "  return total_f1"
   ]
  },
  {
   "cell_type": "code",
   "execution_count": null,
   "metadata": {
    "id": "O9vEITrgpHMN"
   },
   "outputs": [],
   "source": [
    "def train(model, train_data, val_data, learning_rate, epochs):\n",
    "\n",
    "  # set up datasets\n",
    "  train, val = Dataset(train_data), Dataset(val_data)\n",
    "\n",
    "  # load the datasets\n",
    "  train_dataloader = torch.utils.data.DataLoader(train, batch_size=batch_size, shuffle=True)\n",
    "  val_dataloader = torch.utils.data.DataLoader(val, batch_size=batch_size)\n",
    "\n",
    "  # try for a GPU\n",
    "  use_cuda = torch.cuda.is_available()\n",
    "  device = torch.device(\"cuda\" if use_cuda else \"cpu\")\n",
    "\n",
    "  # define loss and optimizer\n",
    "  loss = nn.CrossEntropyLoss()\n",
    "  optimizer = AdamW(model.parameters(), lr=learning_rate)\n",
    "\n",
    "  avg_train_f1 = []\n",
    "  avg_val_f1 = []\n",
    "\n",
    "  if use_cuda:\n",
    "    model = model.cuda()\n",
    "    loss = loss.cuda()\n",
    "\n",
    "  for epoch in range(epochs):\n",
    "\n",
    "    train_outputs = []\n",
    "    train_labels = []\n",
    "    val_outputs = []\n",
    "    val_labels = []\n",
    "\n",
    "    train_acc = 0\n",
    "    train_loss = 0\n",
    "\n",
    "    for train_input, train_label in tqdm(train_dataloader):\n",
    "\n",
    "      # pass this stuff to the GPU\n",
    "      train_label = train_label.to(device)\n",
    "      train_labels.append(train_label.cpu().numpy())\n",
    "      mask = train_input['attention_mask'].to(device)\n",
    "      input_id = train_input['input_ids'].squeeze(1).to(device)\n",
    "\n",
    "      # feed data to model\n",
    "      output = model(input_id, mask)\n",
    "      train_outputs.append(output.argmax(dim=1).cpu().numpy())\n",
    "\n",
    "      # calculate loss\n",
    "      batch_loss = loss(output, train_label.long())\n",
    "      train_loss += batch_loss.item()\n",
    "\n",
    "      # calculate accuracy -> likeliest label correct?\n",
    "      acc = (output.argmax(dim=1) == train_label).sum().item()\n",
    "      train_acc += acc\n",
    "\n",
    "      model.zero_grad()\n",
    "      batch_loss.backward()\n",
    "      optimizer.step()\n",
    "\n",
    "    val_acc = 0\n",
    "    val_loss = 0\n",
    "\n",
    "    # proper backprop for validation mode\n",
    "    with torch.no_grad():\n",
    "\n",
    "      for val_input, val_label in val_dataloader:\n",
    "\n",
    "        val_label = val_label.to(device)\n",
    "        val_labels.append(val_label.cpu().numpy())\n",
    "        mask = val_input['attention_mask'].to(device)\n",
    "        input_id = val_input['input_ids'].squeeze(1).to(device)\n",
    "\n",
    "        output = model(input_id, mask)\n",
    "        val_outputs.append(output.argmax(dim=1).cpu().numpy())\n",
    "\n",
    "        batch_loss = loss(output, val_label.long())\n",
    "        val_loss += batch_loss.item()\n",
    "\n",
    "        acc = (output.argmax(dim=1) == val_label).sum().item()\n",
    "        val_acc += acc\n",
    "\n",
    "    avg_train_f1.append(get_f1(train_labels, train_outputs))\n",
    "    avg_val_f1.append(get_f1(val_labels, val_outputs))\n",
    "\n",
    "    print(\n",
    "    f'Epochs: {epoch + 1} | Train Loss: {train_loss / len(train_data): .3f} \\\n",
    "    | Train Accuracy: {train_acc / len(train_data): .3f} \\\n",
    "    | Train F1: {avg_train_f1[-1]: .3f} \\\n",
    "    | Val Loss: {val_loss / len(val_data): .3f} \\\n",
    "    | Val Accuracy: {val_acc / len(val_data): .3f} \\\n",
    "    | Val F1: {avg_val_f1[-1]: .3f}')"
   ]
  },
  {
   "cell_type": "markdown",
   "metadata": {
    "id": "KPulErHBPx2W"
   },
   "source": [
    "We've saved the model and parameters from the run we used to generate our submission. The paths below can be replaced with the generic links given at the top of the notebook."
   ]
  },
  {
   "cell_type": "code",
   "execution_count": null,
   "metadata": {
    "colab": {
     "base_uri": "https://localhost:8080/"
    },
    "id": "NFMH16IzUSqf",
    "outputId": "85e89a91-7b55-4984-a5f0-5241c83d1427"
   },
   "outputs": [
    {
     "data": {
      "text/plain": [
       "<All keys matched successfully>"
      ]
     },
     "execution_count": 18,
     "metadata": {},
     "output_type": "execute_result"
    }
   ],
   "source": [
    "# Load previously saved model\n",
    "PATH = '/content/drive/MyDrive/oxml2023mlcases-esg-classifier/esg_transformer_61823.pth'\n",
    "model = torch.load(PATH)\n",
    "\n",
    "#model.eval() # -> sets the model to evaluation mode for testing (turn on if just wanting to check the model against test data)\n",
    "\n",
    "#Load previously saved model parameters\n",
    "PATH = '/content/drive/MyDrive/oxml2023mlcases-esg-classifier/esg_transformer_61823_params.pth'\n",
    "\n",
    "model.load_state_dict(torch.load(PATH))"
   ]
  },
  {
   "cell_type": "code",
   "execution_count": null,
   "metadata": {
    "id": "tibRQyURtGjp"
   },
   "outputs": [],
   "source": [
    "#model = BertClassifier() -> this line is used when training from scratch\n",
    "model = model # -> this line loads the pretrained model from the previous cell for evaluation or further training\n",
    "\n",
    "epochs = 5\n",
    "batch_size = 4\n",
    "learning_rate = 1e-5\n",
    "\n",
    "train(model, df_train, df_val, learning_rate, epochs)"
   ]
  },
  {
   "cell_type": "markdown",
   "metadata": {
    "id": "8-HPyxJbT323"
   },
   "source": [
    "# Save A Trained Model\n",
    "We used this cell to save the model and parameters from our successful runs."
   ]
  },
  {
   "cell_type": "code",
   "execution_count": null,
   "metadata": {
    "id": "B5N45e5DTs4g"
   },
   "outputs": [],
   "source": [
    "#Save a model\n",
    "PATH = '/content/drive/MyDrive/oxml2023mlcases-esg-classifier/esg_transformer_62223.pth'\n",
    "torch.save(model, PATH)\n",
    "\n",
    "#Save a model's parameters\n",
    "PATH = '/content/drive/MyDrive/oxml2023mlcases-esg-classifier/esg_transformer_62223_params.pth'\n",
    "torch.save(model.state_dict(), PATH)"
   ]
  },
  {
   "cell_type": "markdown",
   "metadata": {
    "id": "2GlRetxrudWa"
   },
   "source": [
    "# Predict on Sample_Submission.csv"
   ]
  },
  {
   "cell_type": "code",
   "execution_count": null,
   "metadata": {
    "id": "6Rg7fkYf7t6O"
   },
   "outputs": [],
   "source": [
    "!pip install PyMuPDF\n",
    "\n",
    "from pathlib import Path\n",
    "import re\n",
    "import fitz\n",
    "import pandas as pd\n",
    "from PIL import Image\n",
    "import torch\n",
    "\n",
    "device = torch.device(\"cuda\"if torch.cuda.is_available() else\"cpu\")\n",
    "\n",
    "# directories & files\n",
    "DIR_DATA = Path(\"/content/drive/MyDrive/oxml2023mlcases-esg-classifier/data/\")\n",
    "REPORTS_DIR = \"reports/\"\n",
    "LABELS_FILE = \"labels.csv\"\n",
    "\n",
    "# columns\n",
    "C_ID, C_CLASS = \"id\", \"class\""
   ]
  },
  {
   "cell_type": "code",
   "execution_count": null,
   "metadata": {
    "id": "j1ILrBxR7ZGf"
   },
   "outputs": [],
   "source": [
    "submission = pd.read_csv(\"/content/drive/MyDrive/oxml2023mlcases-esg-classifier/sample_submission.csv\")"
   ]
  },
  {
   "cell_type": "code",
   "execution_count": null,
   "metadata": {
    "id": "4p-u3vfT7cHZ"
   },
   "outputs": [],
   "source": [
    "def create_filepath(filename):\n",
    "    return DIR_DATA / REPORTS_DIR / filename\n",
    "\n",
    "def read_page(filename, page_number):\n",
    "    filepath = create_filepath(filename)\n",
    "    doc = fitz.open(filepath)\n",
    "    page_index = page_number - 1\n",
    "    page = doc.load_page(page_index)\n",
    "    return page.get_text()"
   ]
  },
  {
   "cell_type": "code",
   "execution_count": null,
   "metadata": {
    "id": "Sq75RBfgo-A2"
   },
   "outputs": [],
   "source": [
    "# clean the test data so it matches the train data\n",
    "\n",
    "t_texts = []\n",
    "\n",
    "for i in range(len(submission)):\n",
    "#     print(i)\n",
    "    path = submission.iloc[i][C_ID]\n",
    "#     print(path)\n",
    "    matches = re.match(r'^(.+)\\.(\\d+)$', path)\n",
    "    filename = matches.group(1)\n",
    "    page_number = int(matches.group(2))\n",
    "\n",
    "    content = read_page(filename, page_number)\n",
    "    t_texts.append(content)\n",
    "\n",
    "t_texts = [t.replace('\\n', ' ') for t in t_texts]\n",
    "t_texts = [t.replace('%', ' ') for t in t_texts]\n",
    "t_texts = [t.replace('$', ' ') for t in t_texts]\n",
    "t_texts = [t.replace('.', ' ') for t in t_texts]\n",
    "t_texts = [t.lower() for t in t_texts]\n",
    "t_texts = [re.sub(pattern, '', t) for t in t_texts]\n",
    "t_texts = [t.replace('-', '') for t in t_texts]\n",
    "t_texts = [t.replace('- ', '') for t in t_texts]\n",
    "\n",
    "texts_df = pd.DataFrame(t_texts, columns=['text'])"
   ]
  },
  {
   "cell_type": "code",
   "execution_count": null,
   "metadata": {
    "id": "hHGydk85o3kp"
   },
   "outputs": [],
   "source": [
    "# Define an evaluation function\n",
    "\n",
    "def evaluate(model, df):\n",
    "  test = [tokenizer(text, padding='max_length', max_length = 512, truncation=True,\n",
    "                                return_tensors=\"pt\") for text in df['text']]\n",
    "  pred_list = []\n",
    "\n",
    "  # These were in the function above\n",
    "  use_cuda = torch.cuda.is_available()\n",
    "  device = torch.device(\"cuda\" if use_cuda else \"cpu\")\n",
    "\n",
    "  if use_cuda:\n",
    "    model = model.cuda()\n",
    "\n",
    "  with torch.no_grad():\n",
    "\n",
    "    for test_input in test:\n",
    "\n",
    "      mask = test_input['attention_mask'].to(device)\n",
    "      input_id = test_input['input_ids'].squeeze(1).to(device)\n",
    "\n",
    "      output = model(input_id, mask)\n",
    "\n",
    "      pred = output.argmax()\n",
    "\n",
    "      pred_list.append(int(pred.detach()))\n",
    "\n",
    "  return pred_list"
   ]
  },
  {
   "cell_type": "code",
   "execution_count": null,
   "metadata": {
    "id": "RUiYEMywQ3AB"
   },
   "outputs": [],
   "source": [
    "# Generate predictions\n",
    "preds = evaluate(model, texts_df)"
   ]
  },
  {
   "cell_type": "code",
   "execution_count": null,
   "metadata": {
    "id": "r7W1_V7IrTma"
   },
   "outputs": [],
   "source": [
    "# Add predictions to dataframe, in word categories\n",
    "\n",
    "submission['nums'] = preds\n",
    "\n",
    "label_mapping = {0: 'governance', 1: 'social', 2: 'environmental', 3: 'other'}\n",
    "submission['nums'] = submission['nums'].map(label_mapping)\n",
    "\n",
    "submission.drop(columns=['class'], inplace=True)\n",
    "submission.rename(columns={'nums': 'class'}, inplace=True)"
   ]
  },
  {
   "cell_type": "code",
   "execution_count": null,
   "metadata": {
    "id": "_KIW7VgsDjcN"
   },
   "outputs": [],
   "source": [
    "# Convert submission to CSV\n",
    "submission.to_csv('submission_621.csv', index=False)"
   ]
  }
 ],
 "metadata": {
  "accelerator": "GPU",
  "colab": {
   "gpuType": "V100",
   "machine_shape": "hm",
   "provenance": []
  },
  "kernelspec": {
   "display_name": "Python 3 (ipykernel)",
   "language": "python",
   "name": "python3"
  },
  "language_info": {
   "codemirror_mode": {
    "name": "ipython",
    "version": 3
   },
   "file_extension": ".py",
   "mimetype": "text/x-python",
   "name": "python",
   "nbconvert_exporter": "python",
   "pygments_lexer": "ipython3",
   "version": "3.9.16"
  },
  "widgets": {
   "application/vnd.jupyter.widget-state+json": {
    "0ab19ff9b6e14c419f463abd9bd187b9": {
     "model_module": "@jupyter-widgets/base",
     "model_module_version": "1.2.0",
     "model_name": "LayoutModel",
     "state": {
      "_model_module": "@jupyter-widgets/base",
      "_model_module_version": "1.2.0",
      "_model_name": "LayoutModel",
      "_view_count": null,
      "_view_module": "@jupyter-widgets/base",
      "_view_module_version": "1.2.0",
      "_view_name": "LayoutView",
      "align_content": null,
      "align_items": null,
      "align_self": null,
      "border": null,
      "bottom": null,
      "display": null,
      "flex": null,
      "flex_flow": null,
      "grid_area": null,
      "grid_auto_columns": null,
      "grid_auto_flow": null,
      "grid_auto_rows": null,
      "grid_column": null,
      "grid_gap": null,
      "grid_row": null,
      "grid_template_areas": null,
      "grid_template_columns": null,
      "grid_template_rows": null,
      "height": null,
      "justify_content": null,
      "justify_items": null,
      "left": null,
      "margin": null,
      "max_height": null,
      "max_width": null,
      "min_height": null,
      "min_width": null,
      "object_fit": null,
      "object_position": null,
      "order": null,
      "overflow": null,
      "overflow_x": null,
      "overflow_y": null,
      "padding": null,
      "right": null,
      "top": null,
      "visibility": null,
      "width": null
     }
    },
    "1c465039084f4074b2cf4cd6f9bc6ec4": {
     "model_module": "@jupyter-widgets/controls",
     "model_module_version": "1.5.0",
     "model_name": "ProgressStyleModel",
     "state": {
      "_model_module": "@jupyter-widgets/controls",
      "_model_module_version": "1.5.0",
      "_model_name": "ProgressStyleModel",
      "_view_count": null,
      "_view_module": "@jupyter-widgets/base",
      "_view_module_version": "1.2.0",
      "_view_name": "StyleView",
      "bar_color": null,
      "description_width": ""
     }
    },
    "1e35c2c2faaf47febd3e4993596f02c9": {
     "model_module": "@jupyter-widgets/controls",
     "model_module_version": "1.5.0",
     "model_name": "HTMLModel",
     "state": {
      "_dom_classes": [],
      "_model_module": "@jupyter-widgets/controls",
      "_model_module_version": "1.5.0",
      "_model_name": "HTMLModel",
      "_view_count": null,
      "_view_module": "@jupyter-widgets/controls",
      "_view_module_version": "1.5.0",
      "_view_name": "HTMLView",
      "description": "",
      "description_tooltip": null,
      "layout": "IPY_MODEL_0ab19ff9b6e14c419f463abd9bd187b9",
      "placeholder": "​",
      "style": "IPY_MODEL_5638e7bdbcc1453387df2fb4cb71d3aa",
      "value": " 570/570 [00:00&lt;00:00, 46.4kB/s]"
     }
    },
    "2cbfb60c16734eb0a71e068282b1102f": {
     "model_module": "@jupyter-widgets/controls",
     "model_module_version": "1.5.0",
     "model_name": "FloatProgressModel",
     "state": {
      "_dom_classes": [],
      "_model_module": "@jupyter-widgets/controls",
      "_model_module_version": "1.5.0",
      "_model_name": "FloatProgressModel",
      "_view_count": null,
      "_view_module": "@jupyter-widgets/controls",
      "_view_module_version": "1.5.0",
      "_view_name": "ProgressView",
      "bar_style": "success",
      "description": "",
      "description_tooltip": null,
      "layout": "IPY_MODEL_32595e97560544e39ba422e5099ea41d",
      "max": 570,
      "min": 0,
      "orientation": "horizontal",
      "style": "IPY_MODEL_77c3c3f02356428dbc4d45d441aa90f2",
      "value": 570
     }
    },
    "2e9e1c1649c547048d9ad1d474c7e574": {
     "model_module": "@jupyter-widgets/base",
     "model_module_version": "1.2.0",
     "model_name": "LayoutModel",
     "state": {
      "_model_module": "@jupyter-widgets/base",
      "_model_module_version": "1.2.0",
      "_model_name": "LayoutModel",
      "_view_count": null,
      "_view_module": "@jupyter-widgets/base",
      "_view_module_version": "1.2.0",
      "_view_name": "LayoutView",
      "align_content": null,
      "align_items": null,
      "align_self": null,
      "border": null,
      "bottom": null,
      "display": null,
      "flex": null,
      "flex_flow": null,
      "grid_area": null,
      "grid_auto_columns": null,
      "grid_auto_flow": null,
      "grid_auto_rows": null,
      "grid_column": null,
      "grid_gap": null,
      "grid_row": null,
      "grid_template_areas": null,
      "grid_template_columns": null,
      "grid_template_rows": null,
      "height": null,
      "justify_content": null,
      "justify_items": null,
      "left": null,
      "margin": null,
      "max_height": null,
      "max_width": null,
      "min_height": null,
      "min_width": null,
      "object_fit": null,
      "object_position": null,
      "order": null,
      "overflow": null,
      "overflow_x": null,
      "overflow_y": null,
      "padding": null,
      "right": null,
      "top": null,
      "visibility": null,
      "width": "20px"
     }
    },
    "2f6c17fdfef448db8eca64d2e00fa63d": {
     "model_module": "@jupyter-widgets/base",
     "model_module_version": "1.2.0",
     "model_name": "LayoutModel",
     "state": {
      "_model_module": "@jupyter-widgets/base",
      "_model_module_version": "1.2.0",
      "_model_name": "LayoutModel",
      "_view_count": null,
      "_view_module": "@jupyter-widgets/base",
      "_view_module_version": "1.2.0",
      "_view_name": "LayoutView",
      "align_content": null,
      "align_items": null,
      "align_self": null,
      "border": null,
      "bottom": null,
      "display": null,
      "flex": null,
      "flex_flow": null,
      "grid_area": null,
      "grid_auto_columns": null,
      "grid_auto_flow": null,
      "grid_auto_rows": null,
      "grid_column": null,
      "grid_gap": null,
      "grid_row": null,
      "grid_template_areas": null,
      "grid_template_columns": null,
      "grid_template_rows": null,
      "height": null,
      "justify_content": null,
      "justify_items": null,
      "left": null,
      "margin": null,
      "max_height": null,
      "max_width": null,
      "min_height": null,
      "min_width": null,
      "object_fit": null,
      "object_position": null,
      "order": null,
      "overflow": null,
      "overflow_x": null,
      "overflow_y": null,
      "padding": null,
      "right": null,
      "top": null,
      "visibility": null,
      "width": null
     }
    },
    "32595e97560544e39ba422e5099ea41d": {
     "model_module": "@jupyter-widgets/base",
     "model_module_version": "1.2.0",
     "model_name": "LayoutModel",
     "state": {
      "_model_module": "@jupyter-widgets/base",
      "_model_module_version": "1.2.0",
      "_model_name": "LayoutModel",
      "_view_count": null,
      "_view_module": "@jupyter-widgets/base",
      "_view_module_version": "1.2.0",
      "_view_name": "LayoutView",
      "align_content": null,
      "align_items": null,
      "align_self": null,
      "border": null,
      "bottom": null,
      "display": null,
      "flex": null,
      "flex_flow": null,
      "grid_area": null,
      "grid_auto_columns": null,
      "grid_auto_flow": null,
      "grid_auto_rows": null,
      "grid_column": null,
      "grid_gap": null,
      "grid_row": null,
      "grid_template_areas": null,
      "grid_template_columns": null,
      "grid_template_rows": null,
      "height": null,
      "justify_content": null,
      "justify_items": null,
      "left": null,
      "margin": null,
      "max_height": null,
      "max_width": null,
      "min_height": null,
      "min_width": null,
      "object_fit": null,
      "object_position": null,
      "order": null,
      "overflow": null,
      "overflow_x": null,
      "overflow_y": null,
      "padding": null,
      "right": null,
      "top": null,
      "visibility": null,
      "width": null
     }
    },
    "39e2743686b0461ebbbd17a5aff79725": {
     "model_module": "@jupyter-widgets/controls",
     "model_module_version": "1.5.0",
     "model_name": "ProgressStyleModel",
     "state": {
      "_model_module": "@jupyter-widgets/controls",
      "_model_module_version": "1.5.0",
      "_model_name": "ProgressStyleModel",
      "_view_count": null,
      "_view_module": "@jupyter-widgets/base",
      "_view_module_version": "1.2.0",
      "_view_name": "StyleView",
      "bar_color": null,
      "description_width": ""
     }
    },
    "40025e2cd2d840059ccf3b9ef8da57dc": {
     "model_module": "@jupyter-widgets/base",
     "model_module_version": "1.2.0",
     "model_name": "LayoutModel",
     "state": {
      "_model_module": "@jupyter-widgets/base",
      "_model_module_version": "1.2.0",
      "_model_name": "LayoutModel",
      "_view_count": null,
      "_view_module": "@jupyter-widgets/base",
      "_view_module_version": "1.2.0",
      "_view_name": "LayoutView",
      "align_content": null,
      "align_items": null,
      "align_self": null,
      "border": null,
      "bottom": null,
      "display": null,
      "flex": null,
      "flex_flow": null,
      "grid_area": null,
      "grid_auto_columns": null,
      "grid_auto_flow": null,
      "grid_auto_rows": null,
      "grid_column": null,
      "grid_gap": null,
      "grid_row": null,
      "grid_template_areas": null,
      "grid_template_columns": null,
      "grid_template_rows": null,
      "height": null,
      "justify_content": null,
      "justify_items": null,
      "left": null,
      "margin": null,
      "max_height": null,
      "max_width": null,
      "min_height": null,
      "min_width": null,
      "object_fit": null,
      "object_position": null,
      "order": null,
      "overflow": null,
      "overflow_x": null,
      "overflow_y": null,
      "padding": null,
      "right": null,
      "top": null,
      "visibility": null,
      "width": null
     }
    },
    "498d44e92dd4432185d3d9bb91e53cfe": {
     "model_module": "@jupyter-widgets/base",
     "model_module_version": "1.2.0",
     "model_name": "LayoutModel",
     "state": {
      "_model_module": "@jupyter-widgets/base",
      "_model_module_version": "1.2.0",
      "_model_name": "LayoutModel",
      "_view_count": null,
      "_view_module": "@jupyter-widgets/base",
      "_view_module_version": "1.2.0",
      "_view_name": "LayoutView",
      "align_content": null,
      "align_items": null,
      "align_self": null,
      "border": null,
      "bottom": null,
      "display": null,
      "flex": null,
      "flex_flow": null,
      "grid_area": null,
      "grid_auto_columns": null,
      "grid_auto_flow": null,
      "grid_auto_rows": null,
      "grid_column": null,
      "grid_gap": null,
      "grid_row": null,
      "grid_template_areas": null,
      "grid_template_columns": null,
      "grid_template_rows": null,
      "height": null,
      "justify_content": null,
      "justify_items": null,
      "left": null,
      "margin": null,
      "max_height": null,
      "max_width": null,
      "min_height": null,
      "min_width": null,
      "object_fit": null,
      "object_position": null,
      "order": null,
      "overflow": null,
      "overflow_x": null,
      "overflow_y": null,
      "padding": null,
      "right": null,
      "top": null,
      "visibility": null,
      "width": null
     }
    },
    "4b22b669e98f458d911bcf99a14cf098": {
     "model_module": "@jupyter-widgets/controls",
     "model_module_version": "1.5.0",
     "model_name": "DescriptionStyleModel",
     "state": {
      "_model_module": "@jupyter-widgets/controls",
      "_model_module_version": "1.5.0",
      "_model_name": "DescriptionStyleModel",
      "_view_count": null,
      "_view_module": "@jupyter-widgets/base",
      "_view_module_version": "1.2.0",
      "_view_name": "StyleView",
      "description_width": ""
     }
    },
    "4e57a84580bd4cb69355edccc6ce998d": {
     "model_module": "@jupyter-widgets/controls",
     "model_module_version": "1.5.0",
     "model_name": "HTMLModel",
     "state": {
      "_dom_classes": [],
      "_model_module": "@jupyter-widgets/controls",
      "_model_module_version": "1.5.0",
      "_model_name": "HTMLModel",
      "_view_count": null,
      "_view_module": "@jupyter-widgets/controls",
      "_view_module_version": "1.5.0",
      "_view_name": "HTMLView",
      "description": "",
      "description_tooltip": null,
      "layout": "IPY_MODEL_687cbb391f3f417a836d583abf5ecb25",
      "placeholder": "​",
      "style": "IPY_MODEL_94ae233d9ee042deb205fea87cd6e143",
      "value": "Downloading (…)okenizer_config.json: 100%"
     }
    },
    "523d705e81f44e2cb6f78fbd88eaa061": {
     "model_module": "@jupyter-widgets/controls",
     "model_module_version": "1.5.0",
     "model_name": "HTMLModel",
     "state": {
      "_dom_classes": [],
      "_model_module": "@jupyter-widgets/controls",
      "_model_module_version": "1.5.0",
      "_model_name": "HTMLModel",
      "_view_count": null,
      "_view_module": "@jupyter-widgets/controls",
      "_view_module_version": "1.5.0",
      "_view_name": "HTMLView",
      "description": "",
      "description_tooltip": null,
      "layout": "IPY_MODEL_c549141e9dad4413a16bb404c34abd04",
      "placeholder": "​",
      "style": "IPY_MODEL_4b22b669e98f458d911bcf99a14cf098",
      "value": " 28.0/28.0 [00:00&lt;00:00, 2.32kB/s]"
     }
    },
    "5638e7bdbcc1453387df2fb4cb71d3aa": {
     "model_module": "@jupyter-widgets/controls",
     "model_module_version": "1.5.0",
     "model_name": "DescriptionStyleModel",
     "state": {
      "_model_module": "@jupyter-widgets/controls",
      "_model_module_version": "1.5.0",
      "_model_name": "DescriptionStyleModel",
      "_view_count": null,
      "_view_module": "@jupyter-widgets/base",
      "_view_module_version": "1.2.0",
      "_view_name": "StyleView",
      "description_width": ""
     }
    },
    "572a11894ace4b6984db028baad5b379": {
     "model_module": "@jupyter-widgets/controls",
     "model_module_version": "1.5.0",
     "model_name": "FloatProgressModel",
     "state": {
      "_dom_classes": [],
      "_model_module": "@jupyter-widgets/controls",
      "_model_module_version": "1.5.0",
      "_model_name": "FloatProgressModel",
      "_view_count": null,
      "_view_module": "@jupyter-widgets/controls",
      "_view_module_version": "1.5.0",
      "_view_name": "ProgressView",
      "bar_style": "success",
      "description": "",
      "description_tooltip": null,
      "layout": "IPY_MODEL_40025e2cd2d840059ccf3b9ef8da57dc",
      "max": 28,
      "min": 0,
      "orientation": "horizontal",
      "style": "IPY_MODEL_1c465039084f4074b2cf4cd6f9bc6ec4",
      "value": 28
     }
    },
    "687cbb391f3f417a836d583abf5ecb25": {
     "model_module": "@jupyter-widgets/base",
     "model_module_version": "1.2.0",
     "model_name": "LayoutModel",
     "state": {
      "_model_module": "@jupyter-widgets/base",
      "_model_module_version": "1.2.0",
      "_model_name": "LayoutModel",
      "_view_count": null,
      "_view_module": "@jupyter-widgets/base",
      "_view_module_version": "1.2.0",
      "_view_name": "LayoutView",
      "align_content": null,
      "align_items": null,
      "align_self": null,
      "border": null,
      "bottom": null,
      "display": null,
      "flex": null,
      "flex_flow": null,
      "grid_area": null,
      "grid_auto_columns": null,
      "grid_auto_flow": null,
      "grid_auto_rows": null,
      "grid_column": null,
      "grid_gap": null,
      "grid_row": null,
      "grid_template_areas": null,
      "grid_template_columns": null,
      "grid_template_rows": null,
      "height": null,
      "justify_content": null,
      "justify_items": null,
      "left": null,
      "margin": null,
      "max_height": null,
      "max_width": null,
      "min_height": null,
      "min_width": null,
      "object_fit": null,
      "object_position": null,
      "order": null,
      "overflow": null,
      "overflow_x": null,
      "overflow_y": null,
      "padding": null,
      "right": null,
      "top": null,
      "visibility": null,
      "width": null
     }
    },
    "6e862b645812480a8fa7841ebe633776": {
     "model_module": "@jupyter-widgets/controls",
     "model_module_version": "1.5.0",
     "model_name": "FloatProgressModel",
     "state": {
      "_dom_classes": [],
      "_model_module": "@jupyter-widgets/controls",
      "_model_module_version": "1.5.0",
      "_model_name": "FloatProgressModel",
      "_view_count": null,
      "_view_module": "@jupyter-widgets/controls",
      "_view_module_version": "1.5.0",
      "_view_name": "ProgressView",
      "bar_style": "success",
      "description": "",
      "description_tooltip": null,
      "layout": "IPY_MODEL_2e9e1c1649c547048d9ad1d474c7e574",
      "max": 1,
      "min": 0,
      "orientation": "horizontal",
      "style": "IPY_MODEL_39e2743686b0461ebbbd17a5aff79725",
      "value": 1
     }
    },
    "722d3f9cf30d4e1f94e987e858252b2d": {
     "model_module": "@jupyter-widgets/base",
     "model_module_version": "1.2.0",
     "model_name": "LayoutModel",
     "state": {
      "_model_module": "@jupyter-widgets/base",
      "_model_module_version": "1.2.0",
      "_model_name": "LayoutModel",
      "_view_count": null,
      "_view_module": "@jupyter-widgets/base",
      "_view_module_version": "1.2.0",
      "_view_name": "LayoutView",
      "align_content": null,
      "align_items": null,
      "align_self": null,
      "border": null,
      "bottom": null,
      "display": null,
      "flex": null,
      "flex_flow": null,
      "grid_area": null,
      "grid_auto_columns": null,
      "grid_auto_flow": null,
      "grid_auto_rows": null,
      "grid_column": null,
      "grid_gap": null,
      "grid_row": null,
      "grid_template_areas": null,
      "grid_template_columns": null,
      "grid_template_rows": null,
      "height": null,
      "justify_content": null,
      "justify_items": null,
      "left": null,
      "margin": null,
      "max_height": null,
      "max_width": null,
      "min_height": null,
      "min_width": null,
      "object_fit": null,
      "object_position": null,
      "order": null,
      "overflow": null,
      "overflow_x": null,
      "overflow_y": null,
      "padding": null,
      "right": null,
      "top": null,
      "visibility": null,
      "width": null
     }
    },
    "726a6c43dcb54eba88f9b26543345e16": {
     "model_module": "@jupyter-widgets/base",
     "model_module_version": "1.2.0",
     "model_name": "LayoutModel",
     "state": {
      "_model_module": "@jupyter-widgets/base",
      "_model_module_version": "1.2.0",
      "_model_name": "LayoutModel",
      "_view_count": null,
      "_view_module": "@jupyter-widgets/base",
      "_view_module_version": "1.2.0",
      "_view_name": "LayoutView",
      "align_content": null,
      "align_items": null,
      "align_self": null,
      "border": null,
      "bottom": null,
      "display": null,
      "flex": null,
      "flex_flow": null,
      "grid_area": null,
      "grid_auto_columns": null,
      "grid_auto_flow": null,
      "grid_auto_rows": null,
      "grid_column": null,
      "grid_gap": null,
      "grid_row": null,
      "grid_template_areas": null,
      "grid_template_columns": null,
      "grid_template_rows": null,
      "height": null,
      "justify_content": null,
      "justify_items": null,
      "left": null,
      "margin": null,
      "max_height": null,
      "max_width": null,
      "min_height": null,
      "min_width": null,
      "object_fit": null,
      "object_position": null,
      "order": null,
      "overflow": null,
      "overflow_x": null,
      "overflow_y": null,
      "padding": null,
      "right": null,
      "top": null,
      "visibility": null,
      "width": null
     }
    },
    "77c3c3f02356428dbc4d45d441aa90f2": {
     "model_module": "@jupyter-widgets/controls",
     "model_module_version": "1.5.0",
     "model_name": "ProgressStyleModel",
     "state": {
      "_model_module": "@jupyter-widgets/controls",
      "_model_module_version": "1.5.0",
      "_model_name": "ProgressStyleModel",
      "_view_count": null,
      "_view_module": "@jupyter-widgets/base",
      "_view_module_version": "1.2.0",
      "_view_name": "StyleView",
      "bar_color": null,
      "description_width": ""
     }
    },
    "82b1927d695841bb928df60062d15f01": {
     "model_module": "@jupyter-widgets/controls",
     "model_module_version": "1.5.0",
     "model_name": "HTMLModel",
     "state": {
      "_dom_classes": [],
      "_model_module": "@jupyter-widgets/controls",
      "_model_module_version": "1.5.0",
      "_model_name": "HTMLModel",
      "_view_count": null,
      "_view_module": "@jupyter-widgets/controls",
      "_view_module_version": "1.5.0",
      "_view_name": "HTMLView",
      "description": "",
      "description_tooltip": null,
      "layout": "IPY_MODEL_b6685ca9a28c4314800c0b1ac01cd9b9",
      "placeholder": "​",
      "style": "IPY_MODEL_fa55e7d9a5784088b2dfe0abedbe75cc",
      "value": " 232k/? [00:00&lt;00:00, 1.44MB/s]"
     }
    },
    "85ab477652bd4e4f8f08ca89ba437568": {
     "model_module": "@jupyter-widgets/controls",
     "model_module_version": "1.5.0",
     "model_name": "DescriptionStyleModel",
     "state": {
      "_model_module": "@jupyter-widgets/controls",
      "_model_module_version": "1.5.0",
      "_model_name": "DescriptionStyleModel",
      "_view_count": null,
      "_view_module": "@jupyter-widgets/base",
      "_view_module_version": "1.2.0",
      "_view_name": "StyleView",
      "description_width": ""
     }
    },
    "85efefa4cb4c4ae3af08ad03b8d31ed1": {
     "model_module": "@jupyter-widgets/controls",
     "model_module_version": "1.5.0",
     "model_name": "HBoxModel",
     "state": {
      "_dom_classes": [],
      "_model_module": "@jupyter-widgets/controls",
      "_model_module_version": "1.5.0",
      "_model_name": "HBoxModel",
      "_view_count": null,
      "_view_module": "@jupyter-widgets/controls",
      "_view_module_version": "1.5.0",
      "_view_name": "HBoxView",
      "box_style": "",
      "children": [
       "IPY_MODEL_4e57a84580bd4cb69355edccc6ce998d",
       "IPY_MODEL_572a11894ace4b6984db028baad5b379",
       "IPY_MODEL_523d705e81f44e2cb6f78fbd88eaa061"
      ],
      "layout": "IPY_MODEL_726a6c43dcb54eba88f9b26543345e16"
     }
    },
    "94ae233d9ee042deb205fea87cd6e143": {
     "model_module": "@jupyter-widgets/controls",
     "model_module_version": "1.5.0",
     "model_name": "DescriptionStyleModel",
     "state": {
      "_model_module": "@jupyter-widgets/controls",
      "_model_module_version": "1.5.0",
      "_model_name": "DescriptionStyleModel",
      "_view_count": null,
      "_view_module": "@jupyter-widgets/base",
      "_view_module_version": "1.2.0",
      "_view_name": "StyleView",
      "description_width": ""
     }
    },
    "9e484eb266834ccaaa59ca975b4d8c84": {
     "model_module": "@jupyter-widgets/controls",
     "model_module_version": "1.5.0",
     "model_name": "HTMLModel",
     "state": {
      "_dom_classes": [],
      "_model_module": "@jupyter-widgets/controls",
      "_model_module_version": "1.5.0",
      "_model_name": "HTMLModel",
      "_view_count": null,
      "_view_module": "@jupyter-widgets/controls",
      "_view_module_version": "1.5.0",
      "_view_name": "HTMLView",
      "description": "",
      "description_tooltip": null,
      "layout": "IPY_MODEL_a3e4f7282f0c4ec59b989b43525cee47",
      "placeholder": "​",
      "style": "IPY_MODEL_85ab477652bd4e4f8f08ca89ba437568",
      "value": "Downloading (…)lve/main/config.json: 100%"
     }
    },
    "a3e4f7282f0c4ec59b989b43525cee47": {
     "model_module": "@jupyter-widgets/base",
     "model_module_version": "1.2.0",
     "model_name": "LayoutModel",
     "state": {
      "_model_module": "@jupyter-widgets/base",
      "_model_module_version": "1.2.0",
      "_model_name": "LayoutModel",
      "_view_count": null,
      "_view_module": "@jupyter-widgets/base",
      "_view_module_version": "1.2.0",
      "_view_name": "LayoutView",
      "align_content": null,
      "align_items": null,
      "align_self": null,
      "border": null,
      "bottom": null,
      "display": null,
      "flex": null,
      "flex_flow": null,
      "grid_area": null,
      "grid_auto_columns": null,
      "grid_auto_flow": null,
      "grid_auto_rows": null,
      "grid_column": null,
      "grid_gap": null,
      "grid_row": null,
      "grid_template_areas": null,
      "grid_template_columns": null,
      "grid_template_rows": null,
      "height": null,
      "justify_content": null,
      "justify_items": null,
      "left": null,
      "margin": null,
      "max_height": null,
      "max_width": null,
      "min_height": null,
      "min_width": null,
      "object_fit": null,
      "object_position": null,
      "order": null,
      "overflow": null,
      "overflow_x": null,
      "overflow_y": null,
      "padding": null,
      "right": null,
      "top": null,
      "visibility": null,
      "width": null
     }
    },
    "b11e270a5ffd46e39b3023a583f7e515": {
     "model_module": "@jupyter-widgets/controls",
     "model_module_version": "1.5.0",
     "model_name": "HBoxModel",
     "state": {
      "_dom_classes": [],
      "_model_module": "@jupyter-widgets/controls",
      "_model_module_version": "1.5.0",
      "_model_name": "HBoxModel",
      "_view_count": null,
      "_view_module": "@jupyter-widgets/controls",
      "_view_module_version": "1.5.0",
      "_view_name": "HBoxView",
      "box_style": "",
      "children": [
       "IPY_MODEL_c2a6f31d03cf40a9a869f7058cbfa29f",
       "IPY_MODEL_6e862b645812480a8fa7841ebe633776",
       "IPY_MODEL_82b1927d695841bb928df60062d15f01"
      ],
      "layout": "IPY_MODEL_722d3f9cf30d4e1f94e987e858252b2d"
     }
    },
    "b6685ca9a28c4314800c0b1ac01cd9b9": {
     "model_module": "@jupyter-widgets/base",
     "model_module_version": "1.2.0",
     "model_name": "LayoutModel",
     "state": {
      "_model_module": "@jupyter-widgets/base",
      "_model_module_version": "1.2.0",
      "_model_name": "LayoutModel",
      "_view_count": null,
      "_view_module": "@jupyter-widgets/base",
      "_view_module_version": "1.2.0",
      "_view_name": "LayoutView",
      "align_content": null,
      "align_items": null,
      "align_self": null,
      "border": null,
      "bottom": null,
      "display": null,
      "flex": null,
      "flex_flow": null,
      "grid_area": null,
      "grid_auto_columns": null,
      "grid_auto_flow": null,
      "grid_auto_rows": null,
      "grid_column": null,
      "grid_gap": null,
      "grid_row": null,
      "grid_template_areas": null,
      "grid_template_columns": null,
      "grid_template_rows": null,
      "height": null,
      "justify_content": null,
      "justify_items": null,
      "left": null,
      "margin": null,
      "max_height": null,
      "max_width": null,
      "min_height": null,
      "min_width": null,
      "object_fit": null,
      "object_position": null,
      "order": null,
      "overflow": null,
      "overflow_x": null,
      "overflow_y": null,
      "padding": null,
      "right": null,
      "top": null,
      "visibility": null,
      "width": null
     }
    },
    "c2a6f31d03cf40a9a869f7058cbfa29f": {
     "model_module": "@jupyter-widgets/controls",
     "model_module_version": "1.5.0",
     "model_name": "HTMLModel",
     "state": {
      "_dom_classes": [],
      "_model_module": "@jupyter-widgets/controls",
      "_model_module_version": "1.5.0",
      "_model_name": "HTMLModel",
      "_view_count": null,
      "_view_module": "@jupyter-widgets/controls",
      "_view_module_version": "1.5.0",
      "_view_name": "HTMLView",
      "description": "",
      "description_tooltip": null,
      "layout": "IPY_MODEL_498d44e92dd4432185d3d9bb91e53cfe",
      "placeholder": "​",
      "style": "IPY_MODEL_c50506f856c345299b26cab7aa12b394",
      "value": "Downloading (…)solve/main/vocab.txt: "
     }
    },
    "c50506f856c345299b26cab7aa12b394": {
     "model_module": "@jupyter-widgets/controls",
     "model_module_version": "1.5.0",
     "model_name": "DescriptionStyleModel",
     "state": {
      "_model_module": "@jupyter-widgets/controls",
      "_model_module_version": "1.5.0",
      "_model_name": "DescriptionStyleModel",
      "_view_count": null,
      "_view_module": "@jupyter-widgets/base",
      "_view_module_version": "1.2.0",
      "_view_name": "StyleView",
      "description_width": ""
     }
    },
    "c549141e9dad4413a16bb404c34abd04": {
     "model_module": "@jupyter-widgets/base",
     "model_module_version": "1.2.0",
     "model_name": "LayoutModel",
     "state": {
      "_model_module": "@jupyter-widgets/base",
      "_model_module_version": "1.2.0",
      "_model_name": "LayoutModel",
      "_view_count": null,
      "_view_module": "@jupyter-widgets/base",
      "_view_module_version": "1.2.0",
      "_view_name": "LayoutView",
      "align_content": null,
      "align_items": null,
      "align_self": null,
      "border": null,
      "bottom": null,
      "display": null,
      "flex": null,
      "flex_flow": null,
      "grid_area": null,
      "grid_auto_columns": null,
      "grid_auto_flow": null,
      "grid_auto_rows": null,
      "grid_column": null,
      "grid_gap": null,
      "grid_row": null,
      "grid_template_areas": null,
      "grid_template_columns": null,
      "grid_template_rows": null,
      "height": null,
      "justify_content": null,
      "justify_items": null,
      "left": null,
      "margin": null,
      "max_height": null,
      "max_width": null,
      "min_height": null,
      "min_width": null,
      "object_fit": null,
      "object_position": null,
      "order": null,
      "overflow": null,
      "overflow_x": null,
      "overflow_y": null,
      "padding": null,
      "right": null,
      "top": null,
      "visibility": null,
      "width": null
     }
    },
    "f949b5ee5e7e4554a1c8420cba65b9db": {
     "model_module": "@jupyter-widgets/controls",
     "model_module_version": "1.5.0",
     "model_name": "HBoxModel",
     "state": {
      "_dom_classes": [],
      "_model_module": "@jupyter-widgets/controls",
      "_model_module_version": "1.5.0",
      "_model_name": "HBoxModel",
      "_view_count": null,
      "_view_module": "@jupyter-widgets/controls",
      "_view_module_version": "1.5.0",
      "_view_name": "HBoxView",
      "box_style": "",
      "children": [
       "IPY_MODEL_9e484eb266834ccaaa59ca975b4d8c84",
       "IPY_MODEL_2cbfb60c16734eb0a71e068282b1102f",
       "IPY_MODEL_1e35c2c2faaf47febd3e4993596f02c9"
      ],
      "layout": "IPY_MODEL_2f6c17fdfef448db8eca64d2e00fa63d"
     }
    },
    "fa55e7d9a5784088b2dfe0abedbe75cc": {
     "model_module": "@jupyter-widgets/controls",
     "model_module_version": "1.5.0",
     "model_name": "DescriptionStyleModel",
     "state": {
      "_model_module": "@jupyter-widgets/controls",
      "_model_module_version": "1.5.0",
      "_model_name": "DescriptionStyleModel",
      "_view_count": null,
      "_view_module": "@jupyter-widgets/base",
      "_view_module_version": "1.2.0",
      "_view_name": "StyleView",
      "description_width": ""
     }
    }
   }
  }
 },
 "nbformat": 4,
 "nbformat_minor": 4
}
