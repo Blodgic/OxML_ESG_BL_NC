{
 "cells": [
  {
   "cell_type": "markdown",
   "id": "5759aa35-41cd-4066-aa4e-a5a6acbe6185",
   "metadata": {},
   "source": [
    "# 1 GPT4ALL to create addtional training data "
   ]
  },
  {
   "cell_type": "code",
   "execution_count": 1,
   "id": "d8f46185-71ff-475d-bbcb-9f92750a1650",
   "metadata": {},
   "outputs": [],
   "source": [
    "# use GPT4ALL LLM model to create addtional training data for Social, Environmental and Governance ESG reports \n",
    "# the for loop below creates mini reports and outputs with the following 3 files which were used to train the BERT model \n",
    "#social_training_GPT3.txt\n",
    "#governance_trianingGPT3.txt\n",
    "#environment_trainingGPT4.txt"
   ]
  },
  {
   "cell_type": "code",
   "execution_count": null,
   "id": "e437cb6d-c77a-431b-8fe7-040a08900d45",
   "metadata": {},
   "outputs": [],
   "source": [
    "#hugging face chat was also used to create one line sentences of addtional training data\n",
    "#https://huggingface.co/chat/"
   ]
  },
  {
   "cell_type": "code",
   "execution_count": null,
   "id": "d3b63486-253c-46e7-a832-e549dccd61bb",
   "metadata": {},
   "outputs": [],
   "source": [
    "#Dependencies \n",
    "#!pip install pyllamacpp\n",
    "#!pip install huggingface_hub"
   ]
  },
  {
   "cell_type": "code",
   "execution_count": null,
   "id": "1e85cca3-4266-4a5d-8504-c929e6aa26e2",
   "metadata": {},
   "outputs": [],
   "source": [
    "#social"
   ]
  },
  {
   "cell_type": "code",
   "execution_count": null,
   "id": "fb54e3ea-e09e-4547-9d56-133d057df433",
   "metadata": {},
   "outputs": [],
   "source": [
    "import random\n",
    "from huggingface_hub import hf_hub_download\n",
    "from pyllamacpp.model import Model\n",
    "\n",
    "# Load the GPT4All model\n",
    "model = Model(ggml_model=\"ggjt-model.bin\", n_ctx=10000)\n",
    "\n",
    "# Prompt question\n",
    "prompt = \"User: Written in the style of a company executive report, provide 5000 word report about a companies focus on Social in a ESG or Environmental, social, and corporate governance. In the report explain a companies dedication to ESG but stress Social as a leading factor for succesful ESG implementaiton.  \\n GPT4ALL: \\n\"\n",
    "\n",
    "# File path for saving the responses\n",
    "file_path = 'Data/social_training_GPT_NEW.txt'\n",
    "\n",
    "# Set the number of iterations\n",
    "num_iterations = 100\n",
    "\n",
    "# Set of unique responses\n",
    "unique_responses = set()\n",
    "\n",
    "# Loop to generate and save unique responses\n",
    "with open(file_path, 'w') as file:\n",
    "    iteration = 0\n",
    "    while iteration < num_iterations:\n",
    "        # Generate response\n",
    "        response = model.generate(prompt, n_predict=20000)\n",
    "        response_text = response.replace(prompt, \"\").strip()\n",
    "        \n",
    "        # Check if the response is unique\n",
    "        if response_text not in unique_responses:\n",
    "            # Write the response to the file\n",
    "            print(iteration)\n",
    "            print(response_text)\n",
    "            file.write(response_text + '\\nunique_linebreak')\n",
    "            \n",
    "            # Add the response to the set of unique responses\n",
    "            unique_responses.add(response_text)\n",
    "            \n",
    "            iteration += 1"
   ]
  },
  {
   "cell_type": "code",
   "execution_count": null,
   "id": "a6208314-dd0e-4ea3-a58c-ef00b6edf453",
   "metadata": {},
   "outputs": [],
   "source": [
    "#governance"
   ]
  },
  {
   "cell_type": "code",
   "execution_count": null,
   "id": "1eb0fdcb-4451-4071-9271-5ff607c8f2a9",
   "metadata": {},
   "outputs": [],
   "source": [
    "# Load the GPT4All model\n",
    "model = Model(ggml_model=\"ggjt-model.bin\", n_ctx=10000)\n",
    "\n",
    "# Prompt question\n",
    "prompt = \"User: Written in the style of a company executive report, provide 5000 word report about a companies focus on Governance in a ESG or Environmental, social, and corporate governance. In the report explain a companies dedication to ESG but stress Governance as a leading factor for succesful ESG implementaiton.  \\n GPT4ALL: \\n\"\n",
    "\n",
    "# File path for saving the responses\n",
    "file_path = 'Data/governance_trianing_NEW.txt'\n",
    "\n",
    "# Set the number of iterations\n",
    "num_iterations = 100\n",
    "\n",
    "# Set of unique responses\n",
    "unique_responses = set()\n",
    "\n",
    "# Loop to generate and save unique responses\n",
    "with open(file_path, 'w') as file:\n",
    "    iteration = 0\n",
    "    while iteration < num_iterations:\n",
    "        # Generate response\n",
    "        response = model.generate(prompt, n_predict=20000)\n",
    "        response_text = response.replace(prompt, \"\").strip()\n",
    "        \n",
    "        # Check if the response is unique\n",
    "        if response_text not in unique_responses:\n",
    "            # Write the response to the file\n",
    "            print(iteration)\n",
    "            print(response_text)\n",
    "            file.write(response_text + '\\nunique_linebreak')\n",
    "            \n",
    "            # Add the response to the set of unique responses\n",
    "            unique_responses.add(response_text)\n",
    "            \n",
    "            iteration += 1"
   ]
  },
  {
   "cell_type": "code",
   "execution_count": null,
   "id": "55cfcf80-265f-49fb-bac5-005d849ed0a9",
   "metadata": {},
   "outputs": [],
   "source": [
    "#environment"
   ]
  },
  {
   "cell_type": "code",
   "execution_count": null,
   "id": "dd789d3f-e18f-49f2-8000-80a7378d5b4b",
   "metadata": {},
   "outputs": [],
   "source": [
    "# Load the GPT4All model\n",
    "model = Model(ggml_model=\"ggjt-model.bin\", n_ctx=10000)\n",
    "\n",
    "# Prompt question\n",
    "prompt = \"User: Written in the style of a company executive report, provide 5000 word report about a companies focus on environment in a ESG or Environmental, social, and corporate governance. In the report explain a companies dedication to ESG but stress environment as a leading factor for succesful ESG implementaiton.  \\n GPT4ALL: \\n\"\n",
    "\n",
    "# File path for saving the responses\n",
    "file_path = 'Data/environment_training_N.txt'\n",
    "\n",
    "# Set the number of iterations\n",
    "num_iterations = 100\n",
    "\n",
    "# Set of unique responses\n",
    "unique_responses = set()\n",
    "\n",
    "# Loop to generate and save unique responses\n",
    "with open(file_path, 'w') as file:\n",
    "    iteration = 0\n",
    "    while iteration < num_iterations:\n",
    "        # Generate response\n",
    "        response = model.generate(prompt, n_predict=20000)\n",
    "        response_text = response.replace(prompt, \"\").strip()\n",
    "        \n",
    "        # Check if the response is unique\n",
    "        if response_text not in unique_responses:\n",
    "            # Write the response to the file\n",
    "            print(iteration)\n",
    "            print(response_text)appyes\n",
    "            file.write(response_text + '\\nunique_linebreak')\n",
    "            \n",
    "            # Add the response to the set of unique responses\n",
    "            unique_responses.add(response_text)\n",
    "            \n",
    "            iteration += 1"
   ]
  }
 ],
 "metadata": {
  "kernelspec": {
   "display_name": "Python 3 (ipykernel)",
   "language": "python",
   "name": "python3"
  },
  "language_info": {
   "codemirror_mode": {
    "name": "ipython",
    "version": 3
   },
   "file_extension": ".py",
   "mimetype": "text/x-python",
   "name": "python",
   "nbconvert_exporter": "python",
   "pygments_lexer": "ipython3",
   "version": "3.9.16"
  }
 },
 "nbformat": 4,
 "nbformat_minor": 5
}
